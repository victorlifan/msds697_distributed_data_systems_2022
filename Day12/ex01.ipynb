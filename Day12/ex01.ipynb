{
 "cells": [
  {
   "cell_type": "code",
   "execution_count": 1,
   "id": "af4dfbc6",
   "metadata": {},
   "outputs": [
    {
     "name": "stderr",
     "output_type": "stream",
     "text": [
      "22/03/02 13:50:39 WARN NativeCodeLoader: Unable to load native-hadoop library for your platform... using builtin-java classes where applicable\n",
      "Using Spark's default log4j profile: org/apache/spark/log4j-defaults.properties\n",
      "Setting default log level to \"WARN\".\n",
      "To adjust logging level use sc.setLogLevel(newLevel). For SparkR, use setLogLevel(newLevel).\n",
      "22/03/02 13:50:40 WARN Utils: Service 'SparkUI' could not bind on port 4040. Attempting port 4041.\n",
      "22/03/02 13:50:40 WARN Utils: Service 'SparkUI' could not bind on port 4041. Attempting port 4042.\n",
      "22/03/02 13:50:40 WARN Utils: Service 'SparkUI' could not bind on port 4042. Attempting port 4043.\n",
      "22/03/02 13:50:40 WARN Utils: Service 'SparkUI' could not bind on port 4043. Attempting port 4044.\n",
      "22/03/02 13:50:41 WARN InternalH2OBackend: Increasing 'spark.locality.wait' to value 0 (Infinitive) as we need to ensure we run on the nodes with H2O\n"
     ]
    },
    {
     "name": "stdout",
     "output_type": "stream",
     "text": [
      "03-02 13:50:43.775 192.168.0.166:54325   82857    Thread-4  INFO water.default: ----- H2O started  -----\n",
      "03-02 13:50:43.776 192.168.0.166:54325   82857    Thread-4  INFO water.default: Build git branch: rel-zorn\n",
      "03-02 13:50:43.776 192.168.0.166:54325   82857    Thread-4  INFO water.default: Build git hash: 717d8bf831d5d6b0decda9c37a2a20de9a491754\n",
      "03-02 13:50:43.776 192.168.0.166:54325   82857    Thread-4  INFO water.default: Build git describe: jenkins-3.36.0.2-53-g717d8bf\n",
      "03-02 13:50:43.776 192.168.0.166:54325   82857    Thread-4  INFO water.default: Build project version: 3.36.0.3\n",
      "03-02 13:50:43.777 192.168.0.166:54325   82857    Thread-4  INFO water.default: Build age: 13 days\n",
      "03-02 13:50:43.777 192.168.0.166:54325   82857    Thread-4  INFO water.default: Built by: 'jenkins'\n",
      "03-02 13:50:43.777 192.168.0.166:54325   82857    Thread-4  INFO water.default: Built on: '2022-02-16 17:51:32'\n",
      "03-02 13:50:43.777 192.168.0.166:54325   82857    Thread-4  INFO water.default: Found H2O Core extensions: [HiveTableImporter, StackTraceCollector, MojoPipeline, HiveFrameSaver, XGBoost]\n",
      "03-02 13:50:43.777 192.168.0.166:54325   82857    Thread-4  INFO water.default: Processed H2O arguments: [-internal_security_conf_rel_paths, -name, sparkling-water-dwoodbridge_local-1646257840286, -port_offset, 1, -hdfs_config, /private/var/folders/0q/77jvn_416ybbg7m9_c4f7xkw2wwy7f/T/spark-9f39f4f1-aef1-4519-bcea-18ff7da6baaa/userFiles-d9a3ca89-3a14-4405-b434-b1c4c28414e9/hdfs_conf4414908383158149082.xml, -log_level, INFO, -embedded, -baseport, 54321, -log_dir, /Users/dwoodbridge/Class/2022_MSDS697/Examples/Day12/h2ologs/local-1646257840286, -quiet, -flatfile, /private/var/folders/0q/77jvn_416ybbg7m9_c4f7xkw2wwy7f/T/spark-9f39f4f1-aef1-4519-bcea-18ff7da6baaa/sparkling-water-c2bf2c68-ac38-4371-add5-bc4d7072a331/flatfile.txt]\n",
      "03-02 13:50:43.777 192.168.0.166:54325   82857    Thread-4  INFO water.default: Java availableProcessors: 16\n",
      "03-02 13:50:43.778 192.168.0.166:54325   82857    Thread-4  INFO water.default: Java heap totalMemory: 471.5 MB\n",
      "03-02 13:50:43.778 192.168.0.166:54325   82857    Thread-4  INFO water.default: Java heap maxMemory: 910.5 MB\n",
      "03-02 13:50:43.778 192.168.0.166:54325   82857    Thread-4  INFO water.default: Java version: Java 1.8.0_292 (from AdoptOpenJDK)\n",
      "03-02 13:50:43.778 192.168.0.166:54325   82857    Thread-4  INFO water.default: JVM launch parameters: [-Xmx1g]\n",
      "03-02 13:50:43.778 192.168.0.166:54325   82857    Thread-4  INFO water.default: JVM process id: 82857@ML-ITS-901885\n",
      "03-02 13:50:43.778 192.168.0.166:54325   82857    Thread-4  INFO water.default: OS version: Mac OS X 10.15.7 (x86_64)\n",
      "03-02 13:50:43.778 192.168.0.166:54325   82857    Thread-4  INFO water.default: Machine physical memory: 32.00 GB\n",
      "03-02 13:50:43.778 192.168.0.166:54325   82857    Thread-4  INFO water.default: Machine locale: en_US\n",
      "03-02 13:50:43.779 192.168.0.166:54325   82857    Thread-4  INFO water.default: X-h2o-cluster-id: 1646257841445\n",
      "03-02 13:50:43.779 192.168.0.166:54325   82857    Thread-4  INFO water.default: User name: 'dwoodbridge'\n",
      "03-02 13:50:43.779 192.168.0.166:54325   82857    Thread-4  INFO water.default: IPv6 stack selected: false\n",
      "03-02 13:50:43.779 192.168.0.166:54325   82857    Thread-4  INFO water.default: Network address/interface is not reachable in 150ms: /fe80:0:0:0:616b:681b:ab69:ae0b%utun10/name:utun10 (utun10)\n",
      "03-02 13:50:43.779 192.168.0.166:54325   82857    Thread-4  INFO water.default: Network address/interface is not reachable in 150ms: /fe80:0:0:0:a94f:54a2:f217:4cbe%utun9/name:utun9 (utun9)\n",
      "03-02 13:50:43.780 192.168.0.166:54325   82857    Thread-4  INFO water.default: Network address/interface is not reachable in 150ms: /fe80:0:0:0:8f18:ccba:1dab:15e8%utun8/name:utun8 (utun8)\n",
      "03-02 13:50:43.780 192.168.0.166:54325   82857    Thread-4  INFO water.default: Network address/interface is not reachable in 150ms: /fe80:0:0:0:f166:ca36:4bf6:27ad%utun7/name:utun7 (utun7)\n",
      "03-02 13:50:43.780 192.168.0.166:54325   82857    Thread-4  INFO water.default: Network address/interface is not reachable in 150ms: /fe80:0:0:0:9303:ae7d:11cb:bd8d%utun5/name:utun5 (utun5)\n",
      "03-02 13:50:43.780 192.168.0.166:54325   82857    Thread-4  INFO water.default: Network address/interface is not reachable in 150ms: /fe80:0:0:0:31dd:26f6:4dfb:9b3a%utun4/name:utun4 (utun4)\n",
      "03-02 13:50:43.780 192.168.0.166:54325   82857    Thread-4  INFO water.default: Network address/interface is not reachable in 150ms: /fe80:0:0:0:3735:1ba1:d2b9:264%utun3/name:utun3 (utun3)\n",
      "03-02 13:50:43.781 192.168.0.166:54325   82857    Thread-4  INFO water.default: Network address/interface is not reachable in 150ms: /fe80:0:0:0:da47:b35:fa95:4caa%utun2/name:utun2 (utun2)\n",
      "03-02 13:50:43.781 192.168.0.166:54325   82857    Thread-4  INFO water.default: Network address/interface is not reachable in 150ms: /fe80:0:0:0:f1d2:1055:1408:f2ac%utun1/name:utun1 (utun1)\n",
      "03-02 13:50:43.781 192.168.0.166:54325   82857    Thread-4  INFO water.default: Network address/interface is not reachable in 150ms: /fe80:0:0:0:3dd6:42bb:b74c:ca15%utun0/name:utun0 (utun0)\n",
      "03-02 13:50:43.781 192.168.0.166:54325   82857    Thread-4  INFO water.default: Possible IP Address: llw0 (llw0), fe80:0:0:0:3835:61ff:fe56:6e02%llw0\n",
      "03-02 13:50:43.781 192.168.0.166:54325   82857    Thread-4  INFO water.default: Network address/interface is not reachable in 150ms: /fe80:0:0:0:3835:61ff:fe56:6e02%awdl0/name:awdl0 (awdl0)\n",
      "03-02 13:50:43.782 192.168.0.166:54325   82857    Thread-4  INFO water.default: Network address/interface is not reachable in 150ms: /fe80:0:0:0:aede:48ff:fe00:1122%en5/name:en5 (en5)\n",
      "03-02 13:50:43.782 192.168.0.166:54325   82857    Thread-4  INFO water.default: Possible IP Address: en0 (en0), fe80:0:0:0:447:ee50:c3d3:c40b%en0\n",
      "03-02 13:50:43.782 192.168.0.166:54325   82857    Thread-4  INFO water.default: Possible IP Address: en0 (en0), 192.168.0.166\n",
      "03-02 13:50:43.782 192.168.0.166:54325   82857    Thread-4  INFO water.default: Possible IP Address: lo0 (lo0), fe80:0:0:0:0:0:0:1%lo0\n",
      "03-02 13:50:43.782 192.168.0.166:54325   82857    Thread-4  INFO water.default: Possible IP Address: lo0 (lo0), 0:0:0:0:0:0:0:1%lo0\n",
      "03-02 13:50:43.782 192.168.0.166:54325   82857    Thread-4  INFO water.default: Possible IP Address: lo0 (lo0), 127.0.0.1\n",
      "03-02 13:50:43.782 192.168.0.166:54325   82857    Thread-4  INFO water.default: H2O node running in unencrypted mode.\n",
      "03-02 13:50:43.784 192.168.0.166:54325   82857    Thread-4  INFO water.default: Internal communication uses port: 54326\n",
      "03-02 13:50:43.784 192.168.0.166:54325   82857    Thread-4  INFO water.default: Listening for HTTP and REST traffic on http://192.168.0.166:54325/\n",
      "03-02 13:50:43.787 192.168.0.166:54325   82857    Thread-4  WARN water.default: Flatfile configuration does not include self: /192.168.0.166:54325, but contains []\n",
      "03-02 13:50:43.787 192.168.0.166:54325   82857    Thread-4  INFO water.default: H2O cloud name: 'sparkling-water-dwoodbridge_local-1646257840286' on /192.168.0.166:54325, static configuration based on -flatfile /private/var/folders/0q/77jvn_416ybbg7m9_c4f7xkw2wwy7f/T/spark-9f39f4f1-aef1-4519-bcea-18ff7da6baaa/sparkling-water-c2bf2c68-ac38-4371-add5-bc4d7072a331/flatfile.txt\n",
      "03-02 13:50:43.787 192.168.0.166:54325   82857    Thread-4  INFO water.default: If you have trouble connecting, try SSH tunneling from your local machine (e.g., via port 55555):\n",
      "03-02 13:50:43.787 192.168.0.166:54325   82857    Thread-4  INFO water.default:   1. Open a terminal and run 'ssh -L 55555:localhost:54325 dwoodbridge@192.168.0.166'\n",
      "03-02 13:50:43.787 192.168.0.166:54325   82857    Thread-4  INFO water.default:   2. Point your browser to http://localhost:55555\n",
      "03-02 13:50:44.279 192.168.0.166:54325   82857    Thread-4  INFO water.default: Log dir: '/Users/dwoodbridge/Class/2022_MSDS697/Examples/Day12/h2ologs/local-1646257840286'\n",
      "03-02 13:50:44.279 192.168.0.166:54325   82857    Thread-4  INFO water.default: Cur dir: '/Users/dwoodbridge/Class/2022_MSDS697/Examples/Day12'\n",
      "03-02 13:50:44.288 192.168.0.166:54325   82857    Thread-4  INFO water.default: Distributed HTTP import not available (import from HTTP/HTTPS will be eager)\n",
      "03-02 13:50:44.291 192.168.0.166:54325   82857    Thread-4  INFO water.default: HDFS subsystem successfully initialized\n",
      "03-02 13:50:44.296 192.168.0.166:54325   82857    Thread-4  INFO water.default: S3 subsystem successfully initialized\n",
      "03-02 13:50:44.330 192.168.0.166:54325   82857    Thread-4  INFO water.default: GCS subsystem successfully initialized\n",
      "03-02 13:50:44.332 192.168.0.166:54325   82857    Thread-4  INFO water.default: Flow dir: '/Users/dwoodbridge/h2oflows'\n",
      "03-02 13:50:44.349 192.168.0.166:54325   82857    Thread-4  INFO water.default: Cloud of size 1 formed [192.168.0.166/192.168.0.166:54325]\n",
      "03-02 13:50:44.367 192.168.0.166:54325   82857    Thread-4  INFO water.default: Registered parsers: [GUESS, ARFF, XLS, SVMLight, AVRO, PARQUET, ORC, CSV]\n",
      "03-02 13:50:44.367 192.168.0.166:54325   82857    Thread-4  INFO water.default: HiveTableImporter extension initialized\n",
      "03-02 13:50:44.368 192.168.0.166:54325   82857    Thread-4  INFO water.default: StackTraceCollector extension initialized\n",
      "03-02 13:50:44.368 192.168.0.166:54325   82857    Thread-4  INFO water.default: MojoPipeline extension initialized\n",
      "03-02 13:50:44.368 192.168.0.166:54325   82857    Thread-4  INFO water.default: HiveFrameSaver extension initialized\n",
      "03-02 13:50:44.368 192.168.0.166:54325   82857    Thread-4  INFO water.default: XGBoost extension initialized\n",
      "03-02 13:50:44.368 192.168.0.166:54325   82857    Thread-4  INFO water.default: Registered 5 core extensions in: 427ms\n",
      "03-02 13:50:44.369 192.168.0.166:54325   82857    Thread-4  INFO water.default: Registered H2O core extensions: [HiveTableImporter, StackTraceCollector, MojoPipeline, HiveFrameSaver, XGBoost]\n"
     ]
    },
    {
     "name": "stdout",
     "output_type": "stream",
     "text": [
      "03-02 13:50:44.784 192.168.0.166:54325   82857    Thread-4  INFO hex.tree.xgboost.XGBoostExtension: Found XGBoost backend with library: xgboost4j_minimal\n",
      "03-02 13:50:44.784 192.168.0.166:54325   82857    Thread-4  WARN hex.tree.xgboost.XGBoostExtension: Your system supports only minimal version of XGBoost (no GPUs, no multithreading)!\n",
      "03-02 13:50:44.908 192.168.0.166:54325   82857    Thread-4  INFO water.default: Registered: 270 REST APIs in: 539ms\n",
      "03-02 13:50:44.909 192.168.0.166:54325   82857    Thread-4  INFO water.default: Registered REST API extensions: [XGBoost, Algos, Amazon S3, Sparkling Water REST API Extensions, AutoML, Core V3, TargetEncoder, Core V4]\n",
      "03-02 13:50:45.021 192.168.0.166:54325   82857    Thread-4  INFO water.default: Registered: 326 schemas in 112ms\n",
      "03-02 13:50:45.021 192.168.0.166:54325   82857    Thread-4  INFO water.default: H2O started in 3596ms\n",
      "03-02 13:50:45.021 192.168.0.166:54325   82857    Thread-4  INFO water.default: \n",
      "03-02 13:50:45.021 192.168.0.166:54325   82857    Thread-4  INFO water.default: Open H2O Flow in your web browser: http://192.168.0.166:54325\n",
      "03-02 13:50:45.021 192.168.0.166:54325   82857    Thread-4  INFO water.default: \n",
      "03-02 13:50:45.024 192.168.0.166:54325   82857    Thread-4  INFO ai.h2o.sparkling.H2OContext: Connecting to H2O cluster.\n",
      "03-02 13:50:45.025 192.168.0.166:54325   82857    Thread-4  INFO ai.h2o.sparkling.H2OContext: Trying to lock H2O cluster 192.168.0.166:54325 - sparkling-water-dwoodbridge_local-1646257840286.\n",
      "03-02 13:50:45.112 192.168.0.166:54325   82857  8298793-92  INFO water.default: POST /3/CloudLock, parms: {reason=Locked from Sparkling Water.}\n",
      "03-02 13:50:45.114 192.168.0.166:54325   82857  8298793-92  INFO water.default: Locking cloud to new members, because requested via REST api. Reason: Locked from Sparkling Water.\n",
      "03-02 13:50:45.155 192.168.0.166:54325   82857    Thread-4  INFO ai.h2o.sparkling.backend.utils.RestApiUtils: H2O node http://192.168.0.166:54325/3/CloudLock successfully responded for the POST.\n",
      "03-02 13:50:45.169 192.168.0.166:54325   82857  8298793-83  INFO water.default: GET /3/verifyWebOpen, parms: {}\n",
      "03-02 13:50:45.236 192.168.0.166:54325   82857    Thread-4  INFO ai.h2o.sparkling.backend.utils.RestApiUtils: H2O node http://192.168.0.166:54325/3/verifyWebOpen successfully responded for the GET.\n",
      "03-02 13:50:45.240 192.168.0.166:54325   82857  298793-101  INFO water.default: GET /3/verifyVersion, parms: {referenced_version=3.36.0.3}\n",
      "03-02 13:50:45.258 192.168.0.166:54325   82857    Thread-4  INFO ai.h2o.sparkling.backend.utils.RestApiUtils: H2O node http://192.168.0.166:54325/3/verifyVersion?referenced_version=3.36.0.3 successfully responded for the GET.\n",
      "03-02 13:50:45.287 192.168.0.166:54325   82857    Thread-4  INFO ai.h2o.sparkling.backend.utils.RestApiUtils: H2O node http://192.168.0.166:54325/3/Cloud successfully responded for the GET.\n",
      "03-02 13:50:45.293 192.168.0.166:54325   82857  298793-101  INFO water.default: GET /3/LogLevel, parms: {}\n",
      "03-02 13:50:45.303 192.168.0.166:54325   82857    Thread-4  INFO ai.h2o.sparkling.backend.utils.RestApiUtils: H2O node http://192.168.0.166:54325/3/LogLevel successfully responded for the GET.\n",
      "03-02 13:50:45.305 192.168.0.166:54325   82857  298793-103  INFO water.default: POST /99/Rapids, parms: {ast=(setTimeZone \"UTC\")}\n",
      "03-02 13:50:45.449 192.168.0.166:54325   82857    Thread-4  INFO ai.h2o.sparkling.backend.utils.RestApiUtils: H2O node http://192.168.0.166:54325/99/Rapids successfully responded for the POST.\n",
      "03-02 13:50:45.464 192.168.0.166:54325   82857    Thread-4  INFO ai.h2o.sparkling.backend.utils.ProxyStarter: Trying to bind on 192.168.0.166:54323 using 0.0.0.0 ip address\n",
      "03-02 13:50:45.465 192.168.0.166:54325   82857    Thread-4  WARN ai.h2o.sparkling.backend.utils.ProxyStarter: Tried using port 54323 for Flow proxy, but port was already occupied!\n",
      "03-02 13:50:45.466 192.168.0.166:54325   82857    Thread-4  INFO ai.h2o.sparkling.backend.utils.ProxyStarter: Trying to bind on 192.168.0.166:54324 using 0.0.0.0 ip address\n",
      "03-02 13:50:45.686 192.168.0.166:54325   82857    Thread-4  INFO org.apache.spark.util.SignalUtils: Registering signal handler for INT\n",
      "03-02 13:50:52.517 192.168.0.166:54325   82857    Thread-4  INFO ai.h2o.org.eclipse.jetty.server.Server: jetty-9.4.z-SNAPSHOT; built: 2018-06-05T18:24:03.829Z; git: d5fc0523cfa96bfebfbda19606cad384d772f04c; jvm 1.8.0_292-b10\n",
      "03-02 13:50:52.535 192.168.0.166:54325   82857    Thread-4  INFO ai.h2o.org.eclipse.jetty.server.handler.ContextHandler: Started a.h.o.e.j.s.ServletContextHandler@4fa11d70{/,null,AVAILABLE}\n",
      "03-02 13:50:52.536 192.168.0.166:54325   82857    Thread-4  INFO ai.h2o.org.eclipse.jetty.server.AbstractConnector: Started ServerConnector@3891196d{HTTP/1.1,[http/1.1]}{0.0.0.0:54324}\n",
      "03-02 13:50:52.537 192.168.0.166:54325   82857    Thread-4  INFO ai.h2o.org.eclipse.jetty.server.Server: Started @14571ms\n",
      "03-02 13:50:52.543 192.168.0.166:54325   82857    Thread-4  INFO ai.h2o.sparkling.backend.utils.RestApiUtils: H2O node http://192.168.0.166:54325/3/Cloud successfully responded for the GET.\n",
      "03-02 13:50:52.599 192.168.0.166:54325   82857    Thread-4  INFO ai.h2o.sparkling.H2OContext: Sparkling Water 3.36.0.3-1-3.2 started, status of context: \n",
      "Sparkling Water Context:\n",
      " * Sparkling Water Version: 3.36.0.3-1-3.2\n",
      " * H2O name: sparkling-water-dwoodbridge_local-1646257840286\n",
      " * cluster size: 1\n",
      " * list of used nodes:\n",
      "  (executorId, host, port)\n",
      "  ------------------------\n",
      "  (0,192.168.0.166,54325)\n",
      "  ------------------------\n",
      "\n",
      "  Open H2O Flow in browser: http://192.168.0.166:54324 (CMD + click in Mac OSX)\n",
      "\n",
      "     \n",
      "Connecting to H2O server at http://192.168.0.166:54324 ...03-02 13:50:52.654 192.168.0.166:54325   82857  8298793-86  INFO water.default: GET /3/Metadata/schemas/CloudV3, parms: {}\n",
      "03-02 13:50:52.697 192.168.0.166:54325   82857  8298793-83  INFO water.default: GET /3/Metadata/schemas/H2OErrorV3, parms: {}\n",
      "03-02 13:50:52.708 192.168.0.166:54325   82857  298793-101  INFO water.default: GET /3/Metadata/schemas/H2OModelBuilderErrorV3, parms: {}\n",
      " successful.\n"
     ]
    },
    {
     "data": {
      "text/html": [
       "<div style=\"overflow:auto\"><table style=\"width:50%\"><tr><td>H2O_cluster_uptime:</td>\n",
       "<td>10 secs</td></tr>\n",
       "<tr><td>H2O_cluster_timezone:</td>\n",
       "<td>Pacific/Pitcairn</td></tr>\n",
       "<tr><td>H2O_data_parsing_timezone:</td>\n",
       "<td>UTC</td></tr>\n",
       "<tr><td>H2O_cluster_version:</td>\n",
       "<td>3.36.0.3</td></tr>\n",
       "<tr><td>H2O_cluster_version_age:</td>\n",
       "<td>13 days </td></tr>\n",
       "<tr><td>H2O_cluster_name:</td>\n",
       "<td>sparkling-water-dwoodbridge_local-1646257840286</td></tr>\n",
       "<tr><td>H2O_cluster_total_nodes:</td>\n",
       "<td>1</td></tr>\n",
       "<tr><td>H2O_cluster_free_memory:</td>\n",
       "<td>798 Mb</td></tr>\n",
       "<tr><td>H2O_cluster_total_cores:</td>\n",
       "<td>16</td></tr>\n",
       "<tr><td>H2O_cluster_allowed_cores:</td>\n",
       "<td>16</td></tr>\n",
       "<tr><td>H2O_cluster_status:</td>\n",
       "<td>locked, healthy</td></tr>\n",
       "<tr><td>H2O_connection_url:</td>\n",
       "<td>http://192.168.0.166:54324</td></tr>\n",
       "<tr><td>H2O_connection_proxy:</td>\n",
       "<td>null</td></tr>\n",
       "<tr><td>H2O_internal_security:</td>\n",
       "<td>False</td></tr>\n",
       "<tr><td>Python_version:</td>\n",
       "<td>3.7.11 final</td></tr></table></div>"
      ],
      "text/plain": [
       "--------------------------  -----------------------------------------------\n",
       "H2O_cluster_uptime:         10 secs\n",
       "H2O_cluster_timezone:       Pacific/Pitcairn\n",
       "H2O_data_parsing_timezone:  UTC\n",
       "H2O_cluster_version:        3.36.0.3\n",
       "H2O_cluster_version_age:    13 days\n",
       "H2O_cluster_name:           sparkling-water-dwoodbridge_local-1646257840286\n",
       "H2O_cluster_total_nodes:    1\n",
       "H2O_cluster_free_memory:    798 Mb\n",
       "H2O_cluster_total_cores:    16\n",
       "H2O_cluster_allowed_cores:  16\n",
       "H2O_cluster_status:         locked, healthy\n",
       "H2O_connection_url:         http://192.168.0.166:54324\n",
       "H2O_connection_proxy:       null\n",
       "H2O_internal_security:      False\n",
       "Python_version:             3.7.11 final\n",
       "--------------------------  -----------------------------------------------"
      ]
     },
     "metadata": {},
     "output_type": "display_data"
    },
    {
     "name": "stdout",
     "output_type": "stream",
     "text": [
      "\n",
      "Sparkling Water Context:\n",
      " * Sparkling Water Version: 3.36.0.3-1-3.2\n",
      " * H2O name: sparkling-water-dwoodbridge_local-1646257840286\n",
      " * cluster size: 1\n",
      " * list of used nodes:\n",
      "  (executorId, host, port)\n",
      "  ------------------------\n",
      "  (0,192.168.0.166,54325)\n",
      "  ------------------------\n",
      "\n",
      "  Open H2O Flow in browser: http://192.168.0.166:54324 (CMD + click in Mac OSX)\n",
      "\n",
      "    \n"
     ]
    }
   ],
   "source": [
    "from pyspark.sql import SparkSession\n",
    "from pysparkling import *\n",
    "from pyspark.sql.types import *\n",
    "\n",
    "ss = SparkSession.builder.getOrCreate()\n",
    "hc = H2OContext.getOrCreate()"
   ]
  },
  {
   "cell_type": "markdown",
   "id": "17d0cc52",
   "metadata": {},
   "source": [
    "## Create from Spark DataFrame"
   ]
  },
  {
   "cell_type": "code",
   "execution_count": 2,
   "id": "7384b691",
   "metadata": {},
   "outputs": [],
   "source": [
    "def toDoubleSafe(v):\n",
    "    try:\n",
    "        return float(v)\n",
    "    except:\n",
    "        return str(v) #if it is not a float type return as a string.\n",
    "    \n",
    "adultschema = StructType([\n",
    "    StructField(\"age\",DoubleType(),True),\n",
    "    StructField(\"workclass\",StringType(),True),\n",
    "    StructField(\"fnlwgt\",DoubleType(),True),\n",
    "    StructField(\"education\",StringType(),True),\n",
    "    StructField(\"marital_status\",StringType(),True),\n",
    "    StructField(\"occupation\",StringType(),True),\n",
    "    StructField(\"relationship\",StringType(),True),\n",
    "    StructField(\"race\",StringType(),True),\n",
    "    StructField(\"sex\",StringType(),True),\n",
    "    StructField(\"capital_gain\",DoubleType(),True),\n",
    "    StructField(\"capital_loss\",DoubleType(),True),\n",
    "    StructField(\"hours_per_week\",DoubleType(),True),\n",
    "    StructField(\"native_country\",StringType(),True),\n",
    "    StructField(\"income\",StringType(),True)\n",
    "])"
   ]
  },
  {
   "cell_type": "code",
   "execution_count": 3,
   "id": "4457c2e4",
   "metadata": {},
   "outputs": [
    {
     "name": "stdout",
     "output_type": "stream",
     "text": [
      "03-02 13:50:53.004 192.168.0.166:54325   82857    Thread-4  INFO org.apache.spark.storage.memory.MemoryStore: Block broadcast_0 stored as values in memory (estimated size 355.1 KiB, free 366.0 MiB)\n",
      "03-02 13:50:53.133 192.168.0.166:54325   82857    Thread-4  INFO org.apache.spark.storage.memory.MemoryStore: Block broadcast_0_piece0 stored as bytes in memory (estimated size 32.2 KiB, free 365.9 MiB)\n",
      "03-02 13:50:53.135 192.168.0.166:54325   82857  agerMaster  INFO org.apache.spark.storage.BlockManagerInfo: Added broadcast_0_piece0 in memory on 192.168.0.166:49466 (size: 32.2 KiB, free: 366.3 MiB)\n",
      "03-02 13:50:53.138 192.168.0.166:54325   82857    Thread-4  INFO org.apache.spark.SparkContext: Created broadcast 0 from textFile at NativeMethodAccessorImpl.java:0\n",
      "03-02 13:50:53.342 192.168.0.166:54325   82857    Thread-4  INFO org.apache.spark.sql.internal.SharedState: Setting hive.metastore.warehouse.dir ('null') to the value of spark.sql.warehouse.dir.\n",
      "03-02 13:50:53.343 192.168.0.166:54325   82857    Thread-4  INFO org.apache.spark.sql.internal.SharedState: Warehouse path is 'file:/Users/dwoodbridge/Class/2022_MSDS697/Examples/Day12/spark-warehouse'.\n"
     ]
    }
   ],
   "source": [
    "#load and convert the data\n",
    "census_raw = ss.sparkContext.textFile(\"../Data/adult.raw\", 4).map(lambda x:  x.split(\", \"))\n",
    "census_raw = census_raw.map(lambda row:  [toDoubleSafe(x) for x in row])\n",
    "\n",
    "dfraw = ss.createDataFrame(census_raw, adultschema)\n"
   ]
  },
  {
   "cell_type": "code",
   "execution_count": 4,
   "id": "9a060943",
   "metadata": {},
   "outputs": [
    {
     "name": "stdout",
     "output_type": "stream",
     "text": [
      "03-02 13:50:55.005 192.168.0.166:54325   82857    Thread-4  INFO org.apache.spark.sql.catalyst.expressions.codegen.CodeGenerator: Code generated in 193.958105 ms\n",
      "03-02 13:50:55.097 192.168.0.166:54325   82857  8298793-92  INFO water.default: POST /3/InitializeFrame, parms: {key=adult, columns=[\"age\",\"workclass\",\"fnlwgt\",\"education\",\"marital_status\",\"occupation\",\"relationship\",\"race\",\"sex\",\"capital_gain\",\"capital_loss\",\"hours_per_week\",\"native_country\",\"income\"]}\n",
      "03-02 13:50:55.122 192.168.0.166:54325   82857    Thread-4  INFO ai.h2o.sparkling.H2OFrame: H2O node http://192.168.0.166:54325/3/InitializeFrame successfully responded for the POST.\n",
      "03-02 13:50:55.249 192.168.0.166:54325   82857    Thread-4  INFO org.apache.spark.SparkContext: Starting job: collect at Writer.scala:169\n",
      "03-02 13:50:55.263 192.168.0.166:54325   82857  event-loop  INFO org.apache.spark.scheduler.DAGScheduler: Got job 0 (collect at Writer.scala:169) with 4 output partitions\n",
      "03-02 13:50:55.263 192.168.0.166:54325   82857  event-loop  INFO org.apache.spark.scheduler.DAGScheduler: Final stage: ResultStage 0 (collect at Writer.scala:169)\n",
      "03-02 13:50:55.263 192.168.0.166:54325   82857  event-loop  INFO org.apache.spark.scheduler.DAGScheduler: Parents of final stage: List()\n",
      "03-02 13:50:55.264 192.168.0.166:54325   82857  event-loop  INFO org.apache.spark.scheduler.DAGScheduler: Missing parents: List()\n",
      "03-02 13:50:55.268 192.168.0.166:54325   82857  event-loop  INFO org.apache.spark.scheduler.DAGScheduler: Submitting ResultStage 0 (MapPartitionsRDD[11] at mapPartitionsWithIndex at Writer.scala:169), which has no missing parents\n",
      "03-02 13:50:55.292 192.168.0.166:54325   82857  event-loop  INFO org.apache.spark.storage.memory.MemoryStore: Block broadcast_1 stored as values in memory (estimated size 35.1 KiB, free 365.9 MiB)\n",
      "03-02 13:50:55.295 192.168.0.166:54325   82857  event-loop  INFO org.apache.spark.storage.memory.MemoryStore: Block broadcast_1_piece0 stored as bytes in memory (estimated size 15.0 KiB, free 365.9 MiB)\n",
      "03-02 13:50:55.295 192.168.0.166:54325   82857  agerMaster  INFO org.apache.spark.storage.BlockManagerInfo: Added broadcast_1_piece0 in memory on 192.168.0.166:49466 (size: 15.0 KiB, free: 366.3 MiB)\n",
      "03-02 13:50:55.296 192.168.0.166:54325   82857  event-loop  INFO org.apache.spark.SparkContext: Created broadcast 1 from broadcast at DAGScheduler.scala:1427\n",
      "03-02 13:50:55.315 192.168.0.166:54325   82857  event-loop  INFO org.apache.spark.scheduler.DAGScheduler: Submitting 4 missing tasks from ResultStage 0 (MapPartitionsRDD[11] at mapPartitionsWithIndex at Writer.scala:169) (first 15 tasks are for partitions Vector(0, 1, 2, 3))\n",
      "03-02 13:50:55.317 192.168.0.166:54325   82857  event-loop  INFO org.apache.spark.scheduler.TaskSchedulerImpl: Adding task set 0.0 with 4 tasks resource profile 0\n",
      "03-02 13:50:55.382 192.168.0.166:54325   82857  ent-loop-1  INFO org.apache.spark.scheduler.TaskSetManager: Starting task 0.0 in stage 0.0 (TID 0) (192.168.0.166, executor driver, partition 0, NODE_LOCAL, 4535 bytes) taskResourceAssignments Map()\n",
      "03-02 13:50:55.385 192.168.0.166:54325   82857  ent-loop-1  INFO org.apache.spark.scheduler.TaskSetManager: Starting task 1.0 in stage 0.0 (TID 1) (192.168.0.166, executor driver, partition 1, NODE_LOCAL, 4535 bytes) taskResourceAssignments Map()\n",
      "03-02 13:50:55.385 192.168.0.166:54325   82857  ent-loop-1  INFO org.apache.spark.scheduler.TaskSetManager: Starting task 2.0 in stage 0.0 (TID 2) (192.168.0.166, executor driver, partition 2, NODE_LOCAL, 4535 bytes) taskResourceAssignments Map()\n",
      "03-02 13:50:55.386 192.168.0.166:54325   82857  ent-loop-1  INFO org.apache.spark.scheduler.TaskSetManager: Starting task 3.0 in stage 0.0 (TID 3) (192.168.0.166, executor driver, partition 3, NODE_LOCAL, 4535 bytes) taskResourceAssignments Map()\n",
      "03-02 13:50:55.399 192.168.0.166:54325   82857  .0 (TID 1)  INFO org.apache.spark.executor.Executor: Running task 1.0 in stage 0.0 (TID 1)\n",
      "03-02 13:50:55.399 192.168.0.166:54325   82857  .0 (TID 0)  INFO org.apache.spark.executor.Executor: Running task 0.0 in stage 0.0 (TID 0)\n",
      "03-02 13:50:55.400 192.168.0.166:54325   82857  .0 (TID 3)  INFO org.apache.spark.executor.Executor: Running task 3.0 in stage 0.0 (TID 3)\n",
      "03-02 13:50:55.400 192.168.0.166:54325   82857  .0 (TID 2)  INFO org.apache.spark.executor.Executor: Running task 2.0 in stage 0.0 (TID 2)\n",
      "03-02 13:50:55.401 192.168.0.166:54325   82857  .0 (TID 0)  INFO org.apache.spark.executor.Executor: Fetching file:/private/var/folders/0q/77jvn_416ybbg7m9_c4f7xkw2wwy7f/T/spark-9f39f4f1-aef1-4519-bcea-18ff7da6baaa/hdfs_conf4414908383158149082.xml with timestamp 1646257841376\n",
      "03-02 13:50:55.928 192.168.0.166:54325   82857  .0 (TID 0)  INFO org.apache.spark.util.Utils: /private/var/folders/0q/77jvn_416ybbg7m9_c4f7xkw2wwy7f/T/spark-9f39f4f1-aef1-4519-bcea-18ff7da6baaa/hdfs_conf4414908383158149082.xml has been previously copied to /private/var/folders/0q/77jvn_416ybbg7m9_c4f7xkw2wwy7f/T/spark-9f39f4f1-aef1-4519-bcea-18ff7da6baaa/userFiles-d9a3ca89-3a14-4405-b434-b1c4c28414e9/hdfs_conf4414908383158149082.xml\n"
     ]
    },
    {
     "name": "stderr",
     "output_type": "stream",
     "text": [
      "\r",
      "[Stage 0:>                                                          (0 + 4) / 4]\r"
     ]
    },
    {
     "name": "stdout",
     "output_type": "stream",
     "text": [
      "03-02 13:50:56.272 192.168.0.166:54325   82857  .0 (TID 3)  INFO org.apache.spark.rdd.HadoopRDD: Input split: file:/Users/dwoodbridge/Class/2022_MSDS697/Examples/Data/adult.raw:4340982+1446996\n",
      "03-02 13:50:56.272 192.168.0.166:54325   82857  .0 (TID 0)  INFO org.apache.spark.rdd.HadoopRDD: Input split: file:/Users/dwoodbridge/Class/2022_MSDS697/Examples/Data/adult.raw:0+1446994\n",
      "03-02 13:50:56.272 192.168.0.166:54325   82857  .0 (TID 2)  INFO org.apache.spark.rdd.HadoopRDD: Input split: file:/Users/dwoodbridge/Class/2022_MSDS697/Examples/Data/adult.raw:2893988+1446994\n",
      "03-02 13:50:56.272 192.168.0.166:54325   82857  .0 (TID 1)  INFO org.apache.spark.rdd.HadoopRDD: Input split: file:/Users/dwoodbridge/Class/2022_MSDS697/Examples/Data/adult.raw:1446994+1446994\n",
      "03-02 13:50:57.336 192.168.0.166:54325   82857  .0 (TID 2)  INFO org.apache.spark.sql.catalyst.expressions.codegen.CodeGenerator: Code generated in 36.729605 ms\n",
      "03-02 13:50:57.655 192.168.0.166:54325   82857  .0 (TID 3)  INFO org.apache.spark.api.python.PythonRunner: Times: total = 1348, boot = 957, init = 13, finish = 378\n",
      "03-02 13:50:57.656 192.168.0.166:54325   82857  .0 (TID 1)  INFO org.apache.spark.api.python.PythonRunner: Times: total = 1350, boot = 705, init = 260, finish = 385\n",
      "03-02 13:50:57.659 192.168.0.166:54325   82857  .0 (TID 2)  INFO org.apache.spark.api.python.PythonRunner: Times: total = 1352, boot = 710, init = 257, finish = 385\n",
      "03-02 13:50:57.667 192.168.0.166:54325   82857  .0 (TID 0)  INFO org.apache.spark.api.python.PythonRunner: Times: total = 1360, boot = 699, init = 266, finish = 395\n",
      "03-02 13:50:57.672 192.168.0.166:54325   82857  .0 (TID 0)  INFO org.apache.spark.executor.Executor: Finished task 0.0 in stage 0.0 (TID 0). 1868 bytes result sent to driver\n",
      "03-02 13:50:57.672 192.168.0.166:54325   82857  .0 (TID 1)  INFO org.apache.spark.executor.Executor: Finished task 1.0 in stage 0.0 (TID 1). 1868 bytes result sent to driver\n",
      "03-02 13:50:57.672 192.168.0.166:54325   82857  .0 (TID 3)  INFO org.apache.spark.executor.Executor: Finished task 3.0 in stage 0.0 (TID 3). 1911 bytes result sent to driver\n",
      "03-02 13:50:57.672 192.168.0.166:54325   82857  .0 (TID 2)  INFO org.apache.spark.executor.Executor: Finished task 2.0 in stage 0.0 (TID 2). 1868 bytes result sent to driver\n",
      "03-02 13:50:57.679 192.168.0.166:54325   82857  t-getter-0  INFO org.apache.spark.scheduler.TaskSetManager: Finished task 3.0 in stage 0.0 (TID 3) in 2293 ms on 192.168.0.166 (executor driver) (1/4)\n",
      "03-02 13:50:57.680 192.168.0.166:54325   82857  t-getter-3  INFO org.apache.spark.scheduler.TaskSetManager: Finished task 2.0 in stage 0.0 (TID 2) in 2295 ms on 192.168.0.166 (executor driver) (2/4)\n",
      "03-02 13:50:57.680 192.168.0.166:54325   82857  t-getter-1  INFO org.apache.spark.scheduler.TaskSetManager: Finished task 1.0 in stage 0.0 (TID 1) in 2295 ms on 192.168.0.166 (executor driver) (3/4)\n",
      "03-02 13:50:57.680 192.168.0.166:54325   82857  t-getter-2  INFO org.apache.spark.scheduler.TaskSetManager: Finished task 0.0 in stage 0.0 (TID 0) in 2314 ms on 192.168.0.166 (executor driver) (4/4)\n",
      "03-02 13:50:57.681 192.168.0.166:54325   82857  t-getter-2  INFO org.apache.spark.scheduler.TaskSchedulerImpl: Removed TaskSet 0.0, whose tasks have all completed, from pool \n",
      "03-02 13:50:57.684 192.168.0.166:54325   82857  event-loop  INFO org.apache.spark.api.python.PythonAccumulatorV2: Connected to AccumulatorServer at host: 127.0.0.1 port: 49470\n",
      "03-02 13:50:57.688 192.168.0.166:54325   82857  event-loop  INFO org.apache.spark.scheduler.DAGScheduler: ResultStage 0 (collect at Writer.scala:169) finished in 2.403 s\n",
      "03-02 13:50:57.690 192.168.0.166:54325   82857  event-loop  INFO org.apache.spark.scheduler.DAGScheduler: Job 0 is finished. Cancelling potential speculative or zombie tasks for this job\n",
      "03-02 13:50:57.691 192.168.0.166:54325   82857  event-loop  INFO org.apache.spark.scheduler.TaskSchedulerImpl: Killing all running tasks in stage 0: Stage finished\n",
      "03-02 13:50:57.692 192.168.0.166:54325   82857    Thread-4  INFO org.apache.spark.scheduler.DAGScheduler: Job 0 finished: collect at Writer.scala:169, took 2.442517 s\n",
      "03-02 13:50:57.697 192.168.0.166:54325   82857  8298793-92  INFO water.default: GET /3/UploadPlan, parms: {number_of_chunks=4}\n",
      "03-02 13:50:57.706 192.168.0.166:54325   82857    Thread-4  INFO ai.h2o.sparkling.H2OFrame: H2O node http://192.168.0.166:54325/3/UploadPlan?number_of_chunks=4 successfully responded for the GET.\n",
      "03-02 13:50:57.716 192.168.0.166:54325   82857    Thread-4  INFO org.apache.spark.SparkContext: Starting job: runJob at Writer.scala:99\n",
      "03-02 13:50:57.717 192.168.0.166:54325   82857  event-loop  INFO org.apache.spark.scheduler.DAGScheduler: Got job 1 (runJob at Writer.scala:99) with 4 output partitions\n",
      "03-02 13:50:57.717 192.168.0.166:54325   82857  event-loop  INFO org.apache.spark.scheduler.DAGScheduler: Final stage: ResultStage 1 (runJob at Writer.scala:99)\n",
      "03-02 13:50:57.717 192.168.0.166:54325   82857  event-loop  INFO org.apache.spark.scheduler.DAGScheduler: Parents of final stage: List()\n",
      "03-02 13:50:57.717 192.168.0.166:54325   82857  event-loop  INFO org.apache.spark.scheduler.DAGScheduler: Missing parents: List()\n",
      "03-02 13:50:57.718 192.168.0.166:54325   82857  event-loop  INFO org.apache.spark.scheduler.DAGScheduler: Submitting ResultStage 1 (H2OAwareRDD[10] at RDD at H2OAwareBaseRDD.scala:29), which has no missing parents\n",
      "03-02 13:50:57.721 192.168.0.166:54325   82857  event-loop  INFO org.apache.spark.storage.memory.MemoryStore: Block broadcast_2 stored as values in memory (estimated size 38.2 KiB, free 365.8 MiB)\n",
      "03-02 13:50:57.723 192.168.0.166:54325   82857  event-loop  INFO org.apache.spark.storage.memory.MemoryStore: Block broadcast_2_piece0 stored as bytes in memory (estimated size 16.8 KiB, free 365.8 MiB)\n",
      "03-02 13:50:57.723 192.168.0.166:54325   82857  agerMaster  INFO org.apache.spark.storage.BlockManagerInfo: Added broadcast_2_piece0 in memory on 192.168.0.166:49466 (size: 16.8 KiB, free: 366.2 MiB)\n",
      "03-02 13:50:57.724 192.168.0.166:54325   82857  event-loop  INFO org.apache.spark.SparkContext: Created broadcast 2 from broadcast at DAGScheduler.scala:1427\n",
      "03-02 13:50:57.724 192.168.0.166:54325   82857  event-loop  INFO org.apache.spark.scheduler.DAGScheduler: Submitting 4 missing tasks from ResultStage 1 (H2OAwareRDD[10] at RDD at H2OAwareBaseRDD.scala:29) (first 15 tasks are for partitions Vector(0, 1, 2, 3))\n",
      "03-02 13:50:57.724 192.168.0.166:54325   82857  event-loop  INFO org.apache.spark.scheduler.TaskSchedulerImpl: Adding task set 1.0 with 4 tasks resource profile 0\n",
      "03-02 13:50:57.725 192.168.0.166:54325   82857  nt-loop-10  INFO org.apache.spark.scheduler.TaskSetManager: Starting task 0.0 in stage 1.0 (TID 4) (192.168.0.166, executor driver, partition 0, NODE_LOCAL, 4535 bytes) taskResourceAssignments Map()\n",
      "03-02 13:50:57.725 192.168.0.166:54325   82857  nt-loop-10  INFO org.apache.spark.scheduler.TaskSetManager: Starting task 1.0 in stage 1.0 (TID 5) (192.168.0.166, executor driver, partition 1, NODE_LOCAL, 4535 bytes) taskResourceAssignments Map()\n",
      "03-02 13:50:57.726 192.168.0.166:54325   82857  nt-loop-10  INFO org.apache.spark.scheduler.TaskSetManager: Starting task 2.0 in stage 1.0 (TID 6) (192.168.0.166, executor driver, partition 2, NODE_LOCAL, 4535 bytes) taskResourceAssignments Map()\n",
      "03-02 13:50:57.726 192.168.0.166:54325   82857  nt-loop-10  INFO org.apache.spark.scheduler.TaskSetManager: Starting task 3.0 in stage 1.0 (TID 7) (192.168.0.166, executor driver, partition 3, NODE_LOCAL, 4535 bytes) taskResourceAssignments Map()\n",
      "03-02 13:50:57.726 192.168.0.166:54325   82857  .0 (TID 4)  INFO org.apache.spark.executor.Executor: Running task 0.0 in stage 1.0 (TID 4)\n",
      "03-02 13:50:57.726 192.168.0.166:54325   82857  .0 (TID 5)  INFO org.apache.spark.executor.Executor: Running task 1.0 in stage 1.0 (TID 5)\n",
      "03-02 13:50:57.726 192.168.0.166:54325   82857  .0 (TID 7)  INFO org.apache.spark.executor.Executor: Running task 3.0 in stage 1.0 (TID 7)\n",
      "03-02 13:50:57.726 192.168.0.166:54325   82857  .0 (TID 6)  INFO org.apache.spark.executor.Executor: Running task 2.0 in stage 1.0 (TID 6)\n",
      "03-02 13:50:57.735 192.168.0.166:54325   82857  .0 (TID 4)  INFO org.apache.spark.rdd.HadoopRDD: Input split: file:/Users/dwoodbridge/Class/2022_MSDS697/Examples/Data/adult.raw:0+1446994\n",
      "03-02 13:50:57.735 192.168.0.166:54325   82857  .0 (TID 6)  INFO org.apache.spark.rdd.HadoopRDD: Input split: file:/Users/dwoodbridge/Class/2022_MSDS697/Examples/Data/adult.raw:2893988+1446994\n",
      "03-02 13:50:57.735 192.168.0.166:54325   82857  .0 (TID 7)  INFO org.apache.spark.rdd.HadoopRDD: Input split: file:/Users/dwoodbridge/Class/2022_MSDS697/Examples/Data/adult.raw:4340982+1446996\n",
      "03-02 13:50:57.735 192.168.0.166:54325   82857  .0 (TID 5)  INFO org.apache.spark.rdd.HadoopRDD: Input split: file:/Users/dwoodbridge/Class/2022_MSDS697/Examples/Data/adult.raw:1446994+1446994\n"
     ]
    },
    {
     "name": "stderr",
     "output_type": "stream",
     "text": [
      "                                                                                \r"
     ]
    },
    {
     "name": "stdout",
     "output_type": "stream",
     "text": [
      "03-02 13:50:58.307 192.168.0.166:54325   82857  .0 (TID 5)  INFO org.apache.spark.api.python.PythonRunner: Times: total = 565, boot = -61, init = 76, finish = 550\n",
      "03-02 13:50:58.316 192.168.0.166:54325   82857  .0 (TID 6)  INFO org.apache.spark.api.python.PythonRunner: Times: total = 573, boot = -63, init = 76, finish = 560\n",
      "03-02 13:50:58.320 192.168.0.166:54325   82857  .0 (TID 4)  INFO org.apache.spark.api.python.PythonRunner: Times: total = 579, boot = -61, init = 64, finish = 576\n",
      "03-02 13:50:58.324 192.168.0.166:54325   82857  .0 (TID 7)  INFO org.apache.spark.api.python.PythonRunner: Times: total = 577, boot = -57, init = 71, finish = 563\n",
      "03-02 13:50:58.409 192.168.0.166:54325   82857  .0 (TID 5)  INFO ai.h2o.sparkling.backend.H2OChunk: H2O node http://192.168.0.166:54325/3/Chunk?frame_name=adult&num_rows=12201&compression=SNAPPY&maximum_vector_sizes=&expected_types=BwsHCwsLCwsLBwcHCws%3D&chunk_id=1 successfully responded for the PUT.\n",
      "03-02 13:50:58.412 192.168.0.166:54325   82857  .0 (TID 6)  INFO ai.h2o.sparkling.backend.H2OChunk: H2O node http://192.168.0.166:54325/3/Chunk?frame_name=adult&num_rows=12211&compression=SNAPPY&maximum_vector_sizes=&expected_types=BwsHCwsLCwsLBwcHCws%3D&chunk_id=2 successfully responded for the PUT.\n",
      "03-02 13:50:58.412 192.168.0.166:54325   82857  .0 (TID 4)  INFO ai.h2o.sparkling.backend.H2OChunk: H2O node http://192.168.0.166:54325/3/Chunk?frame_name=adult&num_rows=12218&compression=SNAPPY&maximum_vector_sizes=&expected_types=BwsHCwsLCwsLBwcHCws%3D&chunk_id=0 successfully responded for the PUT.\n",
      "03-02 13:50:58.414 192.168.0.166:54325   82857  .0 (TID 7)  INFO ai.h2o.sparkling.backend.H2OChunk: H2O node http://192.168.0.166:54325/3/Chunk?frame_name=adult&num_rows=12212&compression=SNAPPY&maximum_vector_sizes=&expected_types=BwsHCwsLCwsLBwcHCws%3D&chunk_id=3 successfully responded for the PUT.\n",
      "03-02 13:50:58.421 192.168.0.166:54325   82857  .0 (TID 4)  INFO ai.h2o.sparkling.backend.H2OChunk: H2O node http://192.168.0.166:54325/3/ChunkCategoricalDomains?frame_name=adult&chunk_id=0&compression=SNAPPY successfully responded for the PUT.\n",
      "03-02 13:50:58.421 192.168.0.166:54325   82857  .0 (TID 7)  INFO ai.h2o.sparkling.backend.H2OChunk: H2O node http://192.168.0.166:54325/3/ChunkCategoricalDomains?frame_name=adult&chunk_id=3&compression=SNAPPY successfully responded for the PUT.\n",
      "03-02 13:50:58.421 192.168.0.166:54325   82857  .0 (TID 4)  INFO ai.h2o.sparkling.backend.H2OChunk: H2O node http://192.168.0.166:54325/3/ChunkCategoricalDomains?frame_name=adult&chunk_id=0&compression=SNAPPY successfully responded for the PUT.\n",
      "03-02 13:50:58.421 192.168.0.166:54325   82857  .0 (TID 6)  INFO ai.h2o.sparkling.backend.H2OChunk: H2O node http://192.168.0.166:54325/3/ChunkCategoricalDomains?frame_name=adult&chunk_id=2&compression=SNAPPY successfully responded for the PUT.\n",
      "03-02 13:50:58.421 192.168.0.166:54325   82857  .0 (TID 5)  INFO ai.h2o.sparkling.backend.H2OChunk: H2O node http://192.168.0.166:54325/3/ChunkCategoricalDomains?frame_name=adult&chunk_id=1&compression=SNAPPY successfully responded for the PUT.\n",
      "03-02 13:50:58.422 192.168.0.166:54325   82857  .0 (TID 6)  INFO ai.h2o.sparkling.backend.H2OChunk: H2O node http://192.168.0.166:54325/3/ChunkCategoricalDomains?frame_name=adult&chunk_id=2&compression=SNAPPY successfully responded for the PUT.\n",
      "03-02 13:50:58.421 192.168.0.166:54325   82857  .0 (TID 7)  INFO ai.h2o.sparkling.backend.H2OChunk: H2O node http://192.168.0.166:54325/3/ChunkCategoricalDomains?frame_name=adult&chunk_id=3&compression=SNAPPY successfully responded for the PUT.\n",
      "03-02 13:50:58.422 192.168.0.166:54325   82857  .0 (TID 5)  INFO ai.h2o.sparkling.backend.H2OChunk: H2O node http://192.168.0.166:54325/3/ChunkCategoricalDomains?frame_name=adult&chunk_id=1&compression=SNAPPY successfully responded for the PUT.\n",
      "03-02 13:50:58.424 192.168.0.166:54325   82857  .0 (TID 7)  INFO org.apache.spark.executor.Executor: Finished task 3.0 in stage 1.0 (TID 7). 1836 bytes result sent to driver\n",
      "03-02 13:50:58.424 192.168.0.166:54325   82857  .0 (TID 6)  INFO org.apache.spark.executor.Executor: Finished task 2.0 in stage 1.0 (TID 6). 1836 bytes result sent to driver\n",
      "03-02 13:50:58.424 192.168.0.166:54325   82857  .0 (TID 4)  INFO org.apache.spark.executor.Executor: Finished task 0.0 in stage 1.0 (TID 4). 1836 bytes result sent to driver\n",
      "03-02 13:50:58.424 192.168.0.166:54325   82857  .0 (TID 5)  INFO org.apache.spark.executor.Executor: Finished task 1.0 in stage 1.0 (TID 5). 1836 bytes result sent to driver\n",
      "03-02 13:50:58.426 192.168.0.166:54325   82857  t-getter-3  INFO org.apache.spark.scheduler.TaskSetManager: Finished task 2.0 in stage 1.0 (TID 6) in 701 ms on 192.168.0.166 (executor driver) (1/4)\n",
      "03-02 13:50:58.426 192.168.0.166:54325   82857  t-getter-1  INFO org.apache.spark.scheduler.TaskSetManager: Finished task 0.0 in stage 1.0 (TID 4) in 701 ms on 192.168.0.166 (executor driver) (2/4)\n",
      "03-02 13:50:58.426 192.168.0.166:54325   82857  t-getter-0  INFO org.apache.spark.scheduler.TaskSetManager: Finished task 3.0 in stage 1.0 (TID 7) in 700 ms on 192.168.0.166 (executor driver) (3/4)\n",
      "03-02 13:50:58.426 192.168.0.166:54325   82857  t-getter-2  INFO org.apache.spark.scheduler.TaskSetManager: Finished task 1.0 in stage 1.0 (TID 5) in 701 ms on 192.168.0.166 (executor driver) (4/4)\n",
      "03-02 13:50:58.426 192.168.0.166:54325   82857  t-getter-2  INFO org.apache.spark.scheduler.TaskSchedulerImpl: Removed TaskSet 1.0, whose tasks have all completed, from pool \n",
      "03-02 13:50:58.429 192.168.0.166:54325   82857  event-loop  INFO org.apache.spark.scheduler.DAGScheduler: ResultStage 1 (runJob at Writer.scala:99) finished in 0.710 s\n",
      "03-02 13:50:58.429 192.168.0.166:54325   82857  event-loop  INFO org.apache.spark.scheduler.DAGScheduler: Job 1 is finished. Cancelling potential speculative or zombie tasks for this job\n",
      "03-02 13:50:58.429 192.168.0.166:54325   82857  event-loop  INFO org.apache.spark.scheduler.TaskSchedulerImpl: Killing all running tasks in stage 1: Stage finished\n",
      "03-02 13:50:58.429 192.168.0.166:54325   82857    Thread-4  INFO org.apache.spark.scheduler.DAGScheduler: Job 1 finished: runJob at Writer.scala:99, took 0.712699 s\n",
      "03-02 13:50:58.432 192.168.0.166:54325   82857  8298793-83  INFO water.default: POST /3/FinalizeFrame, parms: {rows_per_chunk=ui8AAAAAAACpLwAAAAAAALMvAAAAAAAAtC8AAAAAAAA=, key=adult, column_types=AwQDBAQEBAQEAwMDBAQ=}\n",
      "03-02 13:50:58.635 192.168.0.166:54325   82857  8298793-83  INFO water.default: Parse result for adult (48842 rows, 14 columns):\n",
      "03-02 13:50:58.645 192.168.0.166:54325   82857  8298793-83  INFO water.default:           ColV2    type          min          max         mean        sigma         NAs constant cardinality\n",
      "03-02 13:50:58.646 192.168.0.166:54325   82857  8298793-83  INFO water.default:             age: numeric      17.0000      90.0000      38.6436      13.7105                            \n",
      "03-02 13:50:58.646 192.168.0.166:54325   82857  8298793-83  INFO water.default:       workclass:  factor            ?  Without-pay                                                     9\n",
      "03-02 13:50:58.646 192.168.0.166:54325   82857  8298793-83  INFO water.default:          fnlwgt: numeric      12285.0  1.49040e+06       189664       105604                            \n",
      "03-02 13:50:58.647 192.168.0.166:54325   82857  8298793-83  INFO water.default:       education:  factor         10th Some-college                                                    16\n",
      "03-02 13:50:58.647 192.168.0.166:54325   82857  8298793-83  INFO water.default:  marital_status:  factor     Divorced      Widowed                                                     7\n",
      "03-02 13:50:58.647 192.168.0.166:54325   82857  8298793-83  INFO water.default:      occupation:  factor            ? Transport-mo                                                    15\n",
      "03-02 13:50:58.647 192.168.0.166:54325   82857  8298793-83  INFO water.default:    relationship:  factor      Husband         Wife                                                     6\n",
      "03-02 13:50:58.647 192.168.0.166:54325   82857  8298793-83  INFO water.default:            race:  factor Amer-Indian-        White                                                     5\n",
      "03-02 13:50:58.647 192.168.0.166:54325   82857  8298793-83  INFO water.default:             sex:  factor       Female         Male                                                     2\n",
      "03-02 13:50:58.647 192.168.0.166:54325   82857  8298793-83  INFO water.default:    capital_gain: numeric      0.00000      99999.0      1079.07      7452.02                            \n",
      "03-02 13:50:58.647 192.168.0.166:54325   82857  8298793-83  INFO water.default:    capital_loss: numeric      0.00000      4356.00      87.5023      403.005                            \n",
      "03-02 13:50:58.648 192.168.0.166:54325   82857  8298793-83  INFO water.default:  hours_per_week: numeric      1.00000      99.0000      40.4224      12.3914                            \n",
      "03-02 13:50:58.648 192.168.0.166:54325   82857  8298793-83  INFO water.default:  native_country:  factor            ?   Yugoslavia                                                    42\n",
      "03-02 13:50:58.648 192.168.0.166:54325   82857  8298793-83  INFO water.default:          income:  factor        <=50K         >50K                                                     2\n",
      "03-02 13:50:58.657 192.168.0.166:54325   82857  8298793-83  INFO water.default: Chunk compression summary:\n",
      "03-02 13:50:58.657 192.168.0.166:54325   82857  8298793-83  INFO water.default:   Chunk Type                 Chunk Name       Count  Count Percentage        Size  Size Percentage\n",
      "03-02 13:50:58.657 192.168.0.166:54325   82857  8298793-83  INFO water.default:          CBS                     Binary           8          14.286 %     12.5 KB          1.845 %\n",
      "03-02 13:50:58.657 192.168.0.166:54325   82857  8298793-83  INFO water.default:          CXI            Sparse Integers           8          14.286 %     41.0 KB          6.068 %\n",
      "03-02 13:50:58.658 192.168.0.166:54325   82857  8298793-83  INFO water.default:          C1N  1-Byte Integers (w/o NAs)          36          64.286 %    431.7 KB         63.834 %\n",
      "03-02 13:50:58.658 192.168.0.166:54325   82857  8298793-83  INFO water.default:           C4            4-Byte Integers           4           7.143 %    191.1 KB         28.253 %\n",
      "03-02 13:50:58.658 192.168.0.166:54325   82857  8298793-83  INFO water.default: Frame distribution summary:\n",
      "03-02 13:50:58.658 192.168.0.166:54325   82857  8298793-83  INFO water.default:                            Size  Number of Rows  Number of Chunks per Column  Number of Chunks\n",
      "03-02 13:50:58.658 192.168.0.166:54325   82857  8298793-83  INFO water.default: 192.168.0.166:54325    676.2 KB           48842                            4                56\n",
      "03-02 13:50:58.658 192.168.0.166:54325   82857  8298793-83  INFO water.default:                mean    676.2 KB    48842.000000                     4.000000         56.000000\n",
      "03-02 13:50:58.658 192.168.0.166:54325   82857  8298793-83  INFO water.default:                 min    676.2 KB    48842.000000                     4.000000         56.000000\n",
      "03-02 13:50:58.658 192.168.0.166:54325   82857  8298793-83  INFO water.default:                 max    676.2 KB    48842.000000                     4.000000         56.000000\n",
      "03-02 13:50:58.658 192.168.0.166:54325   82857  8298793-83  INFO water.default:              stddev        0  B        0.000000                     0.000000          0.000000\n",
      "03-02 13:50:58.658 192.168.0.166:54325   82857  8298793-83  INFO water.default:               total    676.2 KB           48842                            4                56\n",
      "03-02 13:50:58.663 192.168.0.166:54325   82857    Thread-4  INFO ai.h2o.sparkling.H2OFrame: H2O node http://192.168.0.166:54325/3/FinalizeFrame successfully responded for the POST.\n",
      "03-02 13:50:58.665 192.168.0.166:54325   82857  298793-129  INFO water.default: GET /3/Frames/adult/summary, parms: {row_count=0}\n",
      "03-02 13:50:58.759 192.168.0.166:54325   82857    Thread-4  INFO ai.h2o.sparkling.H2OFrame: H2O node http://192.168.0.166:54325/3/Frames/adult/summary?row_count=0 successfully responded for the GET.\n",
      "03-02 13:50:58.773 192.168.0.166:54325   82857    Thread-4  INFO ai.h2o.sparkling.backend.utils.RestApiUtils: H2O node http://192.168.0.166:54325/3/Cloud successfully responded for the GET.\n",
      "03-02 13:50:58.775 192.168.0.166:54325   82857  298793-129  INFO water.default: GET /3/FrameChunks/adult, parms: {}\n",
      "03-02 13:50:58.781 192.168.0.166:54325   82857    Thread-4  INFO ai.h2o.sparkling.H2OFrame: H2O node http://192.168.0.166:54325/3/FrameChunks/adult successfully responded for the GET.\n",
      "03-02 13:50:58.795 192.168.0.166:54325   82857  298793-101  INFO water.default: GET /3/Frames/adult/light, parms: {column_offset=0, full_column_count=-1, row_count=10, row_offset=0, column_count=-1}\n"
     ]
    }
   ],
   "source": [
    "adult_h2o = hc.asH2OFrame(dfraw, \"adult\")"
   ]
  },
  {
   "cell_type": "code",
   "execution_count": 5,
   "id": "d71bb9b3",
   "metadata": {},
   "outputs": [
    {
     "data": {
      "text/html": [
       "<table>\n",
       "<thead>\n",
       "<tr><th style=\"text-align: right;\">  age</th><th>workclass       </th><th style=\"text-align: right;\">  fnlwgt</th><th>education  </th><th>marital_status       </th><th>occupation       </th><th>relationship  </th><th>race  </th><th>sex   </th><th style=\"text-align: right;\">  capital_gain</th><th style=\"text-align: right;\">  capital_loss</th><th style=\"text-align: right;\">  hours_per_week</th><th>native_country  </th><th>income  </th></tr>\n",
       "</thead>\n",
       "<tbody>\n",
       "<tr><td style=\"text-align: right;\">   39</td><td>State-gov       </td><td style=\"text-align: right;\">   77516</td><td>Bachelors  </td><td>Never-married        </td><td>Adm-clerical     </td><td>Not-in-family </td><td>White </td><td>Male  </td><td style=\"text-align: right;\">          2174</td><td style=\"text-align: right;\">             0</td><td style=\"text-align: right;\">              40</td><td>United-States   </td><td>&lt;=50K   </td></tr>\n",
       "<tr><td style=\"text-align: right;\">   50</td><td>Self-emp-not-inc</td><td style=\"text-align: right;\">   83311</td><td>Bachelors  </td><td>Married-civ-spouse   </td><td>Exec-managerial  </td><td>Husband       </td><td>White </td><td>Male  </td><td style=\"text-align: right;\">             0</td><td style=\"text-align: right;\">             0</td><td style=\"text-align: right;\">              13</td><td>United-States   </td><td>&lt;=50K   </td></tr>\n",
       "<tr><td style=\"text-align: right;\">   38</td><td>Private         </td><td style=\"text-align: right;\">  215646</td><td>HS-grad    </td><td>Divorced             </td><td>Handlers-cleaners</td><td>Not-in-family </td><td>White </td><td>Male  </td><td style=\"text-align: right;\">             0</td><td style=\"text-align: right;\">             0</td><td style=\"text-align: right;\">              40</td><td>United-States   </td><td>&lt;=50K   </td></tr>\n",
       "<tr><td style=\"text-align: right;\">   53</td><td>Private         </td><td style=\"text-align: right;\">  234721</td><td>11th       </td><td>Married-civ-spouse   </td><td>Handlers-cleaners</td><td>Husband       </td><td>Black </td><td>Male  </td><td style=\"text-align: right;\">             0</td><td style=\"text-align: right;\">             0</td><td style=\"text-align: right;\">              40</td><td>United-States   </td><td>&lt;=50K   </td></tr>\n",
       "<tr><td style=\"text-align: right;\">   28</td><td>Private         </td><td style=\"text-align: right;\">  338409</td><td>Bachelors  </td><td>Married-civ-spouse   </td><td>Prof-specialty   </td><td>Wife          </td><td>Black </td><td>Female</td><td style=\"text-align: right;\">             0</td><td style=\"text-align: right;\">             0</td><td style=\"text-align: right;\">              40</td><td>Cuba            </td><td>&lt;=50K   </td></tr>\n",
       "<tr><td style=\"text-align: right;\">   37</td><td>Private         </td><td style=\"text-align: right;\">  284582</td><td>Masters    </td><td>Married-civ-spouse   </td><td>Exec-managerial  </td><td>Wife          </td><td>White </td><td>Female</td><td style=\"text-align: right;\">             0</td><td style=\"text-align: right;\">             0</td><td style=\"text-align: right;\">              40</td><td>United-States   </td><td>&lt;=50K   </td></tr>\n",
       "<tr><td style=\"text-align: right;\">   49</td><td>Private         </td><td style=\"text-align: right;\">  160187</td><td>9th        </td><td>Married-spouse-absent</td><td>Other-service    </td><td>Not-in-family </td><td>Black </td><td>Female</td><td style=\"text-align: right;\">             0</td><td style=\"text-align: right;\">             0</td><td style=\"text-align: right;\">              16</td><td>Jamaica         </td><td>&lt;=50K   </td></tr>\n",
       "<tr><td style=\"text-align: right;\">   52</td><td>Self-emp-not-inc</td><td style=\"text-align: right;\">  209642</td><td>HS-grad    </td><td>Married-civ-spouse   </td><td>Exec-managerial  </td><td>Husband       </td><td>White </td><td>Male  </td><td style=\"text-align: right;\">             0</td><td style=\"text-align: right;\">             0</td><td style=\"text-align: right;\">              45</td><td>United-States   </td><td>&gt;50K    </td></tr>\n",
       "<tr><td style=\"text-align: right;\">   31</td><td>Private         </td><td style=\"text-align: right;\">   45781</td><td>Masters    </td><td>Never-married        </td><td>Prof-specialty   </td><td>Not-in-family </td><td>White </td><td>Female</td><td style=\"text-align: right;\">         14084</td><td style=\"text-align: right;\">             0</td><td style=\"text-align: right;\">              50</td><td>United-States   </td><td>&gt;50K    </td></tr>\n",
       "<tr><td style=\"text-align: right;\">   42</td><td>Private         </td><td style=\"text-align: right;\">  159449</td><td>Bachelors  </td><td>Married-civ-spouse   </td><td>Exec-managerial  </td><td>Husband       </td><td>White </td><td>Male  </td><td style=\"text-align: right;\">          5178</td><td style=\"text-align: right;\">             0</td><td style=\"text-align: right;\">              40</td><td>United-States   </td><td>&gt;50K    </td></tr>\n",
       "</tbody>\n",
       "</table>"
      ]
     },
     "metadata": {},
     "output_type": "display_data"
    }
   ],
   "source": [
    "adult_h2o.show()"
   ]
  },
  {
   "cell_type": "code",
   "execution_count": 6,
   "id": "4272641a",
   "metadata": {},
   "outputs": [
    {
     "data": {
      "text/html": [
       "<table>\n",
       "<thead>\n",
       "<tr><th>       </th><th>age               </th><th>workclass       </th><th>fnlwgt            </th><th>education  </th><th>marital_status       </th><th>occupation       </th><th>relationship  </th><th>race  </th><th>sex   </th><th>capital_gain      </th><th>capital_loss      </th><th>hours_per_week    </th><th>native_country  </th><th>income  </th></tr>\n",
       "</thead>\n",
       "<tbody>\n",
       "<tr><td>type   </td><td>int               </td><td>enum            </td><td>int               </td><td>enum       </td><td>enum                 </td><td>enum             </td><td>enum          </td><td>enum  </td><td>enum  </td><td>int               </td><td>int               </td><td>int               </td><td>enum            </td><td>enum    </td></tr>\n",
       "<tr><td>mins   </td><td>17.0              </td><td>                </td><td>12285.0           </td><td>           </td><td>                     </td><td>                 </td><td>              </td><td>      </td><td>      </td><td>0.0               </td><td>0.0               </td><td>1.0               </td><td>                </td><td>        </td></tr>\n",
       "<tr><td>mean   </td><td>38.64358543876177 </td><td>                </td><td>189664.13459727296</td><td>           </td><td>                     </td><td>                 </td><td>              </td><td>      </td><td>      </td><td>1079.0676262233324</td><td>87.50231358257236 </td><td>40.42238237582413 </td><td>                </td><td>        </td></tr>\n",
       "<tr><td>maxs   </td><td>90.0              </td><td>                </td><td>1490400.0         </td><td>           </td><td>                     </td><td>                 </td><td>              </td><td>      </td><td>      </td><td>99999.0           </td><td>4356.0            </td><td>99.0              </td><td>                </td><td>        </td></tr>\n",
       "<tr><td>sigma  </td><td>13.710509934443552</td><td>                </td><td>105604.02542315725</td><td>           </td><td>                     </td><td>                 </td><td>              </td><td>      </td><td>      </td><td>7452.019057655393 </td><td>403.00455212435895</td><td>12.391444024252296</td><td>                </td><td>        </td></tr>\n",
       "<tr><td>zeros  </td><td>0                 </td><td>                </td><td>0                 </td><td>           </td><td>                     </td><td>                 </td><td>              </td><td>      </td><td>      </td><td>44807             </td><td>46560             </td><td>0                 </td><td>                </td><td>        </td></tr>\n",
       "<tr><td>missing</td><td>0                 </td><td>0               </td><td>0                 </td><td>0          </td><td>0                    </td><td>0                </td><td>0             </td><td>0     </td><td>0     </td><td>0                 </td><td>0                 </td><td>0                 </td><td>0               </td><td>0       </td></tr>\n",
       "<tr><td>0      </td><td>39.0              </td><td>State-gov       </td><td>77516.0           </td><td>Bachelors  </td><td>Never-married        </td><td>Adm-clerical     </td><td>Not-in-family </td><td>White </td><td>Male  </td><td>2174.0            </td><td>0.0               </td><td>40.0              </td><td>United-States   </td><td>&lt;=50K   </td></tr>\n",
       "<tr><td>1      </td><td>50.0              </td><td>Self-emp-not-inc</td><td>83311.0           </td><td>Bachelors  </td><td>Married-civ-spouse   </td><td>Exec-managerial  </td><td>Husband       </td><td>White </td><td>Male  </td><td>0.0               </td><td>0.0               </td><td>13.0              </td><td>United-States   </td><td>&lt;=50K   </td></tr>\n",
       "<tr><td>2      </td><td>38.0              </td><td>Private         </td><td>215646.0          </td><td>HS-grad    </td><td>Divorced             </td><td>Handlers-cleaners</td><td>Not-in-family </td><td>White </td><td>Male  </td><td>0.0               </td><td>0.0               </td><td>40.0              </td><td>United-States   </td><td>&lt;=50K   </td></tr>\n",
       "<tr><td>3      </td><td>53.0              </td><td>Private         </td><td>234721.0          </td><td>11th       </td><td>Married-civ-spouse   </td><td>Handlers-cleaners</td><td>Husband       </td><td>Black </td><td>Male  </td><td>0.0               </td><td>0.0               </td><td>40.0              </td><td>United-States   </td><td>&lt;=50K   </td></tr>\n",
       "<tr><td>4      </td><td>28.0              </td><td>Private         </td><td>338409.0          </td><td>Bachelors  </td><td>Married-civ-spouse   </td><td>Prof-specialty   </td><td>Wife          </td><td>Black </td><td>Female</td><td>0.0               </td><td>0.0               </td><td>40.0              </td><td>Cuba            </td><td>&lt;=50K   </td></tr>\n",
       "<tr><td>5      </td><td>37.0              </td><td>Private         </td><td>284582.0          </td><td>Masters    </td><td>Married-civ-spouse   </td><td>Exec-managerial  </td><td>Wife          </td><td>White </td><td>Female</td><td>0.0               </td><td>0.0               </td><td>40.0              </td><td>United-States   </td><td>&lt;=50K   </td></tr>\n",
       "<tr><td>6      </td><td>49.0              </td><td>Private         </td><td>160187.0          </td><td>9th        </td><td>Married-spouse-absent</td><td>Other-service    </td><td>Not-in-family </td><td>Black </td><td>Female</td><td>0.0               </td><td>0.0               </td><td>16.0              </td><td>Jamaica         </td><td>&lt;=50K   </td></tr>\n",
       "<tr><td>7      </td><td>52.0              </td><td>Self-emp-not-inc</td><td>209642.0          </td><td>HS-grad    </td><td>Married-civ-spouse   </td><td>Exec-managerial  </td><td>Husband       </td><td>White </td><td>Male  </td><td>0.0               </td><td>0.0               </td><td>45.0              </td><td>United-States   </td><td>&gt;50K    </td></tr>\n",
       "<tr><td>8      </td><td>31.0              </td><td>Private         </td><td>45781.0           </td><td>Masters    </td><td>Never-married        </td><td>Prof-specialty   </td><td>Not-in-family </td><td>White </td><td>Female</td><td>14084.0           </td><td>0.0               </td><td>50.0              </td><td>United-States   </td><td>&gt;50K    </td></tr>\n",
       "<tr><td>9      </td><td>42.0              </td><td>Private         </td><td>159449.0          </td><td>Bachelors  </td><td>Married-civ-spouse   </td><td>Exec-managerial  </td><td>Husband       </td><td>White </td><td>Male  </td><td>5178.0            </td><td>0.0               </td><td>40.0              </td><td>United-States   </td><td>&gt;50K    </td></tr>\n",
       "</tbody>\n",
       "</table>"
      ]
     },
     "metadata": {},
     "output_type": "display_data"
    }
   ],
   "source": [
    "adult_h2o.summary()"
   ]
  },
  {
   "cell_type": "markdown",
   "id": "3d528950",
   "metadata": {},
   "source": [
    "## Create from File"
   ]
  },
  {
   "cell_type": "code",
   "execution_count": 8,
   "id": "95c6109c",
   "metadata": {},
   "outputs": [
    {
     "name": "stdout",
     "output_type": "stream",
     "text": [
      "03-02 13:51:00.229 192.168.0.166:54325   82857  298793-129  INFO water.default: POST /3/ImportFilesMulti, parms: {paths=[/Users/dwoodbridge/Class/2022_MSDS697/Examples/Data/adult.raw]}\n",
      "03-02 13:51:00.248 192.168.0.166:54325   82857  298793-101  INFO water.default: POST /3/ParseSetup, parms: {single_quotes=False, source_frames=[\"nfs://Users/dwoodbridge/Class/2022_MSDS697/Examples/Data/adult.raw\"], check_header=0}\n",
      "03-02 13:51:00.339 192.168.0.166:54325   82857  agerMaster  INFO org.apache.spark.storage.BlockManagerInfo: Removed broadcast_2_piece0 on 192.168.0.166:49466 in memory (size: 16.8 KiB, free: 366.3 MiB)\n",
      "03-02 13:51:00.703 192.168.0.166:54325   82857  298793-101  INFO water.default: ParseSetup heuristic: cloudSize: 1, cores: 16, numCols: 14, maxLineLength: 150, totalSize: 5787978, localParseSize: 5787978, chunkSize: 90438, numChunks: 63, numChunks * cols: 882\n",
      "03-02 13:51:00.721 192.168.0.166:54325   82857  298793-129  INFO water.default: POST /3/Parse, parms: {number_columns=14, source_frames=[\"nfs://Users/dwoodbridge/Class/2022_MSDS697/Examples/Data/adult.raw\"], column_types=[\"Numeric\",\"Enum\",\"Numeric\",\"Enum\",\"Enum\",\"Enum\",\"Enum\",\"Enum\",\"Enum\",\"Numeric\",\"Numeric\",\"Numeric\",\"Enum\",\"Enum\"], single_quotes=False, parse_type=CSV, destination_frame=adult_raw.hex, delete_on_done=True, check_header=-1, separator=44, blocking=False, escapechar=0, chunk_size=90438}\n",
      "03-02 13:51:00.722 192.168.0.166:54325   82857  298793-129  INFO water.default: Total file size: 5.5 MB\n",
      "03-02 13:51:00.728 192.168.0.166:54325   82857  298793-129  INFO water.default: Parse chunk size 90438\n",
      "03-02 13:51:00.757 192.168.0.166:54325   82857     FJ-2-15  INFO water.default: Key nfs://Users/dwoodbridge/Class/2022_MSDS697/Examples/Data/adult.raw will be parsed using method DistributedParse.\n",
      "Parse progress: |███03-02 13:51:01.313 192.168.0.166:54325   82857     FJ-1-25  INFO water.default: Parse result for adult_raw.hex (48842 rows, 14 columns):\n",
      "03-02 13:51:01.329 192.168.0.166:54325   82857     FJ-1-25  INFO water.default:  ColV2    type          min          max         mean        sigma         NAs constant cardinality\n",
      "03-02 13:51:01.330 192.168.0.166:54325   82857     FJ-1-25  INFO water.default:   C1: numeric      17.0000      90.0000      38.6436      13.7105                            \n",
      "03-02 13:51:01.330 192.168.0.166:54325   82857     FJ-1-25  INFO water.default:   C2:  factor            ?  Without-pay                                                     9\n",
      "03-02 13:51:01.330 192.168.0.166:54325   82857     FJ-1-25  INFO water.default:   C3: numeric      12285.0  1.49040e+06       189664       105604                            \n",
      "03-02 13:51:01.330 192.168.0.166:54325   82857     FJ-1-25  INFO water.default:   C4:  factor         10th Some-college                                                    16\n",
      "03-02 13:51:01.330 192.168.0.166:54325   82857     FJ-1-25  INFO water.default:   C5:  factor     Divorced      Widowed                                                     7\n",
      "03-02 13:51:01.330 192.168.0.166:54325   82857     FJ-1-25  INFO water.default:   C6:  factor            ? Transport-mo                                                    15\n",
      "03-02 13:51:01.331 192.168.0.166:54325   82857     FJ-1-25  INFO water.default:   C7:  factor      Husband         Wife                                                     6\n",
      "03-02 13:51:01.331 192.168.0.166:54325   82857     FJ-1-25  INFO water.default:   C8:  factor Amer-Indian-        White                                                     5\n",
      "03-02 13:51:01.331 192.168.0.166:54325   82857     FJ-1-25  INFO water.default:   C9:  factor       Female         Male                                                     2\n",
      "03-02 13:51:01.331 192.168.0.166:54325   82857     FJ-1-25  INFO water.default:  C10: numeric      0.00000      99999.0      1079.07      7452.02                            \n",
      "█03-02 13:51:01.331 192.168.0.166:54325   82857     FJ-1-25  INFO water.default:  C11: numeric      0.00000      4356.00      87.5023      403.005                            \n",
      "03-02 13:51:01.331 192.168.0.166:54325   82857     FJ-1-25  INFO water.default:  C12: numeric      1.00000      99.0000      40.4224      12.3914                            \n",
      "03-02 13:51:01.331 192.168.0.166:54325   82857     FJ-1-25  INFO water.default:  C13:  factor            ?   Yugoslavia                                                    42\n",
      "03-02 13:51:01.331 192.168.0.166:54325   82857     FJ-1-25  INFO water.default:  C14:  factor        <=50K         >50K                                                     2\n",
      "03-02 13:51:01.333 192.168.0.166:54325   82857     FJ-1-25  INFO water.default: Chunk compression summary:\n",
      "03-02 13:51:01.333 192.168.0.166:54325   82857     FJ-1-25  INFO water.default:   Chunk Type                 Chunk Name       Count  Count Percentage        Size  Size Percentage\n",
      "03-02 13:51:01.333 192.168.0.166:54325   82857     FJ-1-25  INFO water.default:          CBS                     Binary         128          14.286 %     20.7 KB          2.829 %\n",
      "03-02 13:51:01.333 192.168.0.166:54325   82857     FJ-1-25  INFO water.default:          CXI            Sparse Integers         128          14.286 %     49.9 KB          6.810 %\n",
      "03-02 13:51:01.333 192.168.0.166:54325   82857     FJ-1-25  INFO water.default:          C1N  1-Byte Integers (w/o NAs)         576          64.286 %    467.5 KB         63.761 %\n",
      "03-02 13:51:01.333 192.168.0.166:54325   82857     FJ-1-25  INFO water.default:           C4            4-Byte Integers          64           7.143 %    195.0 KB         26.599 %\n",
      "03-02 13:51:01.333 192.168.0.166:54325   82857     FJ-1-25  INFO water.default: Frame distribution summary:\n",
      "03-02 13:51:01.333 192.168.0.166:54325   82857     FJ-1-25  INFO water.default:                            Size  Number of Rows  Number of Chunks per Column  Number of Chunks\n",
      "03-02 13:51:01.333 192.168.0.166:54325   82857     FJ-1-25  INFO water.default: 192.168.0.166:54325    733.2 KB           48842                           64               896\n",
      "03-02 13:51:01.333 192.168.0.166:54325   82857     FJ-1-25  INFO water.default:                mean    733.2 KB    48842.000000                    64.000000        896.000000\n",
      "03-02 13:51:01.333 192.168.0.166:54325   82857     FJ-1-25  INFO water.default:                 min    733.2 KB    48842.000000                    64.000000        896.000000\n",
      "03-02 13:51:01.333 192.168.0.166:54325   82857     FJ-1-25  INFO water.default:                 max    733.2 KB    48842.000000                    64.000000        896.000000\n",
      "03-02 13:51:01.333 192.168.0.166:54325   82857     FJ-1-25  INFO water.default:              stddev        0  B        0.000000                     0.000000          0.000000\n",
      "03-02 13:51:01.333 192.168.0.166:54325   82857     FJ-1-25  INFO water.default:               total    733.2 KB           48842                           64               896\n",
      "████████████████████████████████████████████████████████████| (done) 100%\n",
      "03-02 13:51:01.395 192.168.0.166:54325   82857  298793-101  INFO water.default: GET /3/Frames/adult_raw.hex, parms: {column_offset=0, full_column_count=-1, row_count=10, row_offset=0, column_count=-1}\n"
     ]
    }
   ],
   "source": [
    "import h2o\n",
    "adult_h2o = h2o.import_file(path=\"../Data/adult.raw\")"
   ]
  },
  {
   "cell_type": "code",
   "execution_count": 9,
   "id": "bf69666b",
   "metadata": {},
   "outputs": [
    {
     "data": {
      "text/html": [
       "<table>\n",
       "<thead>\n",
       "<tr><th>       </th><th>C1                </th><th>C2              </th><th>C3                </th><th>C4       </th><th>C5                   </th><th>C6               </th><th>C7           </th><th>C8   </th><th>C9    </th><th>C10               </th><th>C11              </th><th>C12               </th><th>C13          </th><th>C14  </th></tr>\n",
       "</thead>\n",
       "<tbody>\n",
       "<tr><td>type   </td><td>int               </td><td>enum            </td><td>int               </td><td>enum     </td><td>enum                 </td><td>enum             </td><td>enum         </td><td>enum </td><td>enum  </td><td>int               </td><td>int              </td><td>int               </td><td>enum         </td><td>enum </td></tr>\n",
       "<tr><td>mins   </td><td>17.0              </td><td>                </td><td>12285.0           </td><td>         </td><td>                     </td><td>                 </td><td>             </td><td>     </td><td>      </td><td>0.0               </td><td>0.0              </td><td>1.0               </td><td>             </td><td>     </td></tr>\n",
       "<tr><td>mean   </td><td>38.64358543876172 </td><td>                </td><td>189664.13459727284</td><td>         </td><td>                     </td><td>                 </td><td>             </td><td>     </td><td>      </td><td>1079.0676262233321</td><td>87.50231358257237</td><td>40.422382375824085</td><td>             </td><td>     </td></tr>\n",
       "<tr><td>maxs   </td><td>90.0              </td><td>                </td><td>1490400.0         </td><td>         </td><td>                     </td><td>                 </td><td>             </td><td>     </td><td>      </td><td>99999.0           </td><td>4356.0           </td><td>99.0              </td><td>             </td><td>     </td></tr>\n",
       "<tr><td>sigma  </td><td>13.710509934443557</td><td>                </td><td>105604.02542315728</td><td>         </td><td>                     </td><td>                 </td><td>             </td><td>     </td><td>      </td><td>7452.019057655394 </td><td>403.004552124359 </td><td>12.391444024252307</td><td>             </td><td>     </td></tr>\n",
       "<tr><td>zeros  </td><td>0                 </td><td>                </td><td>0                 </td><td>         </td><td>                     </td><td>                 </td><td>             </td><td>     </td><td>      </td><td>44807             </td><td>46560            </td><td>0                 </td><td>             </td><td>     </td></tr>\n",
       "<tr><td>missing</td><td>0                 </td><td>0               </td><td>0                 </td><td>0        </td><td>0                    </td><td>0                </td><td>0            </td><td>0    </td><td>0     </td><td>0                 </td><td>0                </td><td>0                 </td><td>0            </td><td>0    </td></tr>\n",
       "<tr><td>0      </td><td>39.0              </td><td>State-gov       </td><td>77516.0           </td><td>Bachelors</td><td>Never-married        </td><td>Adm-clerical     </td><td>Not-in-family</td><td>White</td><td>Male  </td><td>2174.0            </td><td>0.0              </td><td>40.0              </td><td>United-States</td><td>&lt;=50K</td></tr>\n",
       "<tr><td>1      </td><td>50.0              </td><td>Self-emp-not-inc</td><td>83311.0           </td><td>Bachelors</td><td>Married-civ-spouse   </td><td>Exec-managerial  </td><td>Husband      </td><td>White</td><td>Male  </td><td>0.0               </td><td>0.0              </td><td>13.0              </td><td>United-States</td><td>&lt;=50K</td></tr>\n",
       "<tr><td>2      </td><td>38.0              </td><td>Private         </td><td>215646.0          </td><td>HS-grad  </td><td>Divorced             </td><td>Handlers-cleaners</td><td>Not-in-family</td><td>White</td><td>Male  </td><td>0.0               </td><td>0.0              </td><td>40.0              </td><td>United-States</td><td>&lt;=50K</td></tr>\n",
       "<tr><td>3      </td><td>53.0              </td><td>Private         </td><td>234721.0          </td><td>11th     </td><td>Married-civ-spouse   </td><td>Handlers-cleaners</td><td>Husband      </td><td>Black</td><td>Male  </td><td>0.0               </td><td>0.0              </td><td>40.0              </td><td>United-States</td><td>&lt;=50K</td></tr>\n",
       "<tr><td>4      </td><td>28.0              </td><td>Private         </td><td>338409.0          </td><td>Bachelors</td><td>Married-civ-spouse   </td><td>Prof-specialty   </td><td>Wife         </td><td>Black</td><td>Female</td><td>0.0               </td><td>0.0              </td><td>40.0              </td><td>Cuba         </td><td>&lt;=50K</td></tr>\n",
       "<tr><td>5      </td><td>37.0              </td><td>Private         </td><td>284582.0          </td><td>Masters  </td><td>Married-civ-spouse   </td><td>Exec-managerial  </td><td>Wife         </td><td>White</td><td>Female</td><td>0.0               </td><td>0.0              </td><td>40.0              </td><td>United-States</td><td>&lt;=50K</td></tr>\n",
       "<tr><td>6      </td><td>49.0              </td><td>Private         </td><td>160187.0          </td><td>9th      </td><td>Married-spouse-absent</td><td>Other-service    </td><td>Not-in-family</td><td>Black</td><td>Female</td><td>0.0               </td><td>0.0              </td><td>16.0              </td><td>Jamaica      </td><td>&lt;=50K</td></tr>\n",
       "<tr><td>7      </td><td>52.0              </td><td>Self-emp-not-inc</td><td>209642.0          </td><td>HS-grad  </td><td>Married-civ-spouse   </td><td>Exec-managerial  </td><td>Husband      </td><td>White</td><td>Male  </td><td>0.0               </td><td>0.0              </td><td>45.0              </td><td>United-States</td><td>&gt;50K </td></tr>\n",
       "<tr><td>8      </td><td>31.0              </td><td>Private         </td><td>45781.0           </td><td>Masters  </td><td>Never-married        </td><td>Prof-specialty   </td><td>Not-in-family</td><td>White</td><td>Female</td><td>14084.0           </td><td>0.0              </td><td>50.0              </td><td>United-States</td><td>&gt;50K </td></tr>\n",
       "<tr><td>9      </td><td>42.0              </td><td>Private         </td><td>159449.0          </td><td>Bachelors</td><td>Married-civ-spouse   </td><td>Exec-managerial  </td><td>Husband      </td><td>White</td><td>Male  </td><td>5178.0            </td><td>0.0              </td><td>40.0              </td><td>United-States</td><td>&gt;50K </td></tr>\n",
       "</tbody>\n",
       "</table>"
      ]
     },
     "metadata": {},
     "output_type": "display_data"
    }
   ],
   "source": [
    "adult_h2o.summary()"
   ]
  },
  {
   "cell_type": "code",
   "execution_count": 10,
   "id": "f5b0c0fc",
   "metadata": {},
   "outputs": [
    {
     "name": "stdout",
     "output_type": "stream",
     "text": [
      "03-02 13:51:01.430 192.168.0.166:54325   82857  298793-129  INFO water.default: POST /4/sessions, parms: {}\n",
      "03-02 13:51:01.438 192.168.0.166:54325   82857  298793-101  INFO water.default: POST /99/Rapids, parms: {ast=(tmp= py_1_sid_a2a8 (colnames= adult_raw.hex [0 1 2 3 4 5 6 7 8 9 10 11 12 13] ['age' 'capital_gain' 'capital_loss' 'education' 'fnlwgt' 'hours_per_week' 'income' 'marital_status' 'native_country' 'occupation' 'race' 'relationship' 'sex' 'workclass'])), session_id=_sid_a2a8}\n",
      "03-02 13:51:01.446 192.168.0.166:54325   82857  298793-129  INFO water.default: GET /3/Frames/py_1_sid_a2a8, parms: {column_offset=0, full_column_count=-1, row_count=10, row_offset=0, column_count=-1}\n"
     ]
    },
    {
     "data": {
      "text/html": [
       "<table>\n",
       "<thead>\n",
       "<tr><th style=\"text-align: right;\">  age</th><th>capital_gain    </th><th style=\"text-align: right;\">  capital_loss</th><th>education  </th><th>fnlwgt               </th><th>hours_per_week   </th><th>income       </th><th>marital_status  </th><th>native_country  </th><th style=\"text-align: right;\">  occupation</th><th style=\"text-align: right;\">  race</th><th style=\"text-align: right;\">  relationship</th><th>sex          </th><th>workclass  </th></tr>\n",
       "</thead>\n",
       "<tbody>\n",
       "<tr><td style=\"text-align: right;\">   39</td><td>State-gov       </td><td style=\"text-align: right;\">         77516</td><td>Bachelors  </td><td>Never-married        </td><td>Adm-clerical     </td><td>Not-in-family</td><td>White           </td><td>Male            </td><td style=\"text-align: right;\">        2174</td><td style=\"text-align: right;\">     0</td><td style=\"text-align: right;\">            40</td><td>United-States</td><td>&lt;=50K      </td></tr>\n",
       "<tr><td style=\"text-align: right;\">   50</td><td>Self-emp-not-inc</td><td style=\"text-align: right;\">         83311</td><td>Bachelors  </td><td>Married-civ-spouse   </td><td>Exec-managerial  </td><td>Husband      </td><td>White           </td><td>Male            </td><td style=\"text-align: right;\">           0</td><td style=\"text-align: right;\">     0</td><td style=\"text-align: right;\">            13</td><td>United-States</td><td>&lt;=50K      </td></tr>\n",
       "<tr><td style=\"text-align: right;\">   38</td><td>Private         </td><td style=\"text-align: right;\">        215646</td><td>HS-grad    </td><td>Divorced             </td><td>Handlers-cleaners</td><td>Not-in-family</td><td>White           </td><td>Male            </td><td style=\"text-align: right;\">           0</td><td style=\"text-align: right;\">     0</td><td style=\"text-align: right;\">            40</td><td>United-States</td><td>&lt;=50K      </td></tr>\n",
       "<tr><td style=\"text-align: right;\">   53</td><td>Private         </td><td style=\"text-align: right;\">        234721</td><td>11th       </td><td>Married-civ-spouse   </td><td>Handlers-cleaners</td><td>Husband      </td><td>Black           </td><td>Male            </td><td style=\"text-align: right;\">           0</td><td style=\"text-align: right;\">     0</td><td style=\"text-align: right;\">            40</td><td>United-States</td><td>&lt;=50K      </td></tr>\n",
       "<tr><td style=\"text-align: right;\">   28</td><td>Private         </td><td style=\"text-align: right;\">        338409</td><td>Bachelors  </td><td>Married-civ-spouse   </td><td>Prof-specialty   </td><td>Wife         </td><td>Black           </td><td>Female          </td><td style=\"text-align: right;\">           0</td><td style=\"text-align: right;\">     0</td><td style=\"text-align: right;\">            40</td><td>Cuba         </td><td>&lt;=50K      </td></tr>\n",
       "<tr><td style=\"text-align: right;\">   37</td><td>Private         </td><td style=\"text-align: right;\">        284582</td><td>Masters    </td><td>Married-civ-spouse   </td><td>Exec-managerial  </td><td>Wife         </td><td>White           </td><td>Female          </td><td style=\"text-align: right;\">           0</td><td style=\"text-align: right;\">     0</td><td style=\"text-align: right;\">            40</td><td>United-States</td><td>&lt;=50K      </td></tr>\n",
       "<tr><td style=\"text-align: right;\">   49</td><td>Private         </td><td style=\"text-align: right;\">        160187</td><td>9th        </td><td>Married-spouse-absent</td><td>Other-service    </td><td>Not-in-family</td><td>Black           </td><td>Female          </td><td style=\"text-align: right;\">           0</td><td style=\"text-align: right;\">     0</td><td style=\"text-align: right;\">            16</td><td>Jamaica      </td><td>&lt;=50K      </td></tr>\n",
       "<tr><td style=\"text-align: right;\">   52</td><td>Self-emp-not-inc</td><td style=\"text-align: right;\">        209642</td><td>HS-grad    </td><td>Married-civ-spouse   </td><td>Exec-managerial  </td><td>Husband      </td><td>White           </td><td>Male            </td><td style=\"text-align: right;\">           0</td><td style=\"text-align: right;\">     0</td><td style=\"text-align: right;\">            45</td><td>United-States</td><td>&gt;50K       </td></tr>\n",
       "<tr><td style=\"text-align: right;\">   31</td><td>Private         </td><td style=\"text-align: right;\">         45781</td><td>Masters    </td><td>Never-married        </td><td>Prof-specialty   </td><td>Not-in-family</td><td>White           </td><td>Female          </td><td style=\"text-align: right;\">       14084</td><td style=\"text-align: right;\">     0</td><td style=\"text-align: right;\">            50</td><td>United-States</td><td>&gt;50K       </td></tr>\n",
       "<tr><td style=\"text-align: right;\">   42</td><td>Private         </td><td style=\"text-align: right;\">        159449</td><td>Bachelors  </td><td>Married-civ-spouse   </td><td>Exec-managerial  </td><td>Husband      </td><td>White           </td><td>Male            </td><td style=\"text-align: right;\">        5178</td><td style=\"text-align: right;\">     0</td><td style=\"text-align: right;\">            40</td><td>United-States</td><td>&gt;50K       </td></tr>\n",
       "</tbody>\n",
       "</table>"
      ]
     },
     "metadata": {},
     "output_type": "display_data"
    },
    {
     "data": {
      "text/plain": []
     },
     "execution_count": 10,
     "metadata": {},
     "output_type": "execute_result"
    }
   ],
   "source": [
    "adult_h2o.set_names([\"age\", \"capital_gain\", \"capital_loss\", \"education\", \"fnlwgt\", \"hours_per_week\", \"income\", \"marital_status\", \"native_country\", \"occupation\", \"race\", \"relationship\", \"sex\", \"workclass\"])"
   ]
  },
  {
   "cell_type": "markdown",
   "id": "d8b33d72",
   "metadata": {},
   "source": [
    "## Convert as Spark DataFrame"
   ]
  },
  {
   "cell_type": "code",
   "execution_count": 11,
   "id": "b605ef24",
   "metadata": {},
   "outputs": [
    {
     "name": "stdout",
     "output_type": "stream",
     "text": [
      "03-02 13:51:01.463 192.168.0.166:54325   82857  8298793-83  INFO water.default: GET /3/Frames/py_1_sid_a2a8/summary, parms: {row_count=0}\n",
      "03-02 13:51:01.479 192.168.0.166:54325   82857    Thread-4  INFO ai.h2o.sparkling.H2OFrame: H2O node http://192.168.0.166:54325/3/Frames/py_1_sid_a2a8/summary?row_count=0 successfully responded for the GET.\n",
      "03-02 13:51:01.486 192.168.0.166:54325   82857    Thread-4  INFO ai.h2o.sparkling.backend.utils.RestApiUtils: H2O node http://192.168.0.166:54325/3/Cloud successfully responded for the GET.\n",
      "03-02 13:51:01.488 192.168.0.166:54325   82857  8298793-83  INFO water.default: GET /3/FrameChunks/py_1_sid_a2a8, parms: {}\n",
      "03-02 13:51:01.489 192.168.0.166:54325   82857    Thread-4  INFO ai.h2o.sparkling.H2OFrame: H2O node http://192.168.0.166:54325/3/FrameChunks/py_1_sid_a2a8 successfully responded for the GET.\n"
     ]
    }
   ],
   "source": [
    "adult_df = hc.asSparkFrame(adult_h2o)"
   ]
  },
  {
   "cell_type": "code",
   "execution_count": 12,
   "id": "8702b2a4",
   "metadata": {},
   "outputs": [
    {
     "name": "stdout",
     "output_type": "stream",
     "text": [
      "03-02 13:51:01.674 192.168.0.166:54325   82857    Thread-4  INFO org.apache.spark.sql.catalyst.expressions.codegen.CodeGenerator: Code generated in 14.452289 ms\n",
      "03-02 13:51:01.682 192.168.0.166:54325   82857    Thread-4  INFO org.apache.spark.SparkContext: Starting job: showString at NativeMethodAccessorImpl.java:0\n",
      "03-02 13:51:01.682 192.168.0.166:54325   82857  event-loop  INFO org.apache.spark.scheduler.DAGScheduler: Got job 2 (showString at NativeMethodAccessorImpl.java:0) with 1 output partitions\n",
      "03-02 13:51:01.682 192.168.0.166:54325   82857  event-loop  INFO org.apache.spark.scheduler.DAGScheduler: Final stage: ResultStage 2 (showString at NativeMethodAccessorImpl.java:0)\n",
      "03-02 13:51:01.682 192.168.0.166:54325   82857  event-loop  INFO org.apache.spark.scheduler.DAGScheduler: Parents of final stage: List()\n",
      "03-02 13:51:01.683 192.168.0.166:54325   82857  event-loop  INFO org.apache.spark.scheduler.DAGScheduler: Missing parents: List()\n",
      "03-02 13:51:01.684 192.168.0.166:54325   82857  event-loop  INFO org.apache.spark.scheduler.DAGScheduler: Submitting ResultStage 2 (MapPartitionsRDD[14] at showString at NativeMethodAccessorImpl.java:0), which has no missing parents\n",
      "03-02 13:51:01.698 192.168.0.166:54325   82857  event-loop  INFO org.apache.spark.storage.memory.MemoryStore: Block broadcast_3 stored as values in memory (estimated size 21.0 KiB, free 365.9 MiB)\n",
      "03-02 13:51:01.700 192.168.0.166:54325   82857  event-loop  INFO org.apache.spark.storage.memory.MemoryStore: Block broadcast_3_piece0 stored as bytes in memory (estimated size 10.0 KiB, free 365.8 MiB)\n",
      "03-02 13:51:01.700 192.168.0.166:54325   82857  agerMaster  INFO org.apache.spark.storage.BlockManagerInfo: Added broadcast_3_piece0 in memory on 192.168.0.166:49466 (size: 10.0 KiB, free: 366.2 MiB)\n",
      "03-02 13:51:01.700 192.168.0.166:54325   82857  event-loop  INFO org.apache.spark.SparkContext: Created broadcast 3 from broadcast at DAGScheduler.scala:1427\n",
      "03-02 13:51:01.701 192.168.0.166:54325   82857  event-loop  INFO org.apache.spark.scheduler.DAGScheduler: Submitting 1 missing tasks from ResultStage 2 (MapPartitionsRDD[14] at showString at NativeMethodAccessorImpl.java:0) (first 15 tasks are for partitions Vector(0))\n",
      "03-02 13:51:01.701 192.168.0.166:54325   82857  event-loop  INFO org.apache.spark.scheduler.TaskSchedulerImpl: Adding task set 2.0 with 1 tasks resource profile 0\n",
      "03-02 13:51:01.702 192.168.0.166:54325   82857  ent-loop-2  INFO org.apache.spark.scheduler.TaskSetManager: Starting task 0.0 in stage 2.0 (TID 8) (192.168.0.166, executor driver, partition 0, NODE_LOCAL, 4267 bytes) taskResourceAssignments Map()\n",
      "03-02 13:51:01.703 192.168.0.166:54325   82857  .0 (TID 8)  INFO org.apache.spark.executor.Executor: Running task 0.0 in stage 2.0 (TID 8)\n",
      "03-02 13:51:01.744 192.168.0.166:54325   82857  .0 (TID 8)  INFO ai.h2o.sparkling.backend.H2OChunk: H2O node http://192.168.0.166:54325/3/Chunk successfully responded for the POST.\n",
      "03-02 13:51:01.757 192.168.0.166:54325   82857  .0 (TID 8)  INFO org.apache.spark.executor.Executor: Finished task 0.0 in stage 2.0 (TID 8). 3821 bytes result sent to driver\n",
      "03-02 13:51:01.757 192.168.0.166:54325   82857  t-getter-3  INFO org.apache.spark.scheduler.TaskSetManager: Finished task 0.0 in stage 2.0 (TID 8) in 55 ms on 192.168.0.166 (executor driver) (1/1)\n",
      "03-02 13:51:01.757 192.168.0.166:54325   82857  t-getter-3  INFO org.apache.spark.scheduler.TaskSchedulerImpl: Removed TaskSet 2.0, whose tasks have all completed, from pool \n",
      "03-02 13:51:01.758 192.168.0.166:54325   82857  event-loop  INFO org.apache.spark.scheduler.DAGScheduler: ResultStage 2 (showString at NativeMethodAccessorImpl.java:0) finished in 0.073 s\n",
      "03-02 13:51:01.758 192.168.0.166:54325   82857  event-loop  INFO org.apache.spark.scheduler.DAGScheduler: Job 2 is finished. Cancelling potential speculative or zombie tasks for this job\n",
      "03-02 13:51:01.758 192.168.0.166:54325   82857  event-loop  INFO org.apache.spark.scheduler.TaskSchedulerImpl: Killing all running tasks in stage 2: Stage finished\n",
      "03-02 13:51:01.758 192.168.0.166:54325   82857    Thread-4  INFO org.apache.spark.scheduler.DAGScheduler: Job 2 finished: showString at NativeMethodAccessorImpl.java:0, took 0.076723 s\n",
      "03-02 13:51:01.785 192.168.0.166:54325   82857    Thread-4  INFO org.apache.spark.sql.catalyst.expressions.codegen.CodeGenerator: Code generated in 18.165034 ms\n",
      "03-02 13:51:01.804 192.168.0.166:54325   82857  agerMaster  INFO org.apache.spark.storage.BlockManagerInfo: Removed broadcast_3_piece0 on 192.168.0.166:49466 in memory (size: 10.0 KiB, free: 366.3 MiB)\n",
      "+---+----------------+------------+------------+--------------------+-----------------+-------------+------------------+--------------+----------+----+------------+-------------+---------+\n",
      "|age|    capital_gain|capital_loss|   education|              fnlwgt|   hours_per_week|       income|    marital_status|native_country|occupation|race|relationship|          sex|workclass|\n",
      "+---+----------------+------------+------------+--------------------+-----------------+-------------+------------------+--------------+----------+----+------------+-------------+---------+\n",
      "| 39|       State-gov|       77516|   Bachelors|       Never-married|     Adm-clerical|Not-in-family|             White|          Male|      2174|   0|          40|United-States|    <=50K|\n",
      "| 50|Self-emp-not-inc|       83311|   Bachelors|  Married-civ-spouse|  Exec-managerial|      Husband|             White|          Male|         0|   0|          13|United-States|    <=50K|\n",
      "| 38|         Private|      215646|     HS-grad|            Divorced|Handlers-cleaners|Not-in-family|             White|          Male|         0|   0|          40|United-States|    <=50K|\n",
      "| 53|         Private|      234721|        11th|  Married-civ-spouse|Handlers-cleaners|      Husband|             Black|          Male|         0|   0|          40|United-States|    <=50K|\n",
      "| 28|         Private|      338409|   Bachelors|  Married-civ-spouse|   Prof-specialty|         Wife|             Black|        Female|         0|   0|          40|         Cuba|    <=50K|\n",
      "| 37|         Private|      284582|     Masters|  Married-civ-spouse|  Exec-managerial|         Wife|             White|        Female|         0|   0|          40|United-States|    <=50K|\n",
      "| 49|         Private|      160187|         9th|Married-spouse-ab...|    Other-service|Not-in-family|             Black|        Female|         0|   0|          16|      Jamaica|    <=50K|\n",
      "| 52|Self-emp-not-inc|      209642|     HS-grad|  Married-civ-spouse|  Exec-managerial|      Husband|             White|          Male|         0|   0|          45|United-States|     >50K|\n",
      "| 31|         Private|       45781|     Masters|       Never-married|   Prof-specialty|Not-in-family|             White|        Female|     14084|   0|          50|United-States|     >50K|\n",
      "| 42|         Private|      159449|   Bachelors|  Married-civ-spouse|  Exec-managerial|      Husband|             White|          Male|      5178|   0|          40|United-States|     >50K|\n",
      "| 37|         Private|      280464|Some-college|  Married-civ-spouse|  Exec-managerial|      Husband|             Black|          Male|         0|   0|          80|United-States|     >50K|\n",
      "| 30|       State-gov|      141297|   Bachelors|  Married-civ-spouse|   Prof-specialty|      Husband|Asian-Pac-Islander|          Male|         0|   0|          40|        India|     >50K|\n",
      "| 23|         Private|      122272|   Bachelors|       Never-married|     Adm-clerical|    Own-child|             White|        Female|         0|   0|          30|United-States|    <=50K|\n",
      "| 32|         Private|      205019|  Assoc-acdm|       Never-married|            Sales|Not-in-family|             Black|          Male|         0|   0|          50|United-States|    <=50K|\n",
      "| 40|         Private|      121772|   Assoc-voc|  Married-civ-spouse|     Craft-repair|      Husband|Asian-Pac-Islander|          Male|         0|   0|          40|            ?|     >50K|\n",
      "| 34|         Private|      245487|     7th-8th|  Married-civ-spouse| Transport-moving|      Husband|Amer-Indian-Eskimo|          Male|         0|   0|          45|       Mexico|    <=50K|\n",
      "| 25|Self-emp-not-inc|      176756|     HS-grad|       Never-married|  Farming-fishing|    Own-child|             White|          Male|         0|   0|          35|United-States|    <=50K|\n",
      "| 32|         Private|      186824|     HS-grad|       Never-married|Machine-op-inspct|    Unmarried|             White|          Male|         0|   0|          40|United-States|    <=50K|\n",
      "| 38|         Private|       28887|        11th|  Married-civ-spouse|            Sales|      Husband|             White|          Male|         0|   0|          50|United-States|    <=50K|\n",
      "| 43|Self-emp-not-inc|      292175|     Masters|            Divorced|  Exec-managerial|    Unmarried|             White|        Female|         0|   0|          45|United-States|     >50K|\n",
      "+---+----------------+------------+------------+--------------------+-----------------+-------------+------------------+--------------+----------+----+------------+-------------+---------+\n",
      "only showing top 20 rows\n",
      "\n"
     ]
    }
   ],
   "source": [
    "adult_df.show()"
   ]
  },
  {
   "cell_type": "code",
   "execution_count": 13,
   "id": "572948da",
   "metadata": {},
   "outputs": [
    {
     "name": "stdout",
     "output_type": "stream",
     "text": [
      "03-02 13:51:01.829 192.168.0.166:54325   82857    Thread-4  INFO org.apache.spark.ui.SparkUI: Stopped Spark web UI at http://192.168.0.166:4044\n",
      "03-02 13:51:01.841 192.168.0.166:54325   82857  nt-loop-10  INFO org.apache.spark.MapOutputTrackerMasterEndpoint: MapOutputTrackerMasterEndpoint stopped!\n",
      "03-02 13:51:01.860 192.168.0.166:54325   82857    Thread-4  INFO org.apache.spark.storage.memory.MemoryStore: MemoryStore cleared\n",
      "03-02 13:51:01.860 192.168.0.166:54325   82857    Thread-4  INFO org.apache.spark.storage.BlockManager: BlockManager stopped\n",
      "03-02 13:51:01.862 192.168.0.166:54325   82857    Thread-4  INFO org.apache.spark.storage.BlockManagerMaster: BlockManagerMaster stopped\n",
      "03-02 13:51:01.865 192.168.0.166:54325   82857  nt-loop-14  INFO org.apache.spark.scheduler.OutputCommitCoordinator$OutputCommitCoordinatorEndpoint: OutputCommitCoordinator stopped!\n",
      "03-02 13:51:01.875 192.168.0.166:54325   82857    Thread-4  INFO org.apache.spark.SparkContext: Successfully stopped SparkContext\n"
     ]
    }
   ],
   "source": [
    "ss.stop()"
   ]
  },
  {
   "cell_type": "code",
   "execution_count": null,
   "id": "642c9875",
   "metadata": {},
   "outputs": [],
   "source": []
  }
 ],
 "metadata": {
  "kernelspec": {
   "display_name": "Python 3 (ipykernel)",
   "language": "python",
   "name": "python3"
  },
  "language_info": {
   "codemirror_mode": {
    "name": "ipython",
    "version": 3
   },
   "file_extension": ".py",
   "mimetype": "text/x-python",
   "name": "python",
   "nbconvert_exporter": "python",
   "pygments_lexer": "ipython3",
   "version": "3.7.11"
  },
  "varInspector": {
   "cols": {
    "lenName": 16,
    "lenType": 16,
    "lenVar": 40
   },
   "kernels_config": {
    "python": {
     "delete_cmd_postfix": "",
     "delete_cmd_prefix": "del ",
     "library": "var_list.py",
     "varRefreshCmd": "print(var_dic_list())"
    },
    "r": {
     "delete_cmd_postfix": ") ",
     "delete_cmd_prefix": "rm(",
     "library": "var_list.r",
     "varRefreshCmd": "cat(var_dic_list()) "
    }
   },
   "types_to_exclude": [
    "module",
    "function",
    "builtin_function_or_method",
    "instance",
    "_Feature"
   ],
   "window_display": false
  }
 },
 "nbformat": 4,
 "nbformat_minor": 5
}
