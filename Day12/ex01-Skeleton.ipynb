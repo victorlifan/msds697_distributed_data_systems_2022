{
 "cells": [
  {
   "cell_type": "code",
   "execution_count": 1,
   "id": "af4dfbc6",
   "metadata": {},
   "outputs": [],
   "source": [
    "from pyspark.sql import SparkSession\n",
    "from pysparkling import *\n",
    "from pyspark.sql.types import *\n",
    "\n"
   ]
  },
  {
   "cell_type": "markdown",
   "id": "17d0cc52",
   "metadata": {},
   "source": [
    "## Create from Spark DataFrame"
   ]
  },
  {
   "cell_type": "code",
   "execution_count": 2,
   "id": "7384b691",
   "metadata": {},
   "outputs": [],
   "source": [
    "def toDoubleSafe(v):\n",
    "    try:\n",
    "        return float(v)\n",
    "    except:\n",
    "        return str(v) #if it is not a float type return as a string.\n",
    "    \n",
    "adultschema = StructType([\n",
    "    StructField(\"age\",DoubleType(),True),\n",
    "    StructField(\"workclass\",StringType(),True),\n",
    "    StructField(\"fnlwgt\",DoubleType(),True),\n",
    "    StructField(\"education\",StringType(),True),\n",
    "    StructField(\"marital_status\",StringType(),True),\n",
    "    StructField(\"occupation\",StringType(),True),\n",
    "    StructField(\"relationship\",StringType(),True),\n",
    "    StructField(\"race\",StringType(),True),\n",
    "    StructField(\"sex\",StringType(),True),\n",
    "    StructField(\"capital_gain\",DoubleType(),True),\n",
    "    StructField(\"capital_loss\",DoubleType(),True),\n",
    "    StructField(\"hours_per_week\",DoubleType(),True),\n",
    "    StructField(\"native_country\",StringType(),True),\n",
    "    StructField(\"income\",StringType(),True)\n",
    "])"
   ]
  },
  {
   "cell_type": "code",
   "execution_count": 4,
   "id": "95d91408-86a8-4a55-b846-23e403176edd",
   "metadata": {
    "tags": []
   },
   "outputs": [],
   "source": [
    "ss = SparkSession.builder.getOrCreate()\n",
    "hc = H2OContext.getOrCreate()"
   ]
  },
  {
   "cell_type": "code",
   "execution_count": 5,
   "id": "4457c2e4",
   "metadata": {},
   "outputs": [
    {
     "name": "stdout",
     "output_type": "stream",
     "text": [
      "03-06 19:43:25.398 10.0.0.115:54321      77804    Thread-4  INFO org.apache.spark.storage.memory.MemoryStore: Block broadcast_0 stored as values in memory (estimated size 354.2 KiB, free 366.0 MiB)\n",
      "03-06 19:43:25.584 10.0.0.115:54321      77804    Thread-4  INFO org.apache.spark.storage.memory.MemoryStore: Block broadcast_0_piece0 stored as bytes in memory (estimated size 32.0 KiB, free 365.9 MiB)\n",
      "03-06 19:43:25.586 10.0.0.115:54321      77804  agerMaster  INFO org.apache.spark.storage.BlockManagerInfo: Added broadcast_0_piece0 in memory on 10.0.0.115:56039 (size: 32.0 KiB, free: 366.3 MiB)\n",
      "03-06 19:43:25.590 10.0.0.115:54321      77804    Thread-4  INFO org.apache.spark.SparkContext: Created broadcast 0 from textFile at NativeMethodAccessorImpl.java:0\n",
      "03-06 19:43:26.030 10.0.0.115:54321      77804    Thread-4  INFO org.apache.spark.sql.internal.SharedState: Setting hive.metastore.warehouse.dir ('null') to the value of spark.sql.warehouse.dir.\n",
      "03-06 19:43:26.034 10.0.0.115:54321      77804    Thread-4  INFO org.apache.spark.sql.internal.SharedState: Warehouse path is 'file:/Users/fanli/Desktop/classes/spring_1/697_DISTRIBUTED_DATA_SYSTEMS/msds697_distributed_data_systems_2022/Day12/spark-warehouse'.\n"
     ]
    }
   ],
   "source": [
    "#load and convert the data\n",
    "census_raw = ss.sparkContext.textFile(\"../Data/adult.raw\", 4).map(lambda x:  x.split(\", \"))\n",
    "census_raw = census_raw.map(lambda row:  [toDoubleSafe(x) for x in row])\n",
    "\n",
    "dfraw = ss.createDataFrame(census_raw, adultschema)"
   ]
  },
  {
   "cell_type": "code",
   "execution_count": 11,
   "id": "9a060943",
   "metadata": {
    "collapsed": true,
    "jupyter": {
     "outputs_hidden": true
    },
    "tags": []
   },
   "outputs": [
    {
     "name": "stdout",
     "output_type": "stream",
     "text": [
      "03-06 19:47:51.243 10.0.0.115:54321      77804  866381-178  INFO water.default: POST /3/InitializeFrame, parms: {key=adult, columns=[\"age\",\"workclass\",\"fnlwgt\",\"education\",\"marital_status\",\"occupation\",\"relationship\",\"race\",\"sex\",\"capital_gain\",\"capital_loss\",\"hours_per_week\",\"native_country\",\"income\"]}\n",
      "03-06 19:47:51.297 10.0.0.115:54321      77804    Thread-4  INFO ai.h2o.sparkling.H2OFrame: H2O node http://10.0.0.115:54321/3/InitializeFrame successfully responded for the POST.\n",
      "03-06 19:47:51.315 10.0.0.115:54321      77804    Thread-4  INFO org.apache.spark.SparkContext: Starting job: collect at Writer.scala:169\n",
      "03-06 19:47:51.318 10.0.0.115:54321      77804  event-loop  INFO org.apache.spark.scheduler.DAGScheduler: Got job 5 (collect at Writer.scala:169) with 4 output partitions\n",
      "03-06 19:47:51.318 10.0.0.115:54321      77804  event-loop  INFO org.apache.spark.scheduler.DAGScheduler: Final stage: ResultStage 5 (collect at Writer.scala:169)\n",
      "03-06 19:47:51.318 10.0.0.115:54321      77804  event-loop  INFO org.apache.spark.scheduler.DAGScheduler: Parents of final stage: List()\n",
      "03-06 19:47:51.321 10.0.0.115:54321      77804  event-loop  INFO org.apache.spark.scheduler.DAGScheduler: Missing parents: List()\n",
      "03-06 19:47:51.325 10.0.0.115:54321      77804  event-loop  INFO org.apache.spark.scheduler.DAGScheduler: Submitting ResultStage 5 (MapPartitionsRDD[25] at mapPartitionsWithIndex at Writer.scala:169), which has no missing parents\n",
      "03-06 19:47:51.339 10.0.0.115:54321      77804  event-loop  INFO org.apache.spark.storage.memory.MemoryStore: Block broadcast_6 stored as values in memory (estimated size 34.9 KiB, free 365.8 MiB)\n",
      "03-06 19:47:51.342 10.0.0.115:54321      77804  event-loop  INFO org.apache.spark.storage.memory.MemoryStore: Block broadcast_6_piece0 stored as bytes in memory (estimated size 15.1 KiB, free 365.8 MiB)\n",
      "03-06 19:47:51.344 10.0.0.115:54321      77804  agerMaster  INFO org.apache.spark.storage.BlockManagerInfo: Added broadcast_6_piece0 in memory on 10.0.0.115:56039 (size: 15.1 KiB, free: 366.2 MiB)\n",
      "03-06 19:47:51.345 10.0.0.115:54321      77804  event-loop  INFO org.apache.spark.SparkContext: Created broadcast 6 from broadcast at DAGScheduler.scala:1427\n",
      "03-06 19:47:51.346 10.0.0.115:54321      77804  event-loop  INFO org.apache.spark.scheduler.DAGScheduler: Submitting 4 missing tasks from ResultStage 5 (MapPartitionsRDD[25] at mapPartitionsWithIndex at Writer.scala:169) (first 15 tasks are for partitions Vector(0, 1, 2, 3))\n",
      "03-06 19:47:51.346 10.0.0.115:54321      77804  event-loop  INFO org.apache.spark.scheduler.TaskSchedulerImpl: Adding task set 5.0 with 4 tasks resource profile 0\n",
      "03-06 19:47:51.349 10.0.0.115:54321      77804  ent-loop-3  INFO org.apache.spark.scheduler.TaskSetManager: Starting task 0.0 in stage 5.0 (TID 17) (10.0.0.115, executor driver, partition 0, NODE_LOCAL, 4593 bytes) taskResourceAssignments Map()\n",
      "03-06 19:47:51.350 10.0.0.115:54321      77804  ent-loop-3  INFO org.apache.spark.scheduler.TaskSetManager: Starting task 1.0 in stage 5.0 (TID 18) (10.0.0.115, executor driver, partition 1, NODE_LOCAL, 4593 bytes) taskResourceAssignments Map()\n",
      "03-06 19:47:51.351 10.0.0.115:54321      77804  ent-loop-3  INFO org.apache.spark.scheduler.TaskSetManager: Starting task 2.0 in stage 5.0 (TID 19) (10.0.0.115, executor driver, partition 2, NODE_LOCAL, 4593 bytes) taskResourceAssignments Map()\n",
      "03-06 19:47:51.351 10.0.0.115:54321      77804  ent-loop-3  INFO org.apache.spark.scheduler.TaskSetManager: Starting task 3.0 in stage 5.0 (TID 20) (10.0.0.115, executor driver, partition 3, NODE_LOCAL, 4593 bytes) taskResourceAssignments Map()\n",
      "03-06 19:47:51.353 10.0.0.115:54321      77804  0 (TID 17)  INFO org.apache.spark.executor.Executor: Running task 0.0 in stage 5.0 (TID 17)\n",
      "03-06 19:47:51.353 10.0.0.115:54321      77804  0 (TID 18)  INFO org.apache.spark.executor.Executor: Running task 1.0 in stage 5.0 (TID 18)\n",
      "03-06 19:47:51.354 10.0.0.115:54321      77804  0 (TID 19)  INFO org.apache.spark.executor.Executor: Running task 2.0 in stage 5.0 (TID 19)\n",
      "03-06 19:47:51.356 10.0.0.115:54321      77804  0 (TID 20)  INFO org.apache.spark.executor.Executor: Running task 3.0 in stage 5.0 (TID 20)\n",
      "03-06 19:47:51.383 10.0.0.115:54321      77804  0 (TID 19)  INFO org.apache.spark.rdd.HadoopRDD: Input split: file:/Users/fanli/Desktop/classes/spring_1/697_DISTRIBUTED_DATA_SYSTEMS/msds697_distributed_data_systems_2022/Data/adult.raw:2893988+1446994\n",
      "03-06 19:47:51.384 10.0.0.115:54321      77804  0 (TID 18)  INFO org.apache.spark.rdd.HadoopRDD: Input split: file:/Users/fanli/Desktop/classes/spring_1/697_DISTRIBUTED_DATA_SYSTEMS/msds697_distributed_data_systems_2022/Data/adult.raw:1446994+1446994\n",
      "03-06 19:47:51.384 10.0.0.115:54321      77804  0 (TID 20)  INFO org.apache.spark.rdd.HadoopRDD: Input split: file:/Users/fanli/Desktop/classes/spring_1/697_DISTRIBUTED_DATA_SYSTEMS/msds697_distributed_data_systems_2022/Data/adult.raw:4340982+1446996\n",
      "03-06 19:47:51.383 10.0.0.115:54321      77804  0 (TID 17)  INFO org.apache.spark.rdd.HadoopRDD: Input split: file:/Users/fanli/Desktop/classes/spring_1/697_DISTRIBUTED_DATA_SYSTEMS/msds697_distributed_data_systems_2022/Data/adult.raw:0+1446994\n",
      "03-06 19:47:51.546 10.0.0.115:54321      77804  agerMaster  INFO org.apache.spark.storage.BlockManagerInfo: Removed broadcast_5_piece0 on 10.0.0.115:56039 in memory (size: 18.0 KiB, free: 366.3 MiB)\n",
      "03-06 19:47:51.713 10.0.0.115:54321      77804  0 (TID 17)  INFO org.apache.spark.api.python.PythonRunner: Times: total = 302, boot = 21, init = 18, finish = 263\n",
      "03-06 19:47:51.715 10.0.0.115:54321      77804  0 (TID 19)  INFO org.apache.spark.api.python.PythonRunner: Times: total = 289, boot = 11, init = 8, finish = 270\n",
      "03-06 19:47:51.732 10.0.0.115:54321      77804  0 (TID 20)  INFO org.apache.spark.api.python.PythonRunner: Times: total = 329, boot = 75, init = 29, finish = 225\n",
      "03-06 19:47:51.733 10.0.0.115:54321      77804  0 (TID 17)  INFO org.apache.spark.executor.Executor: Finished task 0.0 in stage 5.0 (TID 17). 1868 bytes result sent to driver\n",
      "03-06 19:47:51.733 10.0.0.115:54321      77804  0 (TID 19)  INFO org.apache.spark.executor.Executor: Finished task 2.0 in stage 5.0 (TID 19). 1911 bytes result sent to driver\n",
      "03-06 19:47:51.742 10.0.0.115:54321      77804  0 (TID 18)  INFO org.apache.spark.api.python.PythonRunner: Times: total = 335, boot = 7, init = 8, finish = 320\n",
      "03-06 19:47:51.743 10.0.0.115:54321      77804  t-getter-2  INFO org.apache.spark.scheduler.TaskSetManager: Finished task 2.0 in stage 5.0 (TID 19) in 393 ms on 10.0.0.115 (executor driver) (1/4)\n",
      "03-06 19:47:51.744 10.0.0.115:54321      77804  t-getter-0  INFO org.apache.spark.scheduler.TaskSetManager: Finished task 0.0 in stage 5.0 (TID 17) in 396 ms on 10.0.0.115 (executor driver) (2/4)\n",
      "03-06 19:47:51.744 10.0.0.115:54321      77804  0 (TID 20)  INFO org.apache.spark.executor.Executor: Finished task 3.0 in stage 5.0 (TID 20). 1911 bytes result sent to driver\n",
      "03-06 19:47:51.746 10.0.0.115:54321      77804  t-getter-1  INFO org.apache.spark.scheduler.TaskSetManager: Finished task 3.0 in stage 5.0 (TID 20) in 395 ms on 10.0.0.115 (executor driver) (3/4)\n",
      "03-06 19:47:51.746 10.0.0.115:54321      77804  0 (TID 18)  INFO org.apache.spark.executor.Executor: Finished task 1.0 in stage 5.0 (TID 18). 1868 bytes result sent to driver\n",
      "03-06 19:47:51.747 10.0.0.115:54321      77804  t-getter-3  INFO org.apache.spark.scheduler.TaskSetManager: Finished task 1.0 in stage 5.0 (TID 18) in 397 ms on 10.0.0.115 (executor driver) (4/4)\n",
      "03-06 19:47:51.747 10.0.0.115:54321      77804  t-getter-3  INFO org.apache.spark.scheduler.TaskSchedulerImpl: Removed TaskSet 5.0, whose tasks have all completed, from pool \n",
      "03-06 19:47:51.750 10.0.0.115:54321      77804  event-loop  INFO org.apache.spark.scheduler.DAGScheduler: ResultStage 5 (collect at Writer.scala:169) finished in 0.418 s\n",
      "03-06 19:47:51.751 10.0.0.115:54321      77804  event-loop  INFO org.apache.spark.scheduler.DAGScheduler: Job 5 is finished. Cancelling potential speculative or zombie tasks for this job\n",
      "03-06 19:47:51.752 10.0.0.115:54321      77804  event-loop  INFO org.apache.spark.scheduler.TaskSchedulerImpl: Killing all running tasks in stage 5: Stage finished\n",
      "03-06 19:47:51.752 10.0.0.115:54321      77804    Thread-4  INFO org.apache.spark.scheduler.DAGScheduler: Job 5 finished: collect at Writer.scala:169, took 0.437231 s\n",
      "03-06 19:47:51.764 10.0.0.115:54321      77804  9866381-71  INFO water.default: GET /3/UploadPlan, parms: {number_of_chunks=4}\n",
      "03-06 19:47:51.771 10.0.0.115:54321      77804    Thread-4  INFO ai.h2o.sparkling.H2OFrame: H2O node http://10.0.0.115:54321/3/UploadPlan?number_of_chunks=4 successfully responded for the GET.\n",
      "03-06 19:47:51.784 10.0.0.115:54321      77804    Thread-4  INFO org.apache.spark.SparkContext: Starting job: runJob at Writer.scala:99\n",
      "03-06 19:47:51.786 10.0.0.115:54321      77804  event-loop  INFO org.apache.spark.scheduler.DAGScheduler: Got job 6 (runJob at Writer.scala:99) with 4 output partitions\n",
      "03-06 19:47:51.787 10.0.0.115:54321      77804  event-loop  INFO org.apache.spark.scheduler.DAGScheduler: Final stage: ResultStage 6 (runJob at Writer.scala:99)\n",
      "03-06 19:47:51.787 10.0.0.115:54321      77804  event-loop  INFO org.apache.spark.scheduler.DAGScheduler: Parents of final stage: List()\n",
      "03-06 19:47:51.787 10.0.0.115:54321      77804  event-loop  INFO org.apache.spark.scheduler.DAGScheduler: Missing parents: List()\n",
      "03-06 19:47:51.788 10.0.0.115:54321      77804  event-loop  INFO org.apache.spark.scheduler.DAGScheduler: Submitting ResultStage 6 (H2OAwareRDD[24] at RDD at H2OAwareBaseRDD.scala:29), which has no missing parents\n",
      "03-06 19:47:51.794 10.0.0.115:54321      77804  event-loop  INFO org.apache.spark.storage.memory.MemoryStore: Block broadcast_7 stored as values in memory (estimated size 39.4 KiB, free 365.8 MiB)\n",
      "03-06 19:47:51.796 10.0.0.115:54321      77804  event-loop  INFO org.apache.spark.storage.memory.MemoryStore: Block broadcast_7_piece0 stored as bytes in memory (estimated size 18.0 KiB, free 365.8 MiB)\n",
      "03-06 19:47:51.797 10.0.0.115:54321      77804  agerMaster  INFO org.apache.spark.storage.BlockManagerInfo: Added broadcast_7_piece0 in memory on 10.0.0.115:56039 (size: 18.0 KiB, free: 366.2 MiB)\n",
      "03-06 19:47:51.799 10.0.0.115:54321      77804  event-loop  INFO org.apache.spark.SparkContext: Created broadcast 7 from broadcast at DAGScheduler.scala:1427\n",
      "03-06 19:47:51.799 10.0.0.115:54321      77804  event-loop  INFO org.apache.spark.scheduler.DAGScheduler: Submitting 4 missing tasks from ResultStage 6 (H2OAwareRDD[24] at RDD at H2OAwareBaseRDD.scala:29) (first 15 tasks are for partitions Vector(0, 1, 2, 3))\n",
      "03-06 19:47:51.799 10.0.0.115:54321      77804  event-loop  INFO org.apache.spark.scheduler.TaskSchedulerImpl: Adding task set 6.0 with 4 tasks resource profile 0\n",
      "03-06 19:47:51.802 10.0.0.115:54321      77804  ent-loop-3  INFO org.apache.spark.scheduler.TaskSetManager: Starting task 0.0 in stage 6.0 (TID 21) (10.0.0.115, executor driver, partition 0, NODE_LOCAL, 4593 bytes) taskResourceAssignments Map()\n",
      "03-06 19:47:51.802 10.0.0.115:54321      77804  ent-loop-3  INFO org.apache.spark.scheduler.TaskSetManager: Starting task 1.0 in stage 6.0 (TID 22) (10.0.0.115, executor driver, partition 1, NODE_LOCAL, 4593 bytes) taskResourceAssignments Map()\n",
      "03-06 19:47:51.802 10.0.0.115:54321      77804  ent-loop-3  INFO org.apache.spark.scheduler.TaskSetManager: Starting task 2.0 in stage 6.0 (TID 23) (10.0.0.115, executor driver, partition 2, NODE_LOCAL, 4593 bytes) taskResourceAssignments Map()\n",
      "03-06 19:47:51.802 10.0.0.115:54321      77804  ent-loop-3  INFO org.apache.spark.scheduler.TaskSetManager: Starting task 3.0 in stage 6.0 (TID 24) (10.0.0.115, executor driver, partition 3, NODE_LOCAL, 4593 bytes) taskResourceAssignments Map()\n",
      "03-06 19:47:51.803 10.0.0.115:54321      77804  0 (TID 21)  INFO org.apache.spark.executor.Executor: Running task 0.0 in stage 6.0 (TID 21)\n",
      "03-06 19:47:51.803 10.0.0.115:54321      77804  0 (TID 23)  INFO org.apache.spark.executor.Executor: Running task 2.0 in stage 6.0 (TID 23)\n",
      "03-06 19:47:51.803 10.0.0.115:54321      77804  0 (TID 22)  INFO org.apache.spark.executor.Executor: Running task 1.0 in stage 6.0 (TID 22)\n",
      "03-06 19:47:51.803 10.0.0.115:54321      77804  0 (TID 24)  INFO org.apache.spark.executor.Executor: Running task 3.0 in stage 6.0 (TID 24)\n",
      "03-06 19:47:51.819 10.0.0.115:54321      77804  0 (TID 23)  INFO org.apache.spark.rdd.HadoopRDD: Input split: file:/Users/fanli/Desktop/classes/spring_1/697_DISTRIBUTED_DATA_SYSTEMS/msds697_distributed_data_systems_2022/Data/adult.raw:2893988+1446994\n",
      "03-06 19:47:51.819 10.0.0.115:54321      77804  0 (TID 21)  INFO org.apache.spark.rdd.HadoopRDD: Input split: file:/Users/fanli/Desktop/classes/spring_1/697_DISTRIBUTED_DATA_SYSTEMS/msds697_distributed_data_systems_2022/Data/adult.raw:0+1446994\n",
      "03-06 19:47:51.820 10.0.0.115:54321      77804  0 (TID 22)  INFO org.apache.spark.rdd.HadoopRDD: Input split: file:/Users/fanli/Desktop/classes/spring_1/697_DISTRIBUTED_DATA_SYSTEMS/msds697_distributed_data_systems_2022/Data/adult.raw:1446994+1446994\n",
      "03-06 19:47:51.820 10.0.0.115:54321      77804  0 (TID 24)  INFO org.apache.spark.rdd.HadoopRDD: Input split: file:/Users/fanli/Desktop/classes/spring_1/697_DISTRIBUTED_DATA_SYSTEMS/msds697_distributed_data_systems_2022/Data/adult.raw:4340982+1446996\n",
      "03-06 19:47:52.103 10.0.0.115:54321      77804  agerMaster  INFO org.apache.spark.storage.BlockManagerInfo: Removed broadcast_6_piece0 on 10.0.0.115:56039 in memory (size: 15.1 KiB, free: 366.3 MiB)\n",
      "03-06 19:47:52.104 10.0.0.115:54321      77804  0 (TID 21)  INFO org.apache.spark.api.python.PythonRunner: Times: total = 241, boot = -112, init = 125, finish = 228\n",
      "03-06 19:47:52.109 10.0.0.115:54321      77804  0 (TID 24)  INFO org.apache.spark.api.python.PythonRunner: Times: total = 240, boot = -125, init = 137, finish = 228\n",
      "03-06 19:47:52.118 10.0.0.115:54321      77804  0 (TID 22)  INFO org.apache.spark.api.python.PythonRunner: Times: total = 272, boot = -81, init = 93, finish = 260\n",
      "03-06 19:47:52.120 10.0.0.115:54321      77804  0 (TID 23)  INFO org.apache.spark.api.python.PythonRunner: Times: total = 284, boot = -87, init = 95, finish = 276\n",
      "03-06 19:47:52.125 10.0.0.115:54321      77804  0 (TID 21)  INFO ai.h2o.sparkling.backend.H2OChunk: H2O node http://10.0.0.115:54321/3/Chunk?frame_name=adult&num_rows=12218&compression=SNAPPY&maximum_vector_sizes=&expected_types=BwsHCwsLCwsLBwcHCws%3D&chunk_id=0 successfully responded for the PUT.\n",
      "03-06 19:47:52.125 10.0.0.115:54321      77804  0 (TID 23)  INFO ai.h2o.sparkling.backend.H2OChunk: H2O node http://10.0.0.115:54321/3/Chunk?frame_name=adult&num_rows=12211&compression=SNAPPY&maximum_vector_sizes=&expected_types=BwsHCwsLCwsLBwcHCws%3D&chunk_id=2 successfully responded for the PUT.\n",
      "03-06 19:47:52.125 10.0.0.115:54321      77804  0 (TID 24)  INFO ai.h2o.sparkling.backend.H2OChunk: H2O node http://10.0.0.115:54321/3/Chunk?frame_name=adult&num_rows=12212&compression=SNAPPY&maximum_vector_sizes=&expected_types=BwsHCwsLCwsLBwcHCws%3D&chunk_id=3 successfully responded for the PUT.\n",
      "03-06 19:47:52.125 10.0.0.115:54321      77804  0 (TID 22)  INFO ai.h2o.sparkling.backend.H2OChunk: H2O node http://10.0.0.115:54321/3/Chunk?frame_name=adult&num_rows=12201&compression=SNAPPY&maximum_vector_sizes=&expected_types=BwsHCwsLCwsLBwcHCws%3D&chunk_id=1 successfully responded for the PUT.\n",
      "03-06 19:47:52.154 10.0.0.115:54321      77804  0 (TID 23)  INFO ai.h2o.sparkling.backend.H2OChunk: H2O node http://10.0.0.115:54321/3/ChunkCategoricalDomains?frame_name=adult&chunk_id=2&compression=SNAPPY successfully responded for the PUT.\n",
      "03-06 19:47:52.155 10.0.0.115:54321      77804  0 (TID 21)  INFO ai.h2o.sparkling.backend.H2OChunk: H2O node http://10.0.0.115:54321/3/ChunkCategoricalDomains?frame_name=adult&chunk_id=0&compression=SNAPPY successfully responded for the PUT.\n",
      "03-06 19:47:52.155 10.0.0.115:54321      77804  0 (TID 24)  INFO ai.h2o.sparkling.backend.H2OChunk: H2O node http://10.0.0.115:54321/3/ChunkCategoricalDomains?frame_name=adult&chunk_id=3&compression=SNAPPY successfully responded for the PUT.\n",
      "03-06 19:47:52.154 10.0.0.115:54321      77804  0 (TID 22)  INFO ai.h2o.sparkling.backend.H2OChunk: H2O node http://10.0.0.115:54321/3/ChunkCategoricalDomains?frame_name=adult&chunk_id=1&compression=SNAPPY successfully responded for the PUT.\n",
      "03-06 19:47:52.155 10.0.0.115:54321      77804  0 (TID 23)  INFO ai.h2o.sparkling.backend.H2OChunk: H2O node http://10.0.0.115:54321/3/ChunkCategoricalDomains?frame_name=adult&chunk_id=2&compression=SNAPPY successfully responded for the PUT.\n",
      "03-06 19:47:52.155 10.0.0.115:54321      77804  0 (TID 24)  INFO ai.h2o.sparkling.backend.H2OChunk: H2O node http://10.0.0.115:54321/3/ChunkCategoricalDomains?frame_name=adult&chunk_id=3&compression=SNAPPY successfully responded for the PUT.\n",
      "03-06 19:47:52.155 10.0.0.115:54321      77804  0 (TID 21)  INFO ai.h2o.sparkling.backend.H2OChunk: H2O node http://10.0.0.115:54321/3/ChunkCategoricalDomains?frame_name=adult&chunk_id=0&compression=SNAPPY successfully responded for the PUT.\n",
      "03-06 19:47:52.155 10.0.0.115:54321      77804  0 (TID 22)  INFO ai.h2o.sparkling.backend.H2OChunk: H2O node http://10.0.0.115:54321/3/ChunkCategoricalDomains?frame_name=adult&chunk_id=1&compression=SNAPPY successfully responded for the PUT.\n",
      "03-06 19:47:52.160 10.0.0.115:54321      77804  0 (TID 23)  INFO org.apache.spark.executor.Executor: Finished task 2.0 in stage 6.0 (TID 23). 1836 bytes result sent to driver\n",
      "03-06 19:47:52.160 10.0.0.115:54321      77804  0 (TID 22)  INFO org.apache.spark.executor.Executor: Finished task 1.0 in stage 6.0 (TID 22). 1836 bytes result sent to driver\n",
      "03-06 19:47:52.160 10.0.0.115:54321      77804  0 (TID 24)  INFO org.apache.spark.executor.Executor: Finished task 3.0 in stage 6.0 (TID 24). 1836 bytes result sent to driver\n",
      "03-06 19:47:52.160 10.0.0.115:54321      77804  0 (TID 21)  INFO org.apache.spark.executor.Executor: Finished task 0.0 in stage 6.0 (TID 21). 1836 bytes result sent to driver\n",
      "03-06 19:47:52.165 10.0.0.115:54321      77804  t-getter-2  INFO org.apache.spark.scheduler.TaskSetManager: Finished task 2.0 in stage 6.0 (TID 23) in 363 ms on 10.0.0.115 (executor driver) (1/4)\n",
      "03-06 19:47:52.165 10.0.0.115:54321      77804  t-getter-1  INFO org.apache.spark.scheduler.TaskSetManager: Finished task 3.0 in stage 6.0 (TID 24) in 363 ms on 10.0.0.115 (executor driver) (2/4)\n",
      "03-06 19:47:52.165 10.0.0.115:54321      77804  t-getter-0  INFO org.apache.spark.scheduler.TaskSetManager: Finished task 1.0 in stage 6.0 (TID 22) in 363 ms on 10.0.0.115 (executor driver) (3/4)\n",
      "03-06 19:47:52.165 10.0.0.115:54321      77804  t-getter-3  INFO org.apache.spark.scheduler.TaskSetManager: Finished task 0.0 in stage 6.0 (TID 21) in 364 ms on 10.0.0.115 (executor driver) (4/4)\n",
      "03-06 19:47:52.165 10.0.0.115:54321      77804  t-getter-3  INFO org.apache.spark.scheduler.TaskSchedulerImpl: Removed TaskSet 6.0, whose tasks have all completed, from pool \n",
      "03-06 19:47:52.170 10.0.0.115:54321      77804  event-loop  INFO org.apache.spark.scheduler.DAGScheduler: ResultStage 6 (runJob at Writer.scala:99) finished in 0.378 s\n",
      "03-06 19:47:52.170 10.0.0.115:54321      77804  event-loop  INFO org.apache.spark.scheduler.DAGScheduler: Job 6 is finished. Cancelling potential speculative or zombie tasks for this job\n",
      "03-06 19:47:52.170 10.0.0.115:54321      77804  event-loop  INFO org.apache.spark.scheduler.TaskSchedulerImpl: Killing all running tasks in stage 6: Stage finished\n",
      "03-06 19:47:52.171 10.0.0.115:54321      77804    Thread-4  INFO org.apache.spark.scheduler.DAGScheduler: Job 6 finished: runJob at Writer.scala:99, took 0.386120 s\n",
      "03-06 19:47:52.174 10.0.0.115:54321      77804  866381-176  INFO water.default: POST /3/FinalizeFrame, parms: {rows_per_chunk=ui8AAAAAAACpLwAAAAAAALMvAAAAAAAAtC8AAAAAAAA=, key=adult, column_types=AwQDBAQEBAQEAwMDBAQ=}\n",
      "03-06 19:47:52.234 10.0.0.115:54321      77804  agerMaster  INFO org.apache.spark.storage.BlockManagerInfo: Removed broadcast_7_piece0 on 10.0.0.115:56039 in memory (size: 18.0 KiB, free: 366.3 MiB)\n",
      "03-06 19:47:52.268 10.0.0.115:54321      77804  866381-176  INFO water.default: Parse result for adult (48842 rows, 14 columns):\n",
      "03-06 19:47:52.288 10.0.0.115:54321      77804  866381-176  INFO water.default:           ColV2    type          min          max         mean        sigma         NAs constant cardinality\n",
      "03-06 19:47:52.290 10.0.0.115:54321      77804  866381-176  INFO water.default:             age: numeric      17.0000      90.0000      38.6436      13.7105                            \n",
      "03-06 19:47:52.290 10.0.0.115:54321      77804  866381-176  INFO water.default:       workclass:  factor            ?  Without-pay                                                     9\n",
      "03-06 19:47:52.291 10.0.0.115:54321      77804  866381-176  INFO water.default:          fnlwgt: numeric      12285.0  1.49040e+06       189664       105604                            \n",
      "03-06 19:47:52.291 10.0.0.115:54321      77804  866381-176  INFO water.default:       education:  factor         10th Some-college                                                    16\n",
      "03-06 19:47:52.292 10.0.0.115:54321      77804  866381-176  INFO water.default:  marital_status:  factor     Divorced      Widowed                                                     7\n",
      "03-06 19:47:52.292 10.0.0.115:54321      77804  866381-176  INFO water.default:      occupation:  factor            ? Transport-mo                                                    15\n",
      "03-06 19:47:52.292 10.0.0.115:54321      77804  866381-176  INFO water.default:    relationship:  factor      Husband         Wife                                                     6\n",
      "03-06 19:47:52.292 10.0.0.115:54321      77804  866381-176  INFO water.default:            race:  factor Amer-Indian-        White                                                     5\n",
      "03-06 19:47:52.292 10.0.0.115:54321      77804  866381-176  INFO water.default:             sex:  factor       Female         Male                                                     2\n",
      "03-06 19:47:52.292 10.0.0.115:54321      77804  866381-176  INFO water.default:    capital_gain: numeric      0.00000      99999.0      1079.07      7452.02                            \n",
      "03-06 19:47:52.292 10.0.0.115:54321      77804  866381-176  INFO water.default:    capital_loss: numeric      0.00000      4356.00      87.5023      403.005                            \n",
      "03-06 19:47:52.292 10.0.0.115:54321      77804  866381-176  INFO water.default:  hours_per_week: numeric      1.00000      99.0000      40.4224      12.3914                            \n",
      "03-06 19:47:52.292 10.0.0.115:54321      77804  866381-176  INFO water.default:  native_country:  factor            ?   Yugoslavia                                                    42\n",
      "03-06 19:47:52.292 10.0.0.115:54321      77804  866381-176  INFO water.default:          income:  factor        <=50K         >50K                                                     2\n",
      "03-06 19:47:52.295 10.0.0.115:54321      77804  866381-176  INFO water.default: Chunk compression summary:\n",
      "03-06 19:47:52.295 10.0.0.115:54321      77804  866381-176  INFO water.default:   Chunk Type                 Chunk Name       Count  Count Percentage        Size  Size Percentage\n",
      "03-06 19:47:52.296 10.0.0.115:54321      77804  866381-176  INFO water.default:          CBS                     Binary           8          14.286 %     12.5 KB          1.845 %\n",
      "03-06 19:47:52.296 10.0.0.115:54321      77804  866381-176  INFO water.default:          CXI            Sparse Integers           8          14.286 %     41.0 KB          6.068 %\n",
      "03-06 19:47:52.296 10.0.0.115:54321      77804  866381-176  INFO water.default:          C1N  1-Byte Integers (w/o NAs)          36          64.286 %    431.7 KB         63.834 %\n",
      "03-06 19:47:52.296 10.0.0.115:54321      77804  866381-176  INFO water.default:           C4            4-Byte Integers           4           7.143 %    191.1 KB         28.253 %\n",
      "03-06 19:47:52.296 10.0.0.115:54321      77804  866381-176  INFO water.default: Frame distribution summary:\n",
      "03-06 19:47:52.296 10.0.0.115:54321      77804  866381-176  INFO water.default:                         Size  Number of Rows  Number of Chunks per Column  Number of Chunks\n",
      "03-06 19:47:52.296 10.0.0.115:54321      77804  866381-176  INFO water.default: 10.0.0.115:54321    676.2 KB           48842                            4                56\n",
      "03-06 19:47:52.296 10.0.0.115:54321      77804  866381-176  INFO water.default:             mean    676.2 KB    48842.000000                     4.000000         56.000000\n",
      "03-06 19:47:52.296 10.0.0.115:54321      77804  866381-176  INFO water.default:              min    676.2 KB    48842.000000                     4.000000         56.000000\n",
      "03-06 19:47:52.296 10.0.0.115:54321      77804  866381-176  INFO water.default:              max    676.2 KB    48842.000000                     4.000000         56.000000\n",
      "03-06 19:47:52.296 10.0.0.115:54321      77804  866381-176  INFO water.default:           stddev        0  B        0.000000                     0.000000          0.000000\n",
      "03-06 19:47:52.296 10.0.0.115:54321      77804  866381-176  INFO water.default:            total    676.2 KB           48842                            4                56\n",
      "03-06 19:47:52.304 10.0.0.115:54321      77804    Thread-4  INFO ai.h2o.sparkling.H2OFrame: H2O node http://10.0.0.115:54321/3/FinalizeFrame successfully responded for the POST.\n",
      "03-06 19:47:52.316 10.0.0.115:54321      77804  9866381-70  INFO water.default: GET /3/Frames/adult/summary, parms: {row_count=0}\n",
      "03-06 19:47:52.343 10.0.0.115:54321      77804    Thread-4  INFO ai.h2o.sparkling.H2OFrame: H2O node http://10.0.0.115:54321/3/Frames/adult/summary?row_count=0 successfully responded for the GET.\n",
      "03-06 19:47:52.358 10.0.0.115:54321      77804    Thread-4  INFO ai.h2o.sparkling.backend.utils.RestApiUtils: H2O node http://10.0.0.115:54321/3/Cloud successfully responded for the GET.\n",
      "03-06 19:47:52.364 10.0.0.115:54321      77804  9866381-70  INFO water.default: GET /3/FrameChunks/adult, parms: {}\n",
      "03-06 19:47:52.365 10.0.0.115:54321      77804    Thread-4  INFO ai.h2o.sparkling.H2OFrame: H2O node http://10.0.0.115:54321/3/FrameChunks/adult successfully responded for the GET.\n",
      "03-06 19:47:52.377 10.0.0.115:54321      77804  9866381-86  INFO water.default: GET /3/Frames/adult/light, parms: {column_offset=0, full_column_count=-1, row_count=10, row_offset=0, column_count=-1}\n"
     ]
    }
   ],
   "source": [
    "adult_h2o = hc.asH2OFrame(dfraw,'adult')"
   ]
  },
  {
   "cell_type": "code",
   "execution_count": 12,
   "id": "d71bb9b3",
   "metadata": {},
   "outputs": [
    {
     "data": {
      "text/html": [
       "<table>\n",
       "<thead>\n",
       "<tr><th style=\"text-align: right;\">  age</th><th>workclass       </th><th style=\"text-align: right;\">  fnlwgt</th><th>education  </th><th>marital_status       </th><th>occupation       </th><th>relationship  </th><th>race  </th><th>sex   </th><th style=\"text-align: right;\">  capital_gain</th><th style=\"text-align: right;\">  capital_loss</th><th style=\"text-align: right;\">  hours_per_week</th><th>native_country  </th><th>income  </th></tr>\n",
       "</thead>\n",
       "<tbody>\n",
       "<tr><td style=\"text-align: right;\">   39</td><td>State-gov       </td><td style=\"text-align: right;\">   77516</td><td>Bachelors  </td><td>Never-married        </td><td>Adm-clerical     </td><td>Not-in-family </td><td>White </td><td>Male  </td><td style=\"text-align: right;\">          2174</td><td style=\"text-align: right;\">             0</td><td style=\"text-align: right;\">              40</td><td>United-States   </td><td>&lt;=50K   </td></tr>\n",
       "<tr><td style=\"text-align: right;\">   50</td><td>Self-emp-not-inc</td><td style=\"text-align: right;\">   83311</td><td>Bachelors  </td><td>Married-civ-spouse   </td><td>Exec-managerial  </td><td>Husband       </td><td>White </td><td>Male  </td><td style=\"text-align: right;\">             0</td><td style=\"text-align: right;\">             0</td><td style=\"text-align: right;\">              13</td><td>United-States   </td><td>&lt;=50K   </td></tr>\n",
       "<tr><td style=\"text-align: right;\">   38</td><td>Private         </td><td style=\"text-align: right;\">  215646</td><td>HS-grad    </td><td>Divorced             </td><td>Handlers-cleaners</td><td>Not-in-family </td><td>White </td><td>Male  </td><td style=\"text-align: right;\">             0</td><td style=\"text-align: right;\">             0</td><td style=\"text-align: right;\">              40</td><td>United-States   </td><td>&lt;=50K   </td></tr>\n",
       "<tr><td style=\"text-align: right;\">   53</td><td>Private         </td><td style=\"text-align: right;\">  234721</td><td>11th       </td><td>Married-civ-spouse   </td><td>Handlers-cleaners</td><td>Husband       </td><td>Black </td><td>Male  </td><td style=\"text-align: right;\">             0</td><td style=\"text-align: right;\">             0</td><td style=\"text-align: right;\">              40</td><td>United-States   </td><td>&lt;=50K   </td></tr>\n",
       "<tr><td style=\"text-align: right;\">   28</td><td>Private         </td><td style=\"text-align: right;\">  338409</td><td>Bachelors  </td><td>Married-civ-spouse   </td><td>Prof-specialty   </td><td>Wife          </td><td>Black </td><td>Female</td><td style=\"text-align: right;\">             0</td><td style=\"text-align: right;\">             0</td><td style=\"text-align: right;\">              40</td><td>Cuba            </td><td>&lt;=50K   </td></tr>\n",
       "<tr><td style=\"text-align: right;\">   37</td><td>Private         </td><td style=\"text-align: right;\">  284582</td><td>Masters    </td><td>Married-civ-spouse   </td><td>Exec-managerial  </td><td>Wife          </td><td>White </td><td>Female</td><td style=\"text-align: right;\">             0</td><td style=\"text-align: right;\">             0</td><td style=\"text-align: right;\">              40</td><td>United-States   </td><td>&lt;=50K   </td></tr>\n",
       "<tr><td style=\"text-align: right;\">   49</td><td>Private         </td><td style=\"text-align: right;\">  160187</td><td>9th        </td><td>Married-spouse-absent</td><td>Other-service    </td><td>Not-in-family </td><td>Black </td><td>Female</td><td style=\"text-align: right;\">             0</td><td style=\"text-align: right;\">             0</td><td style=\"text-align: right;\">              16</td><td>Jamaica         </td><td>&lt;=50K   </td></tr>\n",
       "<tr><td style=\"text-align: right;\">   52</td><td>Self-emp-not-inc</td><td style=\"text-align: right;\">  209642</td><td>HS-grad    </td><td>Married-civ-spouse   </td><td>Exec-managerial  </td><td>Husband       </td><td>White </td><td>Male  </td><td style=\"text-align: right;\">             0</td><td style=\"text-align: right;\">             0</td><td style=\"text-align: right;\">              45</td><td>United-States   </td><td>&gt;50K    </td></tr>\n",
       "<tr><td style=\"text-align: right;\">   31</td><td>Private         </td><td style=\"text-align: right;\">   45781</td><td>Masters    </td><td>Never-married        </td><td>Prof-specialty   </td><td>Not-in-family </td><td>White </td><td>Female</td><td style=\"text-align: right;\">         14084</td><td style=\"text-align: right;\">             0</td><td style=\"text-align: right;\">              50</td><td>United-States   </td><td>&gt;50K    </td></tr>\n",
       "<tr><td style=\"text-align: right;\">   42</td><td>Private         </td><td style=\"text-align: right;\">  159449</td><td>Bachelors  </td><td>Married-civ-spouse   </td><td>Exec-managerial  </td><td>Husband       </td><td>White </td><td>Male  </td><td style=\"text-align: right;\">          5178</td><td style=\"text-align: right;\">             0</td><td style=\"text-align: right;\">              40</td><td>United-States   </td><td>&gt;50K    </td></tr>\n",
       "</tbody>\n",
       "</table>"
      ]
     },
     "metadata": {},
     "output_type": "display_data"
    },
    {
     "data": {
      "text/plain": []
     },
     "execution_count": 12,
     "metadata": {},
     "output_type": "execute_result"
    }
   ],
   "source": [
    "adult_h2o"
   ]
  },
  {
   "cell_type": "code",
   "execution_count": 13,
   "id": "5e5eec22-5682-4f6a-8811-6590d66a2c59",
   "metadata": {},
   "outputs": [
    {
     "data": {
      "text/html": [
       "<table>\n",
       "<thead>\n",
       "<tr><th>       </th><th>age               </th><th>workclass       </th><th>fnlwgt            </th><th>education  </th><th>marital_status       </th><th>occupation       </th><th>relationship  </th><th>race  </th><th>sex   </th><th>capital_gain      </th><th>capital_loss      </th><th>hours_per_week    </th><th>native_country  </th><th>income  </th></tr>\n",
       "</thead>\n",
       "<tbody>\n",
       "<tr><td>type   </td><td>int               </td><td>enum            </td><td>int               </td><td>enum       </td><td>enum                 </td><td>enum             </td><td>enum          </td><td>enum  </td><td>enum  </td><td>int               </td><td>int               </td><td>int               </td><td>enum            </td><td>enum    </td></tr>\n",
       "<tr><td>mins   </td><td>17.0              </td><td>                </td><td>12285.0           </td><td>           </td><td>                     </td><td>                 </td><td>              </td><td>      </td><td>      </td><td>0.0               </td><td>0.0               </td><td>1.0               </td><td>                </td><td>        </td></tr>\n",
       "<tr><td>mean   </td><td>38.64358543876177 </td><td>                </td><td>189664.13459727296</td><td>           </td><td>                     </td><td>                 </td><td>              </td><td>      </td><td>      </td><td>1079.0676262233324</td><td>87.50231358257236 </td><td>40.42238237582413 </td><td>                </td><td>        </td></tr>\n",
       "<tr><td>maxs   </td><td>90.0              </td><td>                </td><td>1490400.0         </td><td>           </td><td>                     </td><td>                 </td><td>              </td><td>      </td><td>      </td><td>99999.0           </td><td>4356.0            </td><td>99.0              </td><td>                </td><td>        </td></tr>\n",
       "<tr><td>sigma  </td><td>13.710509934443552</td><td>                </td><td>105604.02542315725</td><td>           </td><td>                     </td><td>                 </td><td>              </td><td>      </td><td>      </td><td>7452.019057655393 </td><td>403.00455212435895</td><td>12.391444024252296</td><td>                </td><td>        </td></tr>\n",
       "<tr><td>zeros  </td><td>0                 </td><td>                </td><td>0                 </td><td>           </td><td>                     </td><td>                 </td><td>              </td><td>      </td><td>      </td><td>44807             </td><td>46560             </td><td>0                 </td><td>                </td><td>        </td></tr>\n",
       "<tr><td>missing</td><td>0                 </td><td>0               </td><td>0                 </td><td>0          </td><td>0                    </td><td>0                </td><td>0             </td><td>0     </td><td>0     </td><td>0                 </td><td>0                 </td><td>0                 </td><td>0               </td><td>0       </td></tr>\n",
       "<tr><td>0      </td><td>39.0              </td><td>State-gov       </td><td>77516.0           </td><td>Bachelors  </td><td>Never-married        </td><td>Adm-clerical     </td><td>Not-in-family </td><td>White </td><td>Male  </td><td>2174.0            </td><td>0.0               </td><td>40.0              </td><td>United-States   </td><td>&lt;=50K   </td></tr>\n",
       "<tr><td>1      </td><td>50.0              </td><td>Self-emp-not-inc</td><td>83311.0           </td><td>Bachelors  </td><td>Married-civ-spouse   </td><td>Exec-managerial  </td><td>Husband       </td><td>White </td><td>Male  </td><td>0.0               </td><td>0.0               </td><td>13.0              </td><td>United-States   </td><td>&lt;=50K   </td></tr>\n",
       "<tr><td>2      </td><td>38.0              </td><td>Private         </td><td>215646.0          </td><td>HS-grad    </td><td>Divorced             </td><td>Handlers-cleaners</td><td>Not-in-family </td><td>White </td><td>Male  </td><td>0.0               </td><td>0.0               </td><td>40.0              </td><td>United-States   </td><td>&lt;=50K   </td></tr>\n",
       "<tr><td>3      </td><td>53.0              </td><td>Private         </td><td>234721.0          </td><td>11th       </td><td>Married-civ-spouse   </td><td>Handlers-cleaners</td><td>Husband       </td><td>Black </td><td>Male  </td><td>0.0               </td><td>0.0               </td><td>40.0              </td><td>United-States   </td><td>&lt;=50K   </td></tr>\n",
       "<tr><td>4      </td><td>28.0              </td><td>Private         </td><td>338409.0          </td><td>Bachelors  </td><td>Married-civ-spouse   </td><td>Prof-specialty   </td><td>Wife          </td><td>Black </td><td>Female</td><td>0.0               </td><td>0.0               </td><td>40.0              </td><td>Cuba            </td><td>&lt;=50K   </td></tr>\n",
       "<tr><td>5      </td><td>37.0              </td><td>Private         </td><td>284582.0          </td><td>Masters    </td><td>Married-civ-spouse   </td><td>Exec-managerial  </td><td>Wife          </td><td>White </td><td>Female</td><td>0.0               </td><td>0.0               </td><td>40.0              </td><td>United-States   </td><td>&lt;=50K   </td></tr>\n",
       "<tr><td>6      </td><td>49.0              </td><td>Private         </td><td>160187.0          </td><td>9th        </td><td>Married-spouse-absent</td><td>Other-service    </td><td>Not-in-family </td><td>Black </td><td>Female</td><td>0.0               </td><td>0.0               </td><td>16.0              </td><td>Jamaica         </td><td>&lt;=50K   </td></tr>\n",
       "<tr><td>7      </td><td>52.0              </td><td>Self-emp-not-inc</td><td>209642.0          </td><td>HS-grad    </td><td>Married-civ-spouse   </td><td>Exec-managerial  </td><td>Husband       </td><td>White </td><td>Male  </td><td>0.0               </td><td>0.0               </td><td>45.0              </td><td>United-States   </td><td>&gt;50K    </td></tr>\n",
       "<tr><td>8      </td><td>31.0              </td><td>Private         </td><td>45781.0           </td><td>Masters    </td><td>Never-married        </td><td>Prof-specialty   </td><td>Not-in-family </td><td>White </td><td>Female</td><td>14084.0           </td><td>0.0               </td><td>50.0              </td><td>United-States   </td><td>&gt;50K    </td></tr>\n",
       "<tr><td>9      </td><td>42.0              </td><td>Private         </td><td>159449.0          </td><td>Bachelors  </td><td>Married-civ-spouse   </td><td>Exec-managerial  </td><td>Husband       </td><td>White </td><td>Male  </td><td>5178.0            </td><td>0.0               </td><td>40.0              </td><td>United-States   </td><td>&gt;50K    </td></tr>\n",
       "</tbody>\n",
       "</table>"
      ]
     },
     "metadata": {},
     "output_type": "display_data"
    }
   ],
   "source": [
    "adult_h2o.summary()"
   ]
  },
  {
   "cell_type": "markdown",
   "id": "3d528950",
   "metadata": {},
   "source": [
    "## Create from File"
   ]
  },
  {
   "cell_type": "code",
   "execution_count": 15,
   "id": "fcf527f5-edc6-4dab-8128-0d08435d7d6b",
   "metadata": {
    "collapsed": true,
    "jupyter": {
     "outputs_hidden": true
    },
    "tags": []
   },
   "outputs": [
    {
     "name": "stdout",
     "output_type": "stream",
     "text": [
      "03-06 19:51:37.101 10.0.0.115:54321      77804  866381-176  INFO water.default: POST /3/ImportFilesMulti, parms: {paths=[/Users/fanli/Desktop/classes/spring_1/697_DISTRIBUTED_DATA_SYSTEMS/msds697_distributed_data_systems_2022/Data/adult.raw]}\n",
      "03-06 19:51:37.129 10.0.0.115:54321      77804  9866381-83  INFO water.default: POST /3/ParseSetup, parms: {single_quotes=False, source_frames=[\"nfs://Users/fanli/Desktop/classes/spring_1/697_DISTRIBUTED_DATA_SYSTEMS/msds697_distributed_data_systems_2022/Data/adult.raw\"], check_header=0}\n",
      "03-06 19:51:37.551 10.0.0.115:54321      77804  9866381-83  INFO water.default: ParseSetup heuristic: cloudSize: 1, cores: 8, numCols: 14, maxLineLength: 150, totalSize: 5787978, localParseSize: 5787978, chunkSize: 180875, numChunks: 31, numChunks * cols: 434\n",
      "03-06 19:51:37.562 10.0.0.115:54321      77804  866381-176  INFO water.default: POST /3/Parse, parms: {number_columns=14, source_frames=[\"nfs://Users/fanli/Desktop/classes/spring_1/697_DISTRIBUTED_DATA_SYSTEMS/msds697_distributed_data_systems_2022/Data/adult.raw\"], column_types=[\"Numeric\",\"Enum\",\"Numeric\",\"Enum\",\"Enum\",\"Enum\",\"Enum\",\"Enum\",\"Enum\",\"Numeric\",\"Numeric\",\"Numeric\",\"Enum\",\"Enum\"], single_quotes=False, parse_type=CSV, destination_frame=adult_raw1.hex, delete_on_done=True, check_header=-1, separator=44, blocking=False, escapechar=0, chunk_size=180875}\n",
      "03-06 19:51:37.564 10.0.0.115:54321      77804  866381-176  INFO water.default: Total file size: 5.5 MB\n",
      "03-06 19:51:37.567 10.0.0.115:54321      77804  866381-176  INFO water.default: Parse chunk size 180875\n",
      "03-06 19:51:37.572 10.0.0.115:54321      77804      FJ-2-7  INFO water.default: Key nfs://Users/fanli/Desktop/classes/spring_1/697_DISTRIBUTED_DATA_SYSTEMS/msds697_distributed_data_systems_2022/Data/adult.raw will be parsed using method DistributedParse.\n",
      "Parse progress: |03-06 19:51:37.702 10.0.0.115:54321      77804      FJ-1-5  INFO water.default: Parse result for adult_raw1.hex (48842 rows, 14 columns):\n",
      "03-06 19:51:37.745 10.0.0.115:54321      77804      FJ-1-5  INFO water.default:  ColV2    type          min          max         mean        sigma         NAs constant cardinality\n",
      "03-06 19:51:37.748 10.0.0.115:54321      77804      FJ-1-5  INFO water.default:   C1: numeric      17.0000      90.0000      38.6436      13.7105                            \n",
      "03-06 19:51:37.748 10.0.0.115:54321      77804      FJ-1-5  INFO water.default:   C2:  factor            ?  Without-pay                                                     9\n",
      "03-06 19:51:37.749 10.0.0.115:54321      77804      FJ-1-5  INFO water.default:   C3: numeric      12285.0  1.49040e+06       189664       105604                            \n",
      "03-06 19:51:37.750 10.0.0.115:54321      77804      FJ-1-5  INFO water.default:   C4:  factor         10th Some-college                                                    16\n",
      "03-06 19:51:37.750 10.0.0.115:54321      77804      FJ-1-5  INFO water.default:   C5:  factor     Divorced      Widowed                                                     7\n",
      "03-06 19:51:37.750 10.0.0.115:54321      77804      FJ-1-5  INFO water.default:   C6:  factor            ? Transport-mo                                                    15\n",
      "03-06 19:51:37.750 10.0.0.115:54321      77804      FJ-1-5  INFO water.default:   C7:  factor      Husband         Wife                                                     6\n",
      "03-06 19:51:37.750 10.0.0.115:54321      77804      FJ-1-5  INFO water.default:   C8:  factor Amer-Indian-        White                                                     5\n",
      "03-06 19:51:37.750 10.0.0.115:54321      77804      FJ-1-5  INFO water.default:   C9:  factor       Female         Male                                                     2\n",
      "03-06 19:51:37.750 10.0.0.115:54321      77804      FJ-1-5  INFO water.default:  C10: numeric      0.00000      99999.0      1079.07      7452.02                            \n",
      "03-06 19:51:37.751 10.0.0.115:54321      77804      FJ-1-5  INFO water.default:  C11: numeric      0.00000      4356.00      87.5023      403.005                            \n",
      "03-06 19:51:37.751 10.0.0.115:54321      77804      FJ-1-5  INFO water.default:  C12: numeric      1.00000      99.0000      40.4224      12.3914                            \n",
      "03-06 19:51:37.751 10.0.0.115:54321      77804      FJ-1-5  INFO water.default:  C13:  factor            ?   Yugoslavia                                                    42\n",
      "03-06 19:51:37.751 10.0.0.115:54321      77804      FJ-1-5  INFO water.default:  C14:  factor        <=50K         >50K                                                     2\n",
      "03-06 19:51:37.757 10.0.0.115:54321      77804      FJ-1-5  INFO water.default: Chunk compression summary:\n",
      "03-06 19:51:37.757 10.0.0.115:54321      77804      FJ-1-5  INFO water.default:   Chunk Type                 Chunk Name       Count  Count Percentage        Size  Size Percentage\n",
      "03-06 19:51:37.757 10.0.0.115:54321      77804      FJ-1-5  INFO water.default:          CBS                     Binary          64          14.286 %     16.3 KB          2.323 %\n",
      "03-06 19:51:37.757 10.0.0.115:54321      77804      FJ-1-5  INFO water.default:          CXI            Sparse Integers          64          14.286 %     45.2 KB          6.429 %\n",
      "03-06 19:51:37.757 10.0.0.115:54321      77804      FJ-1-5  INFO water.default:          C1N  1-Byte Integers (w/o NAs)         288          64.286 %    448.4 KB         63.800 %\n",
      "03-06 19:51:37.757 10.0.0.115:54321      77804      FJ-1-5  INFO water.default:           C4            4-Byte Integers          32           7.143 %    192.9 KB         27.448 %\n",
      "03-06 19:51:37.757 10.0.0.115:54321      77804      FJ-1-5  INFO water.default: Frame distribution summary:\n",
      "03-06 19:51:37.757 10.0.0.115:54321      77804      FJ-1-5  INFO water.default:                         Size  Number of Rows  Number of Chunks per Column  Number of Chunks\n",
      "03-06 19:51:37.757 10.0.0.115:54321      77804      FJ-1-5  INFO water.default: 10.0.0.115:54321    702.8 KB           48842                           32               448\n",
      "03-06 19:51:37.757 10.0.0.115:54321      77804      FJ-1-5  INFO water.default:             mean    702.8 KB    48842.000000                    32.000000        448.000000\n",
      "03-06 19:51:37.757 10.0.0.115:54321      77804      FJ-1-5  INFO water.default:              min    702.8 KB    48842.000000                    32.000000        448.000000\n",
      "03-06 19:51:37.757 10.0.0.115:54321      77804      FJ-1-5  INFO water.default:              max    702.8 KB    48842.000000                    32.000000        448.000000\n",
      "03-06 19:51:37.757 10.0.0.115:54321      77804      FJ-1-5  INFO water.default:           stddev        0  B        0.000000                     0.000000          0.000000\n",
      "03-06 19:51:37.757 10.0.0.115:54321      77804      FJ-1-5  INFO water.default:            total    702.8 KB           48842                           32               448\n",
      "████████████████████████████████████████████████████████████████| (done) 100%\n",
      "03-06 19:51:37.844 10.0.0.115:54321      77804  9866381-83  INFO water.default: GET /3/Frames/adult_raw1.hex, parms: {column_offset=0, full_column_count=-1, row_count=10, row_offset=0, column_count=-1}\n"
     ]
    }
   ],
   "source": [
    "import h2o\n",
    "adult_h2o= h2o.import_file('../Data/adult.raw')"
   ]
  },
  {
   "cell_type": "code",
   "execution_count": 8,
   "id": "95c6109c",
   "metadata": {
    "collapsed": true,
    "jupyter": {
     "outputs_hidden": true
    },
    "tags": []
   },
   "outputs": [
    {
     "name": "stdout",
     "output_type": "stream",
     "text": [
      "03-03 14:48:45.858 10.1.153.45:54321     4474   1421110-70  INFO water.default: POST /3/ImportFilesMulti, parms: {paths=[/Users/fanli/Desktop/classes/spring_1/697_DISTRIBUTED_DATA_SYSTEMS/msds697_distributed_data_systems_2022/Data/adult.raw]}\n",
      "03-03 14:48:45.995 10.1.153.45:54321     4474   1421110-71  INFO water.default: POST /3/ParseSetup, parms: {single_quotes=False, source_frames=[\"nfs://Users/fanli/Desktop/classes/spring_1/697_DISTRIBUTED_DATA_SYSTEMS/msds697_distributed_data_systems_2022/Data/adult.raw\"], check_header=0}\n",
      "03-03 14:48:46.557 10.1.153.45:54321     4474   1421110-71  INFO water.default: ParseSetup heuristic: cloudSize: 1, cores: 8, numCols: 14, maxLineLength: 150, totalSize: 5787978, localParseSize: 5787978, chunkSize: 180875, numChunks: 31, numChunks * cols: 434\n",
      "03-03 14:48:46.637 10.1.153.45:54321     4474   1421110-70  INFO water.default: POST /3/Parse, parms: {number_columns=14, source_frames=[\"nfs://Users/fanli/Desktop/classes/spring_1/697_DISTRIBUTED_DATA_SYSTEMS/msds697_distributed_data_systems_2022/Data/adult.raw\"], column_types=[\"Numeric\",\"Enum\",\"Numeric\",\"Enum\",\"Enum\",\"Enum\",\"Enum\",\"Enum\",\"Enum\",\"Numeric\",\"Numeric\",\"Numeric\",\"Enum\",\"Enum\"], single_quotes=False, parse_type=CSV, destination_frame=adult_raw.hex, delete_on_done=True, check_header=-1, separator=44, blocking=False, escapechar=0, chunk_size=180875}\n",
      "03-03 14:48:46.644 10.1.153.45:54321     4474   1421110-70  INFO water.default: Total file size: 5.5 MB\n",
      "03-03 14:48:46.668 10.1.153.45:54321     4474   1421110-70  INFO water.default: Parse chunk size 180875\n",
      "03-03 14:48:46.768 10.1.153.45:54321     4474      FJ-2-15  INFO water.default: Key nfs://Users/fanli/Desktop/classes/spring_1/697_DISTRIBUTED_DATA_SYSTEMS/msds697_distributed_data_systems_2022/Data/adult.raw will be parsed using method DistributedParse.\n",
      "Parse progress: |████03-03 14:48:47.861 10.1.153.45:54321     4474      FJ-1-13  INFO water.default: Parse result for adult_raw.hex (48842 rows, 14 columns):\n",
      "█03-03 14:48:47.989 10.1.153.45:54321     4474      FJ-1-13  INFO water.default:  ColV2    type          min          max         mean        sigma         NAs constant cardinality\n",
      "03-03 14:48:47.994 10.1.153.45:54321     4474      FJ-1-13  INFO water.default:   C1: numeric      17.0000      90.0000      38.6436      13.7105                            \n",
      "03-03 14:48:47.995 10.1.153.45:54321     4474      FJ-1-13  INFO water.default:   C2:  factor            ?  Without-pay                                                     9\n",
      "03-03 14:48:47.996 10.1.153.45:54321     4474      FJ-1-13  INFO water.default:   C3: numeric      12285.0  1.49040e+06       189664       105604                            \n",
      "03-03 14:48:47.996 10.1.153.45:54321     4474      FJ-1-13  INFO water.default:   C4:  factor         10th Some-college                                                    16\n",
      "03-03 14:48:47.996 10.1.153.45:54321     4474      FJ-1-13  INFO water.default:   C5:  factor     Divorced      Widowed                                                     7\n",
      "03-03 14:48:47.996 10.1.153.45:54321     4474      FJ-1-13  INFO water.default:   C6:  factor            ? Transport-mo                                                    15\n",
      "03-03 14:48:47.996 10.1.153.45:54321     4474      FJ-1-13  INFO water.default:   C7:  factor      Husband         Wife                                                     6\n",
      "03-03 14:48:47.996 10.1.153.45:54321     4474      FJ-1-13  INFO water.default:   C8:  factor Amer-Indian-        White                                                     5\n",
      "03-03 14:48:47.996 10.1.153.45:54321     4474      FJ-1-13  INFO water.default:   C9:  factor       Female         Male                                                     2\n",
      "03-03 14:48:47.997 10.1.153.45:54321     4474      FJ-1-13  INFO water.default:  C10: numeric      0.00000      99999.0      1079.07      7452.02                            \n",
      "03-03 14:48:47.997 10.1.153.45:54321     4474      FJ-1-13  INFO water.default:  C11: numeric      0.00000      4356.00      87.5023      403.005                            \n",
      "03-03 14:48:47.998 10.1.153.45:54321     4474      FJ-1-13  INFO water.default:  C12: numeric      1.00000      99.0000      40.4224      12.3914                            \n",
      "03-03 14:48:47.998 10.1.153.45:54321     4474      FJ-1-13  INFO water.default:  C13:  factor            ?   Yugoslavia                                                    42\n",
      "03-03 14:48:47.998 10.1.153.45:54321     4474      FJ-1-13  INFO water.default:  C14:  factor        <=50K         >50K                                                     2\n",
      "03-03 14:48:48.008 10.1.153.45:54321     4474      FJ-1-13  INFO water.default: Chunk compression summary:\n",
      "03-03 14:48:48.009 10.1.153.45:54321     4474      FJ-1-13  INFO water.default:   Chunk Type                 Chunk Name       Count  Count Percentage        Size  Size Percentage\n",
      "03-03 14:48:48.009 10.1.153.45:54321     4474      FJ-1-13  INFO water.default:          CBS                     Binary          64          14.286 %     16.3 KB          2.323 %\n",
      "03-03 14:48:48.009 10.1.153.45:54321     4474      FJ-1-13  INFO water.default:          CXI            Sparse Integers          64          14.286 %     45.2 KB          6.429 %\n",
      "03-03 14:48:48.009 10.1.153.45:54321     4474      FJ-1-13  INFO water.default:          C1N  1-Byte Integers (w/o NAs)         288          64.286 %    448.4 KB         63.800 %\n",
      "03-03 14:48:48.009 10.1.153.45:54321     4474      FJ-1-13  INFO water.default:           C4            4-Byte Integers          32           7.143 %    192.9 KB         27.448 %\n",
      "03-03 14:48:48.010 10.1.153.45:54321     4474      FJ-1-13  INFO water.default: Frame distribution summary:\n",
      "03-03 14:48:48.010 10.1.153.45:54321     4474      FJ-1-13  INFO water.default:                          Size  Number of Rows  Number of Chunks per Column  Number of Chunks\n",
      "03-03 14:48:48.010 10.1.153.45:54321     4474      FJ-1-13  INFO water.default: 10.1.153.45:54321    702.8 KB           48842                           32               448\n",
      "03-03 14:48:48.010 10.1.153.45:54321     4474      FJ-1-13  INFO water.default:              mean    702.8 KB    48842.000000                    32.000000        448.000000\n",
      "03-03 14:48:48.010 10.1.153.45:54321     4474      FJ-1-13  INFO water.default:               min    702.8 KB    48842.000000                    32.000000        448.000000\n",
      "03-03 14:48:48.010 10.1.153.45:54321     4474      FJ-1-13  INFO water.default:               max    702.8 KB    48842.000000                    32.000000        448.000000\n",
      "█03-03 14:48:48.010 10.1.153.45:54321     4474      FJ-1-13  INFO water.default:            stddev        0  B        0.000000                     0.000000          0.000000\n",
      "03-03 14:48:48.010 10.1.153.45:54321     4474      FJ-1-13  INFO water.default:             total    702.8 KB           48842                           32               448\n",
      "██████████████████████████████████████████████████████████| (done) 100%\n",
      "03-03 14:48:48.250 10.1.153.45:54321     4474   1421110-88  INFO water.default: GET /3/Frames/adult_raw.hex, parms: {column_offset=0, full_column_count=-1, row_count=10, row_offset=0, column_count=-1}\n"
     ]
    }
   ],
   "source": [
    "import h2o\n",
    "adult_h2o = h2o.import_file(path='../Data/adult.raw')"
   ]
  },
  {
   "cell_type": "code",
   "execution_count": 16,
   "id": "bf69666b",
   "metadata": {},
   "outputs": [
    {
     "data": {
      "text/html": [
       "<table>\n",
       "<thead>\n",
       "<tr><th>       </th><th>C1                </th><th>C2              </th><th>C3                </th><th>C4       </th><th>C5                   </th><th>C6               </th><th>C7           </th><th>C8   </th><th>C9    </th><th>C10               </th><th>C11               </th><th>C12               </th><th>C13          </th><th>C14  </th></tr>\n",
       "</thead>\n",
       "<tbody>\n",
       "<tr><td>type   </td><td>int               </td><td>enum            </td><td>int               </td><td>enum     </td><td>enum                 </td><td>enum             </td><td>enum         </td><td>enum </td><td>enum  </td><td>int               </td><td>int               </td><td>int               </td><td>enum         </td><td>enum </td></tr>\n",
       "<tr><td>mins   </td><td>17.0              </td><td>                </td><td>12285.0           </td><td>         </td><td>                     </td><td>                 </td><td>             </td><td>     </td><td>      </td><td>0.0               </td><td>0.0               </td><td>1.0               </td><td>             </td><td>     </td></tr>\n",
       "<tr><td>mean   </td><td>38.64358543876172 </td><td>                </td><td>189664.13459727276</td><td>         </td><td>                     </td><td>                 </td><td>             </td><td>     </td><td>      </td><td>1079.0676262233324</td><td>87.50231358257237 </td><td>40.422382375824085</td><td>             </td><td>     </td></tr>\n",
       "<tr><td>maxs   </td><td>90.0              </td><td>                </td><td>1490400.0         </td><td>         </td><td>                     </td><td>                 </td><td>             </td><td>     </td><td>      </td><td>99999.0           </td><td>4356.0            </td><td>99.0              </td><td>             </td><td>     </td></tr>\n",
       "<tr><td>sigma  </td><td>13.710509934443557</td><td>                </td><td>105604.02542315726</td><td>         </td><td>                     </td><td>                 </td><td>             </td><td>     </td><td>      </td><td>7452.019057655394 </td><td>403.00455212435907</td><td>12.391444024252305</td><td>             </td><td>     </td></tr>\n",
       "<tr><td>zeros  </td><td>0                 </td><td>                </td><td>0                 </td><td>         </td><td>                     </td><td>                 </td><td>             </td><td>     </td><td>      </td><td>44807             </td><td>46560             </td><td>0                 </td><td>             </td><td>     </td></tr>\n",
       "<tr><td>missing</td><td>0                 </td><td>0               </td><td>0                 </td><td>0        </td><td>0                    </td><td>0                </td><td>0            </td><td>0    </td><td>0     </td><td>0                 </td><td>0                 </td><td>0                 </td><td>0            </td><td>0    </td></tr>\n",
       "<tr><td>0      </td><td>39.0              </td><td>State-gov       </td><td>77516.0           </td><td>Bachelors</td><td>Never-married        </td><td>Adm-clerical     </td><td>Not-in-family</td><td>White</td><td>Male  </td><td>2174.0            </td><td>0.0               </td><td>40.0              </td><td>United-States</td><td>&lt;=50K</td></tr>\n",
       "<tr><td>1      </td><td>50.0              </td><td>Self-emp-not-inc</td><td>83311.0           </td><td>Bachelors</td><td>Married-civ-spouse   </td><td>Exec-managerial  </td><td>Husband      </td><td>White</td><td>Male  </td><td>0.0               </td><td>0.0               </td><td>13.0              </td><td>United-States</td><td>&lt;=50K</td></tr>\n",
       "<tr><td>2      </td><td>38.0              </td><td>Private         </td><td>215646.0          </td><td>HS-grad  </td><td>Divorced             </td><td>Handlers-cleaners</td><td>Not-in-family</td><td>White</td><td>Male  </td><td>0.0               </td><td>0.0               </td><td>40.0              </td><td>United-States</td><td>&lt;=50K</td></tr>\n",
       "<tr><td>3      </td><td>53.0              </td><td>Private         </td><td>234721.0          </td><td>11th     </td><td>Married-civ-spouse   </td><td>Handlers-cleaners</td><td>Husband      </td><td>Black</td><td>Male  </td><td>0.0               </td><td>0.0               </td><td>40.0              </td><td>United-States</td><td>&lt;=50K</td></tr>\n",
       "<tr><td>4      </td><td>28.0              </td><td>Private         </td><td>338409.0          </td><td>Bachelors</td><td>Married-civ-spouse   </td><td>Prof-specialty   </td><td>Wife         </td><td>Black</td><td>Female</td><td>0.0               </td><td>0.0               </td><td>40.0              </td><td>Cuba         </td><td>&lt;=50K</td></tr>\n",
       "<tr><td>5      </td><td>37.0              </td><td>Private         </td><td>284582.0          </td><td>Masters  </td><td>Married-civ-spouse   </td><td>Exec-managerial  </td><td>Wife         </td><td>White</td><td>Female</td><td>0.0               </td><td>0.0               </td><td>40.0              </td><td>United-States</td><td>&lt;=50K</td></tr>\n",
       "<tr><td>6      </td><td>49.0              </td><td>Private         </td><td>160187.0          </td><td>9th      </td><td>Married-spouse-absent</td><td>Other-service    </td><td>Not-in-family</td><td>Black</td><td>Female</td><td>0.0               </td><td>0.0               </td><td>16.0              </td><td>Jamaica      </td><td>&lt;=50K</td></tr>\n",
       "<tr><td>7      </td><td>52.0              </td><td>Self-emp-not-inc</td><td>209642.0          </td><td>HS-grad  </td><td>Married-civ-spouse   </td><td>Exec-managerial  </td><td>Husband      </td><td>White</td><td>Male  </td><td>0.0               </td><td>0.0               </td><td>45.0              </td><td>United-States</td><td>&gt;50K </td></tr>\n",
       "<tr><td>8      </td><td>31.0              </td><td>Private         </td><td>45781.0           </td><td>Masters  </td><td>Never-married        </td><td>Prof-specialty   </td><td>Not-in-family</td><td>White</td><td>Female</td><td>14084.0           </td><td>0.0               </td><td>50.0              </td><td>United-States</td><td>&gt;50K </td></tr>\n",
       "<tr><td>9      </td><td>42.0              </td><td>Private         </td><td>159449.0          </td><td>Bachelors</td><td>Married-civ-spouse   </td><td>Exec-managerial  </td><td>Husband      </td><td>White</td><td>Male  </td><td>5178.0            </td><td>0.0               </td><td>40.0              </td><td>United-States</td><td>&gt;50K </td></tr>\n",
       "</tbody>\n",
       "</table>"
      ]
     },
     "metadata": {},
     "output_type": "display_data"
    }
   ],
   "source": [
    "adult_h2o.summary()"
   ]
  },
  {
   "cell_type": "code",
   "execution_count": 17,
   "id": "b7b078b5-5aef-4098-a8d0-ab24c6fcc31c",
   "metadata": {
    "collapsed": true,
    "jupyter": {
     "outputs_hidden": true
    },
    "tags": []
   },
   "outputs": [
    {
     "name": "stdout",
     "output_type": "stream",
     "text": [
      "03-06 19:56:26.215 10.0.0.115:54321      77804  9866381-66  INFO water.default: POST /4/sessions, parms: {}\n",
      "03-06 19:56:26.309 10.0.0.115:54321      77804  866381-177  INFO water.default: POST /99/Rapids, parms: {ast=(tmp= py_1_sid_8867 (colnames= adult_raw1.hex [0 1 2 3 4 5 6 7 8 9 10 11 12 13] ['age' 'capital_gain' 'capital_loss' 'education' 'fnlwgt' 'hours_per_week' 'income' 'marital_status' 'native_country' 'occupation' 'race' 'relationship' 'sex' 'workclass'])), session_id=_sid_8867}\n",
      "03-06 19:56:26.338 10.0.0.115:54321      77804  9866381-66  INFO water.default: GET /3/Frames/py_1_sid_8867, parms: {column_offset=0, full_column_count=-1, row_count=10, row_offset=0, column_count=-1}\n"
     ]
    },
    {
     "data": {
      "text/html": [
       "<table>\n",
       "<thead>\n",
       "<tr><th style=\"text-align: right;\">  age</th><th>capital_gain    </th><th style=\"text-align: right;\">  capital_loss</th><th>education  </th><th>fnlwgt               </th><th>hours_per_week   </th><th>income       </th><th>marital_status  </th><th>native_country  </th><th style=\"text-align: right;\">  occupation</th><th style=\"text-align: right;\">  race</th><th style=\"text-align: right;\">  relationship</th><th>sex          </th><th>workclass  </th></tr>\n",
       "</thead>\n",
       "<tbody>\n",
       "<tr><td style=\"text-align: right;\">   39</td><td>State-gov       </td><td style=\"text-align: right;\">         77516</td><td>Bachelors  </td><td>Never-married        </td><td>Adm-clerical     </td><td>Not-in-family</td><td>White           </td><td>Male            </td><td style=\"text-align: right;\">        2174</td><td style=\"text-align: right;\">     0</td><td style=\"text-align: right;\">            40</td><td>United-States</td><td>&lt;=50K      </td></tr>\n",
       "<tr><td style=\"text-align: right;\">   50</td><td>Self-emp-not-inc</td><td style=\"text-align: right;\">         83311</td><td>Bachelors  </td><td>Married-civ-spouse   </td><td>Exec-managerial  </td><td>Husband      </td><td>White           </td><td>Male            </td><td style=\"text-align: right;\">           0</td><td style=\"text-align: right;\">     0</td><td style=\"text-align: right;\">            13</td><td>United-States</td><td>&lt;=50K      </td></tr>\n",
       "<tr><td style=\"text-align: right;\">   38</td><td>Private         </td><td style=\"text-align: right;\">        215646</td><td>HS-grad    </td><td>Divorced             </td><td>Handlers-cleaners</td><td>Not-in-family</td><td>White           </td><td>Male            </td><td style=\"text-align: right;\">           0</td><td style=\"text-align: right;\">     0</td><td style=\"text-align: right;\">            40</td><td>United-States</td><td>&lt;=50K      </td></tr>\n",
       "<tr><td style=\"text-align: right;\">   53</td><td>Private         </td><td style=\"text-align: right;\">        234721</td><td>11th       </td><td>Married-civ-spouse   </td><td>Handlers-cleaners</td><td>Husband      </td><td>Black           </td><td>Male            </td><td style=\"text-align: right;\">           0</td><td style=\"text-align: right;\">     0</td><td style=\"text-align: right;\">            40</td><td>United-States</td><td>&lt;=50K      </td></tr>\n",
       "<tr><td style=\"text-align: right;\">   28</td><td>Private         </td><td style=\"text-align: right;\">        338409</td><td>Bachelors  </td><td>Married-civ-spouse   </td><td>Prof-specialty   </td><td>Wife         </td><td>Black           </td><td>Female          </td><td style=\"text-align: right;\">           0</td><td style=\"text-align: right;\">     0</td><td style=\"text-align: right;\">            40</td><td>Cuba         </td><td>&lt;=50K      </td></tr>\n",
       "<tr><td style=\"text-align: right;\">   37</td><td>Private         </td><td style=\"text-align: right;\">        284582</td><td>Masters    </td><td>Married-civ-spouse   </td><td>Exec-managerial  </td><td>Wife         </td><td>White           </td><td>Female          </td><td style=\"text-align: right;\">           0</td><td style=\"text-align: right;\">     0</td><td style=\"text-align: right;\">            40</td><td>United-States</td><td>&lt;=50K      </td></tr>\n",
       "<tr><td style=\"text-align: right;\">   49</td><td>Private         </td><td style=\"text-align: right;\">        160187</td><td>9th        </td><td>Married-spouse-absent</td><td>Other-service    </td><td>Not-in-family</td><td>Black           </td><td>Female          </td><td style=\"text-align: right;\">           0</td><td style=\"text-align: right;\">     0</td><td style=\"text-align: right;\">            16</td><td>Jamaica      </td><td>&lt;=50K      </td></tr>\n",
       "<tr><td style=\"text-align: right;\">   52</td><td>Self-emp-not-inc</td><td style=\"text-align: right;\">        209642</td><td>HS-grad    </td><td>Married-civ-spouse   </td><td>Exec-managerial  </td><td>Husband      </td><td>White           </td><td>Male            </td><td style=\"text-align: right;\">           0</td><td style=\"text-align: right;\">     0</td><td style=\"text-align: right;\">            45</td><td>United-States</td><td>&gt;50K       </td></tr>\n",
       "<tr><td style=\"text-align: right;\">   31</td><td>Private         </td><td style=\"text-align: right;\">         45781</td><td>Masters    </td><td>Never-married        </td><td>Prof-specialty   </td><td>Not-in-family</td><td>White           </td><td>Female          </td><td style=\"text-align: right;\">       14084</td><td style=\"text-align: right;\">     0</td><td style=\"text-align: right;\">            50</td><td>United-States</td><td>&gt;50K       </td></tr>\n",
       "<tr><td style=\"text-align: right;\">   42</td><td>Private         </td><td style=\"text-align: right;\">        159449</td><td>Bachelors  </td><td>Married-civ-spouse   </td><td>Exec-managerial  </td><td>Husband      </td><td>White           </td><td>Male            </td><td style=\"text-align: right;\">        5178</td><td style=\"text-align: right;\">     0</td><td style=\"text-align: right;\">            40</td><td>United-States</td><td>&gt;50K       </td></tr>\n",
       "</tbody>\n",
       "</table>"
      ]
     },
     "metadata": {},
     "output_type": "display_data"
    },
    {
     "data": {
      "text/plain": []
     },
     "execution_count": 17,
     "metadata": {},
     "output_type": "execute_result"
    }
   ],
   "source": [
    "adult_h2o.set_names([\"age\", \"capital_gain\", \"capital_loss\", \"education\", \"fnlwgt\", \"hours_per_week\", \"income\", \"marital_status\", \"native_country\", \"occupation\", \"race\", \"relationship\", \"sex\", \"workclass\"])"
   ]
  },
  {
   "cell_type": "code",
   "execution_count": 21,
   "id": "df0c8b77-f4e9-4686-8d9f-085806209690",
   "metadata": {},
   "outputs": [
    {
     "data": {
      "text/html": [
       "<table>\n",
       "<thead>\n",
       "<tr><th style=\"text-align: right;\">  age</th><th>capital_gain    </th><th style=\"text-align: right;\">  capital_loss</th><th>education  </th><th>fnlwgt               </th><th>hours_per_week   </th><th>income       </th><th>marital_status  </th><th>native_country  </th><th style=\"text-align: right;\">  occupation</th><th style=\"text-align: right;\">  race</th><th style=\"text-align: right;\">  relationship</th><th>sex          </th><th>workclass  </th></tr>\n",
       "</thead>\n",
       "<tbody>\n",
       "<tr><td style=\"text-align: right;\">   39</td><td>State-gov       </td><td style=\"text-align: right;\">         77516</td><td>Bachelors  </td><td>Never-married        </td><td>Adm-clerical     </td><td>Not-in-family</td><td>White           </td><td>Male            </td><td style=\"text-align: right;\">        2174</td><td style=\"text-align: right;\">     0</td><td style=\"text-align: right;\">            40</td><td>United-States</td><td>&lt;=50K      </td></tr>\n",
       "<tr><td style=\"text-align: right;\">   50</td><td>Self-emp-not-inc</td><td style=\"text-align: right;\">         83311</td><td>Bachelors  </td><td>Married-civ-spouse   </td><td>Exec-managerial  </td><td>Husband      </td><td>White           </td><td>Male            </td><td style=\"text-align: right;\">           0</td><td style=\"text-align: right;\">     0</td><td style=\"text-align: right;\">            13</td><td>United-States</td><td>&lt;=50K      </td></tr>\n",
       "<tr><td style=\"text-align: right;\">   38</td><td>Private         </td><td style=\"text-align: right;\">        215646</td><td>HS-grad    </td><td>Divorced             </td><td>Handlers-cleaners</td><td>Not-in-family</td><td>White           </td><td>Male            </td><td style=\"text-align: right;\">           0</td><td style=\"text-align: right;\">     0</td><td style=\"text-align: right;\">            40</td><td>United-States</td><td>&lt;=50K      </td></tr>\n",
       "<tr><td style=\"text-align: right;\">   53</td><td>Private         </td><td style=\"text-align: right;\">        234721</td><td>11th       </td><td>Married-civ-spouse   </td><td>Handlers-cleaners</td><td>Husband      </td><td>Black           </td><td>Male            </td><td style=\"text-align: right;\">           0</td><td style=\"text-align: right;\">     0</td><td style=\"text-align: right;\">            40</td><td>United-States</td><td>&lt;=50K      </td></tr>\n",
       "<tr><td style=\"text-align: right;\">   28</td><td>Private         </td><td style=\"text-align: right;\">        338409</td><td>Bachelors  </td><td>Married-civ-spouse   </td><td>Prof-specialty   </td><td>Wife         </td><td>Black           </td><td>Female          </td><td style=\"text-align: right;\">           0</td><td style=\"text-align: right;\">     0</td><td style=\"text-align: right;\">            40</td><td>Cuba         </td><td>&lt;=50K      </td></tr>\n",
       "<tr><td style=\"text-align: right;\">   37</td><td>Private         </td><td style=\"text-align: right;\">        284582</td><td>Masters    </td><td>Married-civ-spouse   </td><td>Exec-managerial  </td><td>Wife         </td><td>White           </td><td>Female          </td><td style=\"text-align: right;\">           0</td><td style=\"text-align: right;\">     0</td><td style=\"text-align: right;\">            40</td><td>United-States</td><td>&lt;=50K      </td></tr>\n",
       "<tr><td style=\"text-align: right;\">   49</td><td>Private         </td><td style=\"text-align: right;\">        160187</td><td>9th        </td><td>Married-spouse-absent</td><td>Other-service    </td><td>Not-in-family</td><td>Black           </td><td>Female          </td><td style=\"text-align: right;\">           0</td><td style=\"text-align: right;\">     0</td><td style=\"text-align: right;\">            16</td><td>Jamaica      </td><td>&lt;=50K      </td></tr>\n",
       "<tr><td style=\"text-align: right;\">   52</td><td>Self-emp-not-inc</td><td style=\"text-align: right;\">        209642</td><td>HS-grad    </td><td>Married-civ-spouse   </td><td>Exec-managerial  </td><td>Husband      </td><td>White           </td><td>Male            </td><td style=\"text-align: right;\">           0</td><td style=\"text-align: right;\">     0</td><td style=\"text-align: right;\">            45</td><td>United-States</td><td>&gt;50K       </td></tr>\n",
       "<tr><td style=\"text-align: right;\">   31</td><td>Private         </td><td style=\"text-align: right;\">         45781</td><td>Masters    </td><td>Never-married        </td><td>Prof-specialty   </td><td>Not-in-family</td><td>White           </td><td>Female          </td><td style=\"text-align: right;\">       14084</td><td style=\"text-align: right;\">     0</td><td style=\"text-align: right;\">            50</td><td>United-States</td><td>&gt;50K       </td></tr>\n",
       "<tr><td style=\"text-align: right;\">   42</td><td>Private         </td><td style=\"text-align: right;\">        159449</td><td>Bachelors  </td><td>Married-civ-spouse   </td><td>Exec-managerial  </td><td>Husband      </td><td>White           </td><td>Male            </td><td style=\"text-align: right;\">        5178</td><td style=\"text-align: right;\">     0</td><td style=\"text-align: right;\">            40</td><td>United-States</td><td>&gt;50K       </td></tr>\n",
       "</tbody>\n",
       "</table>"
      ]
     },
     "metadata": {},
     "output_type": "display_data"
    }
   ],
   "source": [
    "adult_h2o.show()"
   ]
  },
  {
   "cell_type": "markdown",
   "id": "d8b33d72",
   "metadata": {},
   "source": [
    "## Convert as Spark DataFrame"
   ]
  },
  {
   "cell_type": "code",
   "execution_count": 22,
   "id": "b605ef24",
   "metadata": {
    "collapsed": true,
    "jupyter": {
     "outputs_hidden": true
    },
    "tags": []
   },
   "outputs": [
    {
     "name": "stdout",
     "output_type": "stream",
     "text": [
      "03-06 20:02:53.115 10.0.0.115:54321      77804  866381-514  INFO water.default: GET /3/Frames/py_1_sid_8867/summary, parms: {row_count=0}\n",
      "03-06 20:02:53.179 10.0.0.115:54321      77804    Thread-4  INFO ai.h2o.sparkling.H2OFrame: H2O node http://10.0.0.115:54321/3/Frames/py_1_sid_8867/summary?row_count=0 successfully responded for the GET.\n",
      "03-06 20:02:53.205 10.0.0.115:54321      77804    Thread-4  INFO ai.h2o.sparkling.backend.utils.RestApiUtils: H2O node http://10.0.0.115:54321/3/Cloud successfully responded for the GET.\n",
      "03-06 20:02:53.210 10.0.0.115:54321      77804  866381-514  INFO water.default: GET /3/FrameChunks/py_1_sid_8867, parms: {}\n",
      "03-06 20:02:53.212 10.0.0.115:54321      77804    Thread-4  INFO ai.h2o.sparkling.H2OFrame: H2O node http://10.0.0.115:54321/3/FrameChunks/py_1_sid_8867 successfully responded for the GET.\n"
     ]
    }
   ],
   "source": [
    "adult_df = hc.asSparkFrame(adult_h2o)"
   ]
  },
  {
   "cell_type": "code",
   "execution_count": 23,
   "id": "8702b2a4",
   "metadata": {
    "collapsed": true,
    "jupyter": {
     "outputs_hidden": true
    },
    "tags": []
   },
   "outputs": [
    {
     "name": "stdout",
     "output_type": "stream",
     "text": [
      "03-06 20:02:56.617 10.0.0.115:54321      77804    Thread-4  INFO org.apache.spark.sql.catalyst.expressions.codegen.CodeGenerator: Code generated in 102.179459 ms\n",
      "03-06 20:02:56.644 10.0.0.115:54321      77804    Thread-4  INFO org.apache.spark.SparkContext: Starting job: showString at NativeMethodAccessorImpl.java:0\n",
      "03-06 20:02:56.650 10.0.0.115:54321      77804  event-loop  INFO org.apache.spark.scheduler.DAGScheduler: Got job 7 (showString at NativeMethodAccessorImpl.java:0) with 1 output partitions\n",
      "03-06 20:02:56.650 10.0.0.115:54321      77804  event-loop  INFO org.apache.spark.scheduler.DAGScheduler: Final stage: ResultStage 7 (showString at NativeMethodAccessorImpl.java:0)\n",
      "03-06 20:02:56.650 10.0.0.115:54321      77804  event-loop  INFO org.apache.spark.scheduler.DAGScheduler: Parents of final stage: List()\n",
      "03-06 20:02:56.651 10.0.0.115:54321      77804  event-loop  INFO org.apache.spark.scheduler.DAGScheduler: Missing parents: List()\n",
      "03-06 20:02:56.653 10.0.0.115:54321      77804  event-loop  INFO org.apache.spark.scheduler.DAGScheduler: Submitting ResultStage 7 (MapPartitionsRDD[28] at showString at NativeMethodAccessorImpl.java:0), which has no missing parents\n",
      "03-06 20:02:56.695 10.0.0.115:54321      77804  event-loop  INFO org.apache.spark.storage.memory.MemoryStore: Block broadcast_8 stored as values in memory (estimated size 21.8 KiB, free 365.9 MiB)\n",
      "03-06 20:02:56.700 10.0.0.115:54321      77804  event-loop  INFO org.apache.spark.storage.memory.MemoryStore: Block broadcast_8_piece0 stored as bytes in memory (estimated size 11.2 KiB, free 365.9 MiB)\n",
      "03-06 20:02:56.703 10.0.0.115:54321      77804  agerMaster  INFO org.apache.spark.storage.BlockManagerInfo: Added broadcast_8_piece0 in memory on 10.0.0.115:56039 (size: 11.2 KiB, free: 366.3 MiB)\n",
      "03-06 20:02:56.705 10.0.0.115:54321      77804  event-loop  INFO org.apache.spark.SparkContext: Created broadcast 8 from broadcast at DAGScheduler.scala:1427\n",
      "03-06 20:02:56.706 10.0.0.115:54321      77804  event-loop  INFO org.apache.spark.scheduler.DAGScheduler: Submitting 1 missing tasks from ResultStage 7 (MapPartitionsRDD[28] at showString at NativeMethodAccessorImpl.java:0) (first 15 tasks are for partitions Vector(0))\n",
      "03-06 20:02:56.707 10.0.0.115:54321      77804  event-loop  INFO org.apache.spark.scheduler.TaskSchedulerImpl: Adding task set 7.0 with 1 tasks resource profile 0\n",
      "03-06 20:02:56.740 10.0.0.115:54321      77804  ent-loop-3  INFO org.apache.spark.scheduler.TaskSetManager: Starting task 0.0 in stage 7.0 (TID 25) (10.0.0.115, executor driver, partition 0, NODE_LOCAL, 4267 bytes) taskResourceAssignments Map()\n",
      "03-06 20:02:56.745 10.0.0.115:54321      77804  0 (TID 25)  INFO org.apache.spark.executor.Executor: Running task 0.0 in stage 7.0 (TID 25)\n",
      "03-06 20:02:56.823 10.0.0.115:54321      77804  0 (TID 25)  INFO ai.h2o.sparkling.backend.H2OChunk: H2O node http://10.0.0.115:54321/3/Chunk successfully responded for the POST.\n",
      "03-06 20:02:56.858 10.0.0.115:54321      77804  0 (TID 25)  INFO org.apache.spark.executor.Executor: Finished task 0.0 in stage 7.0 (TID 25). 3778 bytes result sent to driver\n",
      "03-06 20:02:56.862 10.0.0.115:54321      77804  t-getter-2  INFO org.apache.spark.scheduler.TaskSetManager: Finished task 0.0 in stage 7.0 (TID 25) in 152 ms on 10.0.0.115 (executor driver) (1/1)\n",
      "03-06 20:02:56.862 10.0.0.115:54321      77804  t-getter-2  INFO org.apache.spark.scheduler.TaskSchedulerImpl: Removed TaskSet 7.0, whose tasks have all completed, from pool \n",
      "03-06 20:02:56.866 10.0.0.115:54321      77804  event-loop  INFO org.apache.spark.scheduler.DAGScheduler: ResultStage 7 (showString at NativeMethodAccessorImpl.java:0) finished in 0.203 s\n",
      "03-06 20:02:56.868 10.0.0.115:54321      77804  event-loop  INFO org.apache.spark.scheduler.DAGScheduler: Job 7 is finished. Cancelling potential speculative or zombie tasks for this job\n",
      "03-06 20:02:56.868 10.0.0.115:54321      77804  event-loop  INFO org.apache.spark.scheduler.TaskSchedulerImpl: Killing all running tasks in stage 7: Stage finished\n",
      "03-06 20:02:56.869 10.0.0.115:54321      77804    Thread-4  INFO org.apache.spark.scheduler.DAGScheduler: Job 7 finished: showString at NativeMethodAccessorImpl.java:0, took 0.224963 s\n",
      "03-06 20:02:56.935 10.0.0.115:54321      77804    Thread-4  INFO org.apache.spark.sql.catalyst.expressions.codegen.CodeGenerator: Code generated in 44.854209 ms\n",
      "+---+----------------+------------+------------+--------------------+-----------------+-------------+------------------+--------------+----------+----+------------+-------------+---------+\n",
      "|age|    capital_gain|capital_loss|   education|              fnlwgt|   hours_per_week|       income|    marital_status|native_country|occupation|race|relationship|          sex|workclass|\n",
      "+---+----------------+------------+------------+--------------------+-----------------+-------------+------------------+--------------+----------+----+------------+-------------+---------+\n",
      "| 39|       State-gov|       77516|   Bachelors|       Never-married|     Adm-clerical|Not-in-family|             White|          Male|      2174|   0|          40|United-States|    <=50K|\n",
      "| 50|Self-emp-not-inc|       83311|   Bachelors|  Married-civ-spouse|  Exec-managerial|      Husband|             White|          Male|         0|   0|          13|United-States|    <=50K|\n",
      "| 38|         Private|      215646|     HS-grad|            Divorced|Handlers-cleaners|Not-in-family|             White|          Male|         0|   0|          40|United-States|    <=50K|\n",
      "| 53|         Private|      234721|        11th|  Married-civ-spouse|Handlers-cleaners|      Husband|             Black|          Male|         0|   0|          40|United-States|    <=50K|\n",
      "| 28|         Private|      338409|   Bachelors|  Married-civ-spouse|   Prof-specialty|         Wife|             Black|        Female|         0|   0|          40|         Cuba|    <=50K|\n",
      "| 37|         Private|      284582|     Masters|  Married-civ-spouse|  Exec-managerial|         Wife|             White|        Female|         0|   0|          40|United-States|    <=50K|\n",
      "| 49|         Private|      160187|         9th|Married-spouse-ab...|    Other-service|Not-in-family|             Black|        Female|         0|   0|          16|      Jamaica|    <=50K|\n",
      "| 52|Self-emp-not-inc|      209642|     HS-grad|  Married-civ-spouse|  Exec-managerial|      Husband|             White|          Male|         0|   0|          45|United-States|     >50K|\n",
      "| 31|         Private|       45781|     Masters|       Never-married|   Prof-specialty|Not-in-family|             White|        Female|     14084|   0|          50|United-States|     >50K|\n",
      "| 42|         Private|      159449|   Bachelors|  Married-civ-spouse|  Exec-managerial|      Husband|             White|          Male|      5178|   0|          40|United-States|     >50K|\n",
      "| 37|         Private|      280464|Some-college|  Married-civ-spouse|  Exec-managerial|      Husband|             Black|          Male|         0|   0|          80|United-States|     >50K|\n",
      "| 30|       State-gov|      141297|   Bachelors|  Married-civ-spouse|   Prof-specialty|      Husband|Asian-Pac-Islander|          Male|         0|   0|          40|        India|     >50K|\n",
      "| 23|         Private|      122272|   Bachelors|       Never-married|     Adm-clerical|    Own-child|             White|        Female|         0|   0|          30|United-States|    <=50K|\n",
      "| 32|         Private|      205019|  Assoc-acdm|       Never-married|            Sales|Not-in-family|             Black|          Male|         0|   0|          50|United-States|    <=50K|\n",
      "| 40|         Private|      121772|   Assoc-voc|  Married-civ-spouse|     Craft-repair|      Husband|Asian-Pac-Islander|          Male|         0|   0|          40|            ?|     >50K|\n",
      "| 34|         Private|      245487|     7th-8th|  Married-civ-spouse| Transport-moving|      Husband|Amer-Indian-Eskimo|          Male|         0|   0|          45|       Mexico|    <=50K|\n",
      "| 25|Self-emp-not-inc|      176756|     HS-grad|       Never-married|  Farming-fishing|    Own-child|             White|          Male|         0|   0|          35|United-States|    <=50K|\n",
      "| 32|         Private|      186824|     HS-grad|       Never-married|Machine-op-inspct|    Unmarried|             White|          Male|         0|   0|          40|United-States|    <=50K|\n",
      "| 38|         Private|       28887|        11th|  Married-civ-spouse|            Sales|      Husband|             White|          Male|         0|   0|          50|United-States|    <=50K|\n",
      "| 43|Self-emp-not-inc|      292175|     Masters|            Divorced|  Exec-managerial|    Unmarried|             White|        Female|         0|   0|          45|United-States|     >50K|\n",
      "+---+----------------+------------+------------+--------------------+-----------------+-------------+------------------+--------------+----------+----+------------+-------------+---------+\n",
      "only showing top 20 rows\n",
      "\n"
     ]
    }
   ],
   "source": [
    "adult_df.show()"
   ]
  },
  {
   "cell_type": "code",
   "execution_count": 24,
   "id": "572948da",
   "metadata": {},
   "outputs": [
    {
     "name": "stdout",
     "output_type": "stream",
     "text": [
      "03-06 20:03:01.278 10.0.0.115:54321      77804    Thread-4  INFO org.apache.spark.ui.SparkUI: Stopped Spark web UI at http://10.0.0.115:4041\n",
      "03-06 20:03:01.288 10.0.0.115:54321      77804  agerMaster  INFO org.apache.spark.storage.BlockManagerInfo: Removed broadcast_8_piece0 on 10.0.0.115:56039 in memory (size: 11.2 KiB, free: 366.3 MiB)\n",
      "03-06 20:03:01.313 10.0.0.115:54321      77804  ent-loop-4  INFO org.apache.spark.MapOutputTrackerMasterEndpoint: MapOutputTrackerMasterEndpoint stopped!\n",
      "03-06 20:03:01.343 10.0.0.115:54321      77804    Thread-4  INFO org.apache.spark.storage.memory.MemoryStore: MemoryStore cleared\n",
      "03-06 20:03:01.343 10.0.0.115:54321      77804    Thread-4  INFO org.apache.spark.storage.BlockManager: BlockManager stopped\n",
      "03-06 20:03:01.346 10.0.0.115:54321      77804    Thread-4  INFO org.apache.spark.storage.BlockManagerMaster: BlockManagerMaster stopped\n",
      "03-06 20:03:01.349 10.0.0.115:54321      77804  ent-loop-1  INFO org.apache.spark.scheduler.OutputCommitCoordinator$OutputCommitCoordinatorEndpoint: OutputCommitCoordinator stopped!\n",
      "03-06 20:03:01.363 10.0.0.115:54321      77804    Thread-4  INFO org.apache.spark.SparkContext: Successfully stopped SparkContext\n",
      "03-06 20:03:02.405 10.0.0.115:54321      77804   Thread-21  INFO org.apache.spark.SparkContext: Running Spark version 3.2.0\n",
      "03-06 20:03:02.412 10.0.0.115:54321      77804   Thread-21  INFO org.apache.spark.resource.ResourceUtils: ==============================================================\n",
      "03-06 20:03:02.412 10.0.0.115:54321      77804   Thread-21  INFO org.apache.spark.resource.ResourceUtils: No custom resources configured for spark.driver.\n",
      "03-06 20:03:02.412 10.0.0.115:54321      77804   Thread-21  INFO org.apache.spark.resource.ResourceUtils: ==============================================================\n",
      "03-06 20:03:02.412 10.0.0.115:54321      77804   Thread-21  INFO org.apache.spark.SparkContext: Submitted application: pyspark-shell\n",
      "03-06 20:03:02.418 10.0.0.115:54321      77804   Thread-21  INFO org.apache.spark.resource.ResourceProfile: Default ResourceProfile created, executor resources: Map(cores -> name: cores, amount: 1, script: , vendor: , memory -> name: memory, amount: 1024, script: , vendor: , offHeap -> name: offHeap, amount: 0, script: , vendor: ), task resources: Map(cpus -> name: cpus, amount: 1.0)\n",
      "03-06 20:03:02.419 10.0.0.115:54321      77804   Thread-21  INFO org.apache.spark.resource.ResourceProfile: Limiting resource is cpu\n",
      "03-06 20:03:02.419 10.0.0.115:54321      77804   Thread-21  INFO org.apache.spark.resource.ResourceProfileManager: Added ResourceProfile id: 0\n",
      "03-06 20:03:02.422 10.0.0.115:54321      77804   Thread-21  INFO org.apache.spark.SecurityManager: Changing view acls to: fanli\n",
      "03-06 20:03:02.422 10.0.0.115:54321      77804   Thread-21  INFO org.apache.spark.SecurityManager: Changing modify acls to: fanli\n",
      "03-06 20:03:02.422 10.0.0.115:54321      77804   Thread-21  INFO org.apache.spark.SecurityManager: Changing view acls groups to: \n",
      "03-06 20:03:02.422 10.0.0.115:54321      77804   Thread-21  INFO org.apache.spark.SecurityManager: Changing modify acls groups to: \n",
      "03-06 20:03:02.422 10.0.0.115:54321      77804   Thread-21  INFO org.apache.spark.SecurityManager: SecurityManager: authentication disabled; ui acls disabled; users  with view permissions: Set(fanli); groups with view permissions: Set(); users  with modify permissions: Set(fanli); groups with modify permissions: Set()\n",
      "03-06 20:03:02.460 10.0.0.115:54321      77804   Thread-21  INFO org.apache.spark.util.Utils: Successfully started service 'sparkDriver' on port 56397.\n",
      "03-06 20:03:02.467 10.0.0.115:54321      77804   Thread-21  INFO org.apache.spark.SparkEnv: Registering MapOutputTracker\n",
      "03-06 20:03:02.471 10.0.0.115:54321      77804   Thread-21  INFO org.apache.spark.SparkEnv: Registering BlockManagerMaster\n",
      "03-06 20:03:02.471 10.0.0.115:54321      77804   Thread-21  INFO org.apache.spark.storage.BlockManagerMasterEndpoint: Using org.apache.spark.storage.DefaultTopologyMapper for getting topology information\n",
      "03-06 20:03:02.471 10.0.0.115:54321      77804   Thread-21  INFO org.apache.spark.storage.BlockManagerMasterEndpoint: BlockManagerMasterEndpoint up\n",
      "03-06 20:03:02.472 10.0.0.115:54321      77804   Thread-21  INFO org.apache.spark.SparkEnv: Registering BlockManagerMasterHeartbeat\n",
      "03-06 20:03:02.475 10.0.0.115:54321      77804   Thread-21  INFO org.apache.spark.storage.DiskBlockManager: Created local directory at /private/var/folders/hz/5yfy3bjj1ts_fk0bmfk7xj080000gn/T/blockmgr-411c73a7-54f1-4738-9de4-423bb481c03b\n",
      "03-06 20:03:02.479 10.0.0.115:54321      77804   Thread-21  INFO org.apache.spark.storage.memory.MemoryStore: MemoryStore started with capacity 366.3 MiB\n",
      "03-06 20:03:02.486 10.0.0.115:54321      77804   Thread-21  INFO org.apache.spark.SparkEnv: Registering OutputCommitCoordinator\n",
      "03-06 20:03:02.516 10.0.0.115:54321      77804   Thread-21  WARN org.apache.spark.util.Utils: Service 'SparkUI' could not bind on port 4040. Attempting port 4041.\n",
      "03-06 20:03:02.519 10.0.0.115:54321      77804   Thread-21  INFO org.apache.spark.util.Utils: Successfully started service 'SparkUI' on port 4041.\n",
      "03-06 20:03:02.539 10.0.0.115:54321      77804   Thread-21  INFO org.apache.spark.ui.SparkUI: Bound SparkUI to 0.0.0.0, and started at http://10.0.0.115:4041\n",
      "03-06 20:03:02.548 10.0.0.115:54321      77804   Thread-21  INFO org.apache.spark.SparkContext: Added JAR file:///Users/fanli/opt/anaconda3/envs/adv630/lib/python3.9/site-packages/sparkling_water/sparkling_water_assembly.jar at spark://10.0.0.115:56397/jars/sparkling_water_assembly.jar with timestamp 1646625782404\n",
      "03-06 20:03:02.559 10.0.0.115:54321      77804   Thread-21  INFO org.apache.spark.executor.Executor: Starting executor ID driver on host 10.0.0.115\n",
      "03-06 20:03:02.562 10.0.0.115:54321      77804   Thread-21  INFO org.apache.spark.executor.Executor: Fetching spark://10.0.0.115:56397/jars/sparkling_water_assembly.jar with timestamp 1646625782404\n",
      "03-06 20:03:02.576 10.0.0.115:54321      77804   Thread-21  INFO org.apache.spark.network.client.TransportClientFactory: Successfully created connection to /10.0.0.115:56397 after 6 ms (0 ms spent in bootstraps)\n",
      "03-06 20:03:02.579 10.0.0.115:54321      77804   Thread-21  INFO org.apache.spark.util.Utils: Fetching spark://10.0.0.115:56397/jars/sparkling_water_assembly.jar to /private/var/folders/hz/5yfy3bjj1ts_fk0bmfk7xj080000gn/T/spark-a3f273f2-a70d-4c22-ba5e-27438b3d27cc/userFiles-79ae0e08-aa93-4238-ba3e-4641d2cba1ef/fetchFileTemp5775605020956485688.tmp\n",
      "03-06 20:03:02.870 10.0.0.115:54321      77804   Thread-21  INFO org.apache.spark.executor.Executor: Adding file:/private/var/folders/hz/5yfy3bjj1ts_fk0bmfk7xj080000gn/T/spark-a3f273f2-a70d-4c22-ba5e-27438b3d27cc/userFiles-79ae0e08-aa93-4238-ba3e-4641d2cba1ef/sparkling_water_assembly.jar to class loader\n",
      "03-06 20:03:02.889 10.0.0.115:54321      77804   Thread-21  INFO org.apache.spark.util.Utils: Successfully started service 'org.apache.spark.network.netty.NettyBlockTransferService' on port 56399.\n",
      "03-06 20:03:02.889 10.0.0.115:54321      77804   Thread-21  INFO org.apache.spark.network.netty.NettyBlockTransferService: Server created on 10.0.0.115:56399\n",
      "03-06 20:03:02.890 10.0.0.115:54321      77804   Thread-21  INFO org.apache.spark.storage.BlockManager: Using org.apache.spark.storage.RandomBlockReplicationPolicy for block replication policy\n",
      "03-06 20:03:02.891 10.0.0.115:54321      77804   Thread-21  INFO org.apache.spark.storage.BlockManagerMaster: Registering BlockManager BlockManagerId(driver, 10.0.0.115, 56399, None)\n",
      "03-06 20:03:02.898 10.0.0.115:54321      77804  agerMaster  INFO org.apache.spark.storage.BlockManagerMasterEndpoint: Registering block manager 10.0.0.115:56399 with 366.3 MiB RAM, BlockManagerId(driver, 10.0.0.115, 56399, None)\n",
      "03-06 20:03:02.901 10.0.0.115:54321      77804   Thread-21  INFO org.apache.spark.storage.BlockManagerMaster: Registered BlockManager BlockManagerId(driver, 10.0.0.115, 56399, None)\n",
      "03-06 20:03:02.901 10.0.0.115:54321      77804   Thread-21  INFO org.apache.spark.storage.BlockManager: Initialized BlockManager: BlockManagerId(driver, 10.0.0.115, 56399, None)\n"
     ]
    }
   ],
   "source": [
    "ss.stop()"
   ]
  },
  {
   "cell_type": "code",
   "execution_count": null,
   "id": "642c9875",
   "metadata": {},
   "outputs": [],
   "source": []
  }
 ],
 "metadata": {
  "kernelspec": {
   "display_name": "Python 3 (ipykernel)",
   "language": "python",
   "name": "python3"
  },
  "language_info": {
   "codemirror_mode": {
    "name": "ipython",
    "version": 3
   },
   "file_extension": ".py",
   "mimetype": "text/x-python",
   "name": "python",
   "nbconvert_exporter": "python",
   "pygments_lexer": "ipython3",
   "version": "3.9.10"
  },
  "varInspector": {
   "cols": {
    "lenName": 16,
    "lenType": 16,
    "lenVar": 40
   },
   "kernels_config": {
    "python": {
     "delete_cmd_postfix": "",
     "delete_cmd_prefix": "del ",
     "library": "var_list.py",
     "varRefreshCmd": "print(var_dic_list())"
    },
    "r": {
     "delete_cmd_postfix": ") ",
     "delete_cmd_prefix": "rm(",
     "library": "var_list.r",
     "varRefreshCmd": "cat(var_dic_list()) "
    }
   },
   "types_to_exclude": [
    "module",
    "function",
    "builtin_function_or_method",
    "instance",
    "_Feature"
   ],
   "window_display": false
  }
 },
 "nbformat": 4,
 "nbformat_minor": 5
}
