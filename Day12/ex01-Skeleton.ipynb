{
 "cells": [
  {
   "cell_type": "code",
   "execution_count": null,
   "id": "af4dfbc6",
   "metadata": {},
   "outputs": [],
   "source": [
    "from pyspark.sql import SparkSession\n",
    "from pysparkling import *\n",
    "from pyspark.sql.types import *\n",
    "\n"
   ]
  },
  {
   "cell_type": "markdown",
   "id": "17d0cc52",
   "metadata": {},
   "source": [
    "## Create from Spark DataFrame"
   ]
  },
  {
   "cell_type": "code",
   "execution_count": null,
   "id": "7384b691",
   "metadata": {},
   "outputs": [],
   "source": [
    "def toDoubleSafe(v):\n",
    "    try:\n",
    "        return float(v)\n",
    "    except:\n",
    "        return str(v) #if it is not a float type return as a string.\n",
    "    \n",
    "adultschema = StructType([\n",
    "    StructField(\"age\",DoubleType(),True),\n",
    "    StructField(\"workclass\",StringType(),True),\n",
    "    StructField(\"fnlwgt\",DoubleType(),True),\n",
    "    StructField(\"education\",StringType(),True),\n",
    "    StructField(\"marital_status\",StringType(),True),\n",
    "    StructField(\"occupation\",StringType(),True),\n",
    "    StructField(\"relationship\",StringType(),True),\n",
    "    StructField(\"race\",StringType(),True),\n",
    "    StructField(\"sex\",StringType(),True),\n",
    "    StructField(\"capital_gain\",DoubleType(),True),\n",
    "    StructField(\"capital_loss\",DoubleType(),True),\n",
    "    StructField(\"hours_per_week\",DoubleType(),True),\n",
    "    StructField(\"native_country\",StringType(),True),\n",
    "    StructField(\"income\",StringType(),True)\n",
    "])"
   ]
  },
  {
   "cell_type": "code",
   "execution_count": null,
   "id": "4457c2e4",
   "metadata": {},
   "outputs": [],
   "source": [
    "#load and convert the data\n",
    "census_raw = ss.sparkContext.textFile(\"../Data/adult.raw\", 4).map(lambda x:  x.split(\", \"))\n",
    "census_raw = census_raw.map(lambda row:  [toDoubleSafe(x) for x in row])\n",
    "\n",
    "dfraw = ss.createDataFrame(census_raw, adultschema)"
   ]
  },
  {
   "cell_type": "code",
   "execution_count": null,
   "id": "9a060943",
   "metadata": {},
   "outputs": [],
   "source": [
    "adult_h2o = "
   ]
  },
  {
   "cell_type": "code",
   "execution_count": null,
   "id": "d71bb9b3",
   "metadata": {},
   "outputs": [],
   "source": []
  },
  {
   "cell_type": "code",
   "execution_count": null,
   "id": "4272641a",
   "metadata": {},
   "outputs": [],
   "source": []
  },
  {
   "cell_type": "markdown",
   "id": "3d528950",
   "metadata": {},
   "source": [
    "## Create from File"
   ]
  },
  {
   "cell_type": "code",
   "execution_count": null,
   "id": "95c6109c",
   "metadata": {},
   "outputs": [],
   "source": [
    "import h2o\n",
    "adult_h2o = "
   ]
  },
  {
   "cell_type": "code",
   "execution_count": null,
   "id": "bf69666b",
   "metadata": {},
   "outputs": [],
   "source": [
    "adult_h2o.summary()"
   ]
  },
  {
   "cell_type": "code",
   "execution_count": null,
   "id": "f5b0c0fc",
   "metadata": {},
   "outputs": [],
   "source": [
    "adult_h2o"
   ]
  },
  {
   "cell_type": "markdown",
   "id": "d8b33d72",
   "metadata": {},
   "source": [
    "## Convert as Spark DataFrame"
   ]
  },
  {
   "cell_type": "code",
   "execution_count": null,
   "id": "b605ef24",
   "metadata": {},
   "outputs": [],
   "source": [
    "adult_df = "
   ]
  },
  {
   "cell_type": "code",
   "execution_count": null,
   "id": "8702b2a4",
   "metadata": {},
   "outputs": [],
   "source": [
    "adult_df.show()"
   ]
  },
  {
   "cell_type": "code",
   "execution_count": null,
   "id": "572948da",
   "metadata": {},
   "outputs": [],
   "source": [
    "ss.stop()"
   ]
  },
  {
   "cell_type": "code",
   "execution_count": null,
   "id": "642c9875",
   "metadata": {},
   "outputs": [],
   "source": []
  }
 ],
 "metadata": {
  "kernelspec": {
   "display_name": "Python 3 (ipykernel)",
   "language": "python",
   "name": "python3"
  },
  "language_info": {
   "codemirror_mode": {
    "name": "ipython",
    "version": 3
   },
   "file_extension": ".py",
   "mimetype": "text/x-python",
   "name": "python",
   "nbconvert_exporter": "python",
   "pygments_lexer": "ipython3",
   "version": "3.7.11"
  },
  "varInspector": {
   "cols": {
    "lenName": 16,
    "lenType": 16,
    "lenVar": 40
   },
   "kernels_config": {
    "python": {
     "delete_cmd_postfix": "",
     "delete_cmd_prefix": "del ",
     "library": "var_list.py",
     "varRefreshCmd": "print(var_dic_list())"
    },
    "r": {
     "delete_cmd_postfix": ") ",
     "delete_cmd_prefix": "rm(",
     "library": "var_list.r",
     "varRefreshCmd": "cat(var_dic_list()) "
    }
   },
   "types_to_exclude": [
    "module",
    "function",
    "builtin_function_or_method",
    "instance",
    "_Feature"
   ],
   "window_display": false
  }
 },
 "nbformat": 4,
 "nbformat_minor": 5
}
