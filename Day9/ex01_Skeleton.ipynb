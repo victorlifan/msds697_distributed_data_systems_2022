{
 "cells": [
  {
   "cell_type": "markdown",
   "id": "4b01f089",
   "metadata": {},
   "source": [
    "## Configure Spark Session"
   ]
  },
  {
   "cell_type": "markdown",
   "id": "eedeeb16",
   "metadata": {},
   "source": [
    "## add the jar :\n",
    "    hadoop-aws\n",
    "    https://mvnrepository.com/artifact/com.amazonaws/aws-java-sdk\n",
    "    "
   ]
  },
  {
   "cell_type": "code",
   "execution_count": 1,
   "id": "6d148e4f",
   "metadata": {
    "ExecuteTime": {
     "end_time": "2021-02-01T00:49:47.822898Z",
     "start_time": "2021-02-01T00:49:41.397120Z"
    }
   },
   "outputs": [],
   "source": [
    "from pyspark.sql import SparkSession\n",
    "from pyspark.sql.types import *\n",
    "\n",
    "ss = SparkSession.builder.config"
   ]
  },
  {
   "cell_type": "code",
   "execution_count": null,
   "id": "bd4d4165",
   "metadata": {
    "ExecuteTime": {
     "end_time": "2021-02-01T00:50:09.864615Z",
     "start_time": "2021-02-01T00:50:09.860898Z"
    }
   },
   "outputs": [],
   "source": [
    "ss.\n",
    "ss.\n"
   ]
  },
  {
   "cell_type": "code",
   "execution_count": null,
   "id": "087a18fc",
   "metadata": {
    "ExecuteTime": {
     "end_time": "2021-02-01T00:50:17.202690Z",
     "start_time": "2021-02-01T00:50:10.474343Z"
    }
   },
   "outputs": [],
   "source": [
    "world_bank = ss.read.json(\"\")"
   ]
  },
  {
   "cell_type": "code",
   "execution_count": null,
   "id": "52627267",
   "metadata": {
    "ExecuteTime": {
     "end_time": "2021-02-01T00:50:33.429052Z",
     "start_time": "2021-02-01T00:50:22.574469Z"
    }
   },
   "outputs": [],
   "source": [
    "world_bank.write.parquet(\"\")"
   ]
  },
  {
   "cell_type": "code",
   "execution_count": 2,
   "id": "3e64dc77",
   "metadata": {
    "ExecuteTime": {
     "end_time": "2021-02-01T00:50:52.804612Z",
     "start_time": "2021-02-01T00:50:52.356918Z"
    }
   },
   "outputs": [
    {
     "ename": "AttributeError",
     "evalue": "'function' object has no attribute 'stop'",
     "output_type": "error",
     "traceback": [
      "\u001b[0;31m---------------------------------------------------------------------------\u001b[0m",
      "\u001b[0;31mAttributeError\u001b[0m                            Traceback (most recent call last)",
      "Input \u001b[0;32mIn [2]\u001b[0m, in \u001b[0;36m<module>\u001b[0;34m\u001b[0m\n\u001b[0;32m----> 1\u001b[0m \u001b[43mss\u001b[49m\u001b[38;5;241;43m.\u001b[39;49m\u001b[43mstop\u001b[49m()\n",
      "\u001b[0;31mAttributeError\u001b[0m: 'function' object has no attribute 'stop'"
     ]
    }
   ],
   "source": [
    "ss.stop()"
   ]
  },
  {
   "cell_type": "code",
   "execution_count": null,
   "id": "802efe16",
   "metadata": {},
   "outputs": [],
   "source": []
  },
  {
   "cell_type": "code",
   "execution_count": null,
   "id": "1c910029",
   "metadata": {},
   "outputs": [],
   "source": []
  }
 ],
 "metadata": {
  "kernelspec": {
   "display_name": "Python 3 (ipykernel)",
   "language": "python",
   "name": "python3"
  },
  "language_info": {
   "codemirror_mode": {
    "name": "ipython",
    "version": 3
   },
   "file_extension": ".py",
   "mimetype": "text/x-python",
   "name": "python",
   "nbconvert_exporter": "python",
   "pygments_lexer": "ipython3",
   "version": "3.9.10"
  }
 },
 "nbformat": 4,
 "nbformat_minor": 5
}
