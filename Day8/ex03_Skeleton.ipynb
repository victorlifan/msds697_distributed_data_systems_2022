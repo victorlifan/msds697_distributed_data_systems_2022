{
 "cells": [
  {
   "cell_type": "code",
   "execution_count": 7,
   "metadata": {},
   "outputs": [],
   "source": [
    "from pyspark import SparkContext\n",
    "from pyspark.sql import SparkSession\n",
    "from pyspark.sql.types import *\n",
    "from pyspark.sql.window import Window\n",
    "from pyspark.sql.functions import *\n",
    "\n",
    "sc = SparkContext.getOrCreate()\n",
    "ss = SparkSession.builder.getOrCreate()"
   ]
  },
  {
   "cell_type": "code",
   "execution_count": 2,
   "metadata": {
    "tags": []
   },
   "outputs": [],
   "source": [
    "from datetime import datetime\n",
    "def strip_time(x):\n",
    "    x = x.strip(\"\\\"\")\n",
    "    try:\n",
    "        \n",
    "        return datetime.strptime(x,'%Y-%m-%d %H:%M:%S')\n",
    "    except:\n",
    "        return None"
   ]
  },
  {
   "cell_type": "code",
   "execution_count": 3,
   "metadata": {},
   "outputs": [
    {
     "name": "stderr",
     "output_type": "stream",
     "text": [
      "                                                                                \r"
     ]
    },
    {
     "data": {
      "text/plain": [
       "'10,7,8,\"2014-12-30 15:37:02\"'"
      ]
     },
     "execution_count": 3,
     "metadata": {},
     "output_type": "execute_result"
    }
   ],
   "source": [
    "sc.textFile(\"../Data/bike_share/status_million.csv\").first()"
   ]
  },
  {
   "cell_type": "code",
   "execution_count": 4,
   "metadata": {},
   "outputs": [
    {
     "data": {
      "text/plain": [
       "[10, 7, 8, datetime.datetime(2014, 12, 30, 15, 37, 2)]"
      ]
     },
     "execution_count": 4,
     "metadata": {},
     "output_type": "execute_result"
    }
   ],
   "source": [
    "status = sc.textFile(\"../Data/bike_share/status_million.csv\")\\\n",
    "            .map(lambda x: x.split(','))\\\n",
    "            .map(lambda x: [int(x[0]),int(x[1]),\n",
    "                            int(x[2]),strip_time(x[-1])])\n",
    "status.first()"
   ]
  },
  {
   "cell_type": "markdown",
   "metadata": {},
   "source": [
    "## schema : station_id (int), num_bikes_available (int), num_docks_available (int), timestamp(timestamp)"
   ]
  },
  {
   "cell_type": "code",
   "execution_count": 5,
   "metadata": {},
   "outputs": [],
   "source": [
    "schema = StructType([StructField('station_id',IntegerType(),False),\n",
    "                    StructField('num_bikes_available',IntegerType(), True),\n",
    "                    StructField('num_docks_available',IntegerType(),True),\n",
    "                    StructField('timestamp',TimestampType(),True)])\n",
    "df = ss.createDataFrame(status,schema)"
   ]
  },
  {
   "cell_type": "code",
   "execution_count": 6,
   "metadata": {},
   "outputs": [
    {
     "name": "stderr",
     "output_type": "stream",
     "text": [
      "                                                                                \r"
     ]
    },
    {
     "name": "stdout",
     "output_type": "stream",
     "text": [
      "+----------+-------------------+-------------------+-------------------+\n",
      "|station_id|num_bikes_available|num_docks_available|          timestamp|\n",
      "+----------+-------------------+-------------------+-------------------+\n",
      "|        10|                  7|                  8|2014-12-30 15:37:02|\n",
      "|        10|                  7|                  8|2014-12-30 15:35:02|\n",
      "|        10|                  7|                  8|2014-12-30 15:34:02|\n",
      "|        10|                  7|                  8|2014-12-30 15:33:02|\n",
      "|        10|                  7|                  8|2014-12-30 15:32:02|\n",
      "+----------+-------------------+-------------------+-------------------+\n",
      "only showing top 5 rows\n",
      "\n"
     ]
    }
   ],
   "source": [
    "df.show(5)"
   ]
  },
  {
   "cell_type": "code",
   "execution_count": 11,
   "metadata": {},
   "outputs": [
    {
     "name": "stderr",
     "output_type": "stream",
     "text": [
      "22/02/22 00:21:26 WARN WindowExec: No Partition Defined for Window operation! Moving all data to a single partition, this can cause serious performance degradation.\n",
      "22/02/22 00:21:26 WARN WindowExec: No Partition Defined for Window operation! Moving all data to a single partition, this can cause serious performance degradation.\n",
      "22/02/22 00:22:05 WARN WindowExec: No Partition Defined for Window operation! Moving all data to a single partition, this can cause serious performance degradation.\n"
     ]
    },
    {
     "name": "stdout",
     "output_type": "stream",
     "text": [
      "+----------+-------------------+-------------------+------------------------+\n",
      "|station_id|          timestamp|num_bikes_available|prev_num_bikes_available|\n",
      "+----------+-------------------+-------------------+------------------------+\n",
      "|        10|2014-09-01 00:00:03|                  9|                    null|\n",
      "|        10|2014-09-01 00:01:02|                  9|                       9|\n",
      "|        10|2014-09-01 00:02:02|                  9|                       9|\n",
      "|        10|2014-09-01 00:03:03|                  9|                       9|\n",
      "|        10|2014-09-01 00:04:02|                  9|                       9|\n",
      "+----------+-------------------+-------------------+------------------------+\n",
      "only showing top 5 rows\n",
      "\n"
     ]
    },
    {
     "name": "stderr",
     "output_type": "stream",
     "text": [
      "                                                                                \r"
     ]
    }
   ],
   "source": [
    "df.where(\"station_id==10\")\\\n",
    "    .select('station_id','timestamp','num_bikes_available',\n",
    "            lag('num_bikes_available',1).over(Window.partitionBy().orderBy('timestamp')).alias('prev_num_bikes_available'))\\\n",
    "    .show(5)"
   ]
  },
  {
   "cell_type": "code",
   "execution_count": 12,
   "metadata": {},
   "outputs": [
    {
     "name": "stderr",
     "output_type": "stream",
     "text": [
      "22/02/22 00:26:22 WARN WindowExec: No Partition Defined for Window operation! Moving all data to a single partition, this can cause serious performance degradation.\n",
      "22/02/22 00:26:22 WARN WindowExec: No Partition Defined for Window operation! Moving all data to a single partition, this can cause serious performance degradation.\n",
      "22/02/22 00:27:01 WARN WindowExec: No Partition Defined for Window operation! Moving all data to a single partition, this can cause serious performance degradation.\n"
     ]
    },
    {
     "name": "stdout",
     "output_type": "stream",
     "text": [
      "+----------+-------------------+-------------------+------------------------+\n",
      "|station_id|          timestamp|num_bikes_available|next_num_bikes_available|\n",
      "+----------+-------------------+-------------------+------------------------+\n",
      "|        10|2014-09-01 00:00:03|                  9|                       9|\n",
      "|        10|2014-09-01 00:01:02|                  9|                       9|\n",
      "|        10|2014-09-01 00:02:02|                  9|                       9|\n",
      "|        10|2014-09-01 00:03:03|                  9|                       9|\n",
      "|        10|2014-09-01 00:04:02|                  9|                       9|\n",
      "+----------+-------------------+-------------------+------------------------+\n",
      "only showing top 5 rows\n",
      "\n"
     ]
    },
    {
     "name": "stderr",
     "output_type": "stream",
     "text": [
      "                                                                                \r"
     ]
    }
   ],
   "source": [
    "df.where(\"station_id==10\")\\\n",
    ".select('station_id','timestamp','num_bikes_available',\n",
    "       lead('num_bikes_available',1).over(Window.partitionBy().orderBy('timestamp')).alias('next_num_bikes_available'))\\\n",
    ".show(5)"
   ]
  },
  {
   "cell_type": "code",
   "execution_count": 16,
   "metadata": {},
   "outputs": [
    {
     "name": "stderr",
     "output_type": "stream",
     "text": [
      "[Stage 5:=============================>                             (1 + 1) / 2]\r"
     ]
    },
    {
     "name": "stdout",
     "output_type": "stream",
     "text": [
      "+----------+-------------------+-------------------+------------------------+\n",
      "|station_id|          timestamp|num_bikes_available|prev_num_bikes_available|\n",
      "+----------+-------------------+-------------------+------------------------+\n",
      "|        10|2014-09-01 00:00:03|                  9|                    null|\n",
      "|        10|2014-09-01 00:01:02|                  9|                       9|\n",
      "|        10|2014-09-01 00:02:02|                  9|                       9|\n",
      "|        10|2014-09-01 00:03:03|                  9|                       9|\n",
      "|        10|2014-09-01 00:04:02|                  9|                       9|\n",
      "|        10|2014-09-01 00:05:02|                  9|                       9|\n",
      "|        10|2014-09-01 00:06:02|                  9|                       9|\n",
      "|        10|2014-09-01 00:07:02|                  9|                       9|\n",
      "|        10|2014-09-01 00:08:02|                  9|                       9|\n",
      "|        10|2014-09-01 00:09:03|                  9|                       9|\n",
      "|        10|2014-09-01 00:10:02|                  9|                       9|\n",
      "|        10|2014-09-01 00:11:02|                  9|                       9|\n",
      "|        10|2014-09-01 00:12:02|                  9|                       9|\n",
      "|        10|2014-09-01 00:13:02|                  9|                       9|\n",
      "|        10|2014-09-01 00:14:02|                  9|                       9|\n",
      "|        10|2014-09-01 00:15:02|                  9|                       9|\n",
      "|        10|2014-09-01 00:16:02|                  9|                       9|\n",
      "|        10|2014-09-01 00:17:02|                  9|                       9|\n",
      "|        10|2014-09-01 00:18:02|                  9|                       9|\n",
      "|        10|2014-09-01 00:19:02|                  9|                       9|\n",
      "+----------+-------------------+-------------------+------------------------+\n",
      "only showing top 20 rows\n",
      "\n"
     ]
    },
    {
     "name": "stderr",
     "output_type": "stream",
     "text": [
      "                                                                                \r"
     ]
    }
   ],
   "source": [
    "from pyspark.sql.window import Window\n",
    "from pyspark.sql.functions import *\n",
    "df.filter(\"station_id==10\")\\\n",
    "    .select('station_id','timestamp','num_bikes_available',\\\n",
    "lag('num_bikes_available',1).over(Window.partitionBy('station_id').orderBy('timestamp')).alias('prev_num_bikes_available'))\\\n",
    ".show()"
   ]
  },
  {
   "cell_type": "code",
   "execution_count": null,
   "metadata": {},
   "outputs": [],
   "source": [
    "from datetime import datetime\n",
    "def toIntSafe(inval):\n",
    "    try:\n",
    "        return int(inval)\n",
    "    except:\n",
    "        return None\n",
    "\n",
    "def toTimeSafe(inval):\n",
    "    inval = inval.strip(\"\\\"\") # Timestamp starting and ending with a double quotation mark.\n",
    "    try:\n",
    "        return datetime.strptime(inval, \"%Y-%m-%d %H:%M:%S\")\n",
    "    except:\n",
    "        return None"
   ]
  },
  {
   "cell_type": "code",
   "execution_count": null,
   "metadata": {},
   "outputs": [],
   "source": [
    "schema = StructType([ StructField(\"station_id\", IntegerType(), False),\n",
    "                      StructField(\"num_bikes_available\", IntegerType(), True),\n",
    "                      StructField(\"num_docks_available\", IntegerType(), True),\n",
    "                      StructField(\"timestamp\", TimestampType(), True)\n",
    "                    ])"
   ]
  },
  {
   "cell_type": "code",
   "execution_count": null,
   "metadata": {},
   "outputs": [],
   "source": [
    "status_transformed = status.map(lambda x : x.split(\",\"))\\\n",
    "                           .map(lambda x : (int(x[0]), toIntSafe(x[1]), toIntSafe(x[2]), toTimeSafe(x[3])))"
   ]
  },
  {
   "cell_type": "code",
   "execution_count": null,
   "metadata": {},
   "outputs": [],
   "source": [
    "status_df = ss.createDataFrame(status_transformed, schema)"
   ]
  },
  {
   "cell_type": "code",
   "execution_count": null,
   "metadata": {},
   "outputs": [],
   "source": [
    "status_df.show(5)"
   ]
  },
  {
   "cell_type": "code",
   "execution_count": null,
   "metadata": {},
   "outputs": [],
   "source": [
    "status_df.filter('station_id == 10').show()"
   ]
  },
  {
   "cell_type": "markdown",
   "metadata": {},
   "source": [
    "## Return the current and previous number of bike at station_id, 10 at each time data was collected order by timestamp."
   ]
  },
  {
   "cell_type": "code",
   "execution_count": null,
   "metadata": {},
   "outputs": [],
   "source": [
    "from pyspark.sql.window import Window\n",
    "from pyspark.sql.functions import *"
   ]
  },
  {
   "cell_type": "code",
   "execution_count": 22,
   "metadata": {},
   "outputs": [
    {
     "name": "stderr",
     "output_type": "stream",
     "text": [
      "[Stage 11:=============================>                            (1 + 1) / 2]\r"
     ]
    },
    {
     "name": "stdout",
     "output_type": "stream",
     "text": [
      "+----------+-------------------+-------------------+------------------------+\n",
      "|station_id|          timestamp|num_bikes_available|next_num_bikes_available|\n",
      "+----------+-------------------+-------------------+------------------------+\n",
      "|        10|2014-09-01 00:00:03|                  9|                       9|\n",
      "|        10|2014-09-01 00:01:02|                  9|                       9|\n",
      "|        10|2014-09-01 00:02:02|                  9|                       9|\n",
      "|        10|2014-09-01 00:03:03|                  9|                       9|\n",
      "|        10|2014-09-01 00:04:02|                  9|                       9|\n",
      "+----------+-------------------+-------------------+------------------------+\n",
      "only showing top 5 rows\n",
      "\n"
     ]
    },
    {
     "name": "stderr",
     "output_type": "stream",
     "text": [
      "                                                                                \r"
     ]
    }
   ],
   "source": [
    "df.filter(\"station_id==10\")\\\n",
    "    .select('station_id','timestamp','num_bikes_available',\n",
    "    lead('num_bikes_available',1).over(Window.partitionBy('station_id').orderBy('timestamp')).alias('next_num_bikes_available'))\\\n",
    "    .show(5)"
   ]
  },
  {
   "cell_type": "code",
   "execution_count": 13,
   "metadata": {},
   "outputs": [],
   "source": [
    "sc.stop()"
   ]
  },
  {
   "cell_type": "code",
   "execution_count": null,
   "metadata": {},
   "outputs": [],
   "source": []
  }
 ],
 "metadata": {
  "kernelspec": {
   "display_name": "Python 3 (ipykernel)",
   "language": "python",
   "name": "python3"
  },
  "language_info": {
   "codemirror_mode": {
    "name": "ipython",
    "version": 3
   },
   "file_extension": ".py",
   "mimetype": "text/x-python",
   "name": "python",
   "nbconvert_exporter": "python",
   "pygments_lexer": "ipython3",
   "version": "3.9.10"
  },
  "varInspector": {
   "cols": {
    "lenName": 16,
    "lenType": 16,
    "lenVar": 40
   },
   "kernels_config": {
    "python": {
     "delete_cmd_postfix": "",
     "delete_cmd_prefix": "del ",
     "library": "var_list.py",
     "varRefreshCmd": "print(var_dic_list())"
    },
    "r": {
     "delete_cmd_postfix": ") ",
     "delete_cmd_prefix": "rm(",
     "library": "var_list.r",
     "varRefreshCmd": "cat(var_dic_list()) "
    }
   },
   "types_to_exclude": [
    "module",
    "function",
    "builtin_function_or_method",
    "instance",
    "_Feature"
   ],
   "window_display": false
  }
 },
 "nbformat": 4,
 "nbformat_minor": 4
}
