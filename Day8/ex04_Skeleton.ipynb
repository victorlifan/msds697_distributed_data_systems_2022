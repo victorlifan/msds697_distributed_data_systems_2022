{
 "cells": [
  {
   "cell_type": "code",
   "execution_count": 17,
   "metadata": {},
   "outputs": [
    {
     "name": "stderr",
     "output_type": "stream",
     "text": [
      "22/02/22 19:03:54 WARN Utils: Service 'SparkUI' could not bind on port 4040. Attempting port 4041.\n",
      "22/02/22 19:03:54 WARN Utils: Service 'SparkUI' could not bind on port 4041. Attempting port 4042.\n"
     ]
    }
   ],
   "source": [
    "from pyspark.sql import SparkSession\n",
    "from pyspark.sql.types import *\n",
    "\n",
    "def IntegerSafe(value): # In case there are non-integer type to be converted.\n",
    "    try:\n",
    "        return int(value)\n",
    "    except:\n",
    "        return None\n",
    "\n",
    "ss = SparkSession.builder.getOrCreate()\n",
    "sc = ss.sparkContext\n",
    "\n",
    "\n",
    "business = sc.textFile(\"../Data/SF_business/filtered_registered_business_sf.csv\")\\\n",
    "             .map(lambda x : x.split(','))\\\n",
    "             .map(lambda x : (IntegerSafe(x[0]), x[1], x[2], x[3], x[4]))\n",
    "              \n",
    "\n",
    "schema = StructType([ StructField(\"zip\", IntegerType(), True),\n",
    "                      StructField(\"name\", StringType(), False),\n",
    "                      StructField(\"street\", StringType(), True),\n",
    "                      StructField(\"city\", StringType(), True),\n",
    "                      StructField(\"state\", StringType(), True)\n",
    "                    ])\n",
    "\n",
    "business_df = ss.createDataFrame(business, schema)"
   ]
  },
  {
   "cell_type": "code",
   "execution_count": 18,
   "metadata": {},
   "outputs": [],
   "source": [
    "from pyspark.sql.functions import *"
   ]
  },
  {
   "cell_type": "markdown",
   "metadata": {},
   "source": [
    "## Create a UDF called check_sf which checks whether a given value contains “San Francisco” or “SF”.\n"
   ]
  },
  {
   "cell_type": "code",
   "execution_count": 19,
   "metadata": {},
   "outputs": [],
   "source": [
    "check_sf= udf(lambda x: ('San Francisco' in x) or ('SF' in x),BooleanType())"
   ]
  },
  {
   "cell_type": "code",
   "execution_count": 21,
   "metadata": {},
   "outputs": [
    {
     "name": "stdout",
     "output_type": "stream",
     "text": [
      "+--------------------+-----+\n",
      "|                name|check|\n",
      "+--------------------+-----+\n",
      "|   Tournahu George L|false|\n",
      "|Stephens Institut...|false|\n",
      "|Stephens Institut...|false|\n",
      "|Stephens Institut...|false|\n",
      "|Stephens Institut...|false|\n",
      "+--------------------+-----+\n",
      "only showing top 5 rows\n",
      "\n"
     ]
    },
    {
     "name": "stderr",
     "output_type": "stream",
     "text": [
      "Traceback (most recent call last):\n",
      "  File \"/Users/fanli/opt/anaconda3/envs/adv630/lib/python3.9/site-packages/pyspark/python/lib/pyspark.zip/pyspark/daemon.py\", line 186, in manager\n",
      "  File \"/Users/fanli/opt/anaconda3/envs/adv630/lib/python3.9/site-packages/pyspark/python/lib/pyspark.zip/pyspark/daemon.py\", line 74, in worker\n",
      "  File \"/Users/fanli/opt/anaconda3/envs/adv630/lib/python3.9/site-packages/pyspark/python/lib/pyspark.zip/pyspark/worker.py\", line 663, in main\n",
      "    if read_int(infile) == SpecialLengths.END_OF_STREAM:\n",
      "  File \"/Users/fanli/opt/anaconda3/envs/adv630/lib/python3.9/site-packages/pyspark/python/lib/pyspark.zip/pyspark/serializers.py\", line 564, in read_int\n",
      "    raise EOFError\n",
      "EOFError\n"
     ]
    }
   ],
   "source": [
    "business_df.select('name',\n",
    "                   check_sf(business_df['street']).alias('check')).show(5)"
   ]
  },
  {
   "cell_type": "code",
   "execution_count": 22,
   "metadata": {},
   "outputs": [],
   "source": [
    "def check(x):\n",
    "    if ('San Francisco' in x) or ('SF' in x):\n",
    "        return True\n",
    "    else:\n",
    "        return False"
   ]
  },
  {
   "cell_type": "code",
   "execution_count": 25,
   "metadata": {},
   "outputs": [
    {
     "name": "stdout",
     "output_type": "stream",
     "text": [
      "+--------------------+-----+\n",
      "|                name|check|\n",
      "+--------------------+-----+\n",
      "|   Tournahu George L| true|\n",
      "|Stephens Institut...| true|\n",
      "|Stephens Institut...| true|\n",
      "|Stephens Institut...| true|\n",
      "|Stephens Institut...| true|\n",
      "+--------------------+-----+\n",
      "only showing top 5 rows\n",
      "\n"
     ]
    },
    {
     "name": "stderr",
     "output_type": "stream",
     "text": [
      "Traceback (most recent call last):\n",
      "  File \"/Users/fanli/opt/anaconda3/envs/adv630/lib/python3.9/site-packages/pyspark/python/lib/pyspark.zip/pyspark/daemon.py\", line 186, in manager\n",
      "  File \"/Users/fanli/opt/anaconda3/envs/adv630/lib/python3.9/site-packages/pyspark/python/lib/pyspark.zip/pyspark/daemon.py\", line 74, in worker\n",
      "  File \"/Users/fanli/opt/anaconda3/envs/adv630/lib/python3.9/site-packages/pyspark/python/lib/pyspark.zip/pyspark/worker.py\", line 663, in main\n",
      "    if read_int(infile) == SpecialLengths.END_OF_STREAM:\n",
      "  File \"/Users/fanli/opt/anaconda3/envs/adv630/lib/python3.9/site-packages/pyspark/python/lib/pyspark.zip/pyspark/serializers.py\", line 564, in read_int\n",
      "    raise EOFError\n",
      "EOFError\n"
     ]
    }
   ],
   "source": [
    "check_sf = udf(check)\n",
    "business_df.select('name',\n",
    "                  check_sf(business_df['city']).alias('check')).show(5)"
   ]
  },
  {
   "cell_type": "code",
   "execution_count": 15,
   "metadata": {},
   "outputs": [],
   "source": [
    "check_sf = udf(lambda x: ('San Francisco' in x) or ('SF' in x),BooleanType())"
   ]
  },
  {
   "cell_type": "markdown",
   "metadata": {},
   "source": [
    "## Apply check_sf to business_df to check whether city is San Francisco.\n"
   ]
  },
  {
   "cell_type": "code",
   "execution_count": 26,
   "metadata": {},
   "outputs": [
    {
     "name": "stdout",
     "output_type": "stream",
     "text": [
      "+--------------------+----+\n",
      "|                name|   a|\n",
      "+--------------------+----+\n",
      "|   Tournahu George L|true|\n",
      "|Stephens Institut...|true|\n",
      "|Stephens Institut...|true|\n",
      "|Stephens Institut...|true|\n",
      "|Stephens Institut...|true|\n",
      "+--------------------+----+\n",
      "only showing top 5 rows\n",
      "\n"
     ]
    }
   ],
   "source": [
    "business_df.select('name',check_sf('city').alias('a')).show(5)"
   ]
  },
  {
   "cell_type": "code",
   "execution_count": 28,
   "metadata": {},
   "outputs": [],
   "source": [
    "ss.stop()"
   ]
  },
  {
   "cell_type": "code",
   "execution_count": null,
   "metadata": {},
   "outputs": [],
   "source": []
  }
 ],
 "metadata": {
  "kernelspec": {
   "display_name": "Python 3 (ipykernel)",
   "language": "python",
   "name": "python3"
  },
  "language_info": {
   "codemirror_mode": {
    "name": "ipython",
    "version": 3
   },
   "file_extension": ".py",
   "mimetype": "text/x-python",
   "name": "python",
   "nbconvert_exporter": "python",
   "pygments_lexer": "ipython3",
   "version": "3.9.10"
  },
  "varInspector": {
   "cols": {
    "lenName": 16,
    "lenType": 16,
    "lenVar": 40
   },
   "kernels_config": {
    "python": {
     "delete_cmd_postfix": "",
     "delete_cmd_prefix": "del ",
     "library": "var_list.py",
     "varRefreshCmd": "print(var_dic_list())"
    },
    "r": {
     "delete_cmd_postfix": ") ",
     "delete_cmd_prefix": "rm(",
     "library": "var_list.r",
     "varRefreshCmd": "cat(var_dic_list()) "
    }
   },
   "types_to_exclude": [
    "module",
    "function",
    "builtin_function_or_method",
    "instance",
    "_Feature"
   ],
   "window_display": false
  }
 },
 "nbformat": 4,
 "nbformat_minor": 4
}
