{
 "cells": [
  {
   "cell_type": "code",
   "execution_count": 27,
   "metadata": {
    "tags": []
   },
   "outputs": [],
   "source": [
    "from pyspark import SparkContext\n",
    "from pyspark.sql import SparkSession\n",
    "from pyspark.sql.types import *\n",
    "from pyspark.sql.functions import *\n",
    "\n",
    "\n",
    "def IntegerSafe(value): # In case there are non-integer type to be converted.\n",
    "    try:\n",
    "        return int(value)\n",
    "    except:\n",
    "        return None\n",
    "\n",
    "sc = SparkContext.getOrCreate()\n",
    "ss = SparkSession.builder.getOrCreate()\n",
    "\n",
    "\n",
    "# business = sc.textFile(\"../Data/filtered_registered_business_sf.csv\")\\\n",
    "#              .map(lambda x : x.split(','))\\\n",
    "#              .map(lambda x : (IntegerSafe(x[0]), x[1], x[2], x[3], x[4]))\n",
    "              \n",
    "\n",
    "# schema = StructType([ StructField(\"zip\", IntegerType(), True),\n",
    "#                       StructField(\"name\", StringType(), False),\n",
    "#                       StructField(\"street\", StringType(), True),\n",
    "#                       StructField(\"city\", StringType(), True),\n",
    "#                       StructField(\"state\", StringType(), True)\n",
    "#                     ])\n",
    "\n",
    "# business_df = ss.createDataFrame(business, schema)"
   ]
  },
  {
   "cell_type": "code",
   "execution_count": 28,
   "metadata": {},
   "outputs": [
    {
     "name": "stdout",
     "output_type": "stream",
     "text": [
      "+-----+--------------------+--------------------+-------------+-----+\n",
      "|  zip|                name|              street|         city|state|\n",
      "+-----+--------------------+--------------------+-------------+-----+\n",
      "|94123|   Tournahu George L|   3301 Broderick St|San Francisco|   CA|\n",
      "|94124|Stephens Institut...|    2225 Jerrold Ave|San Francisco|   CA|\n",
      "|94105|Stephens Institut...|180 New Montgomer...|San Francisco|   CA|\n",
      "|94108|Stephens Institut...|       540 Powell St|San Francisco|   CA|\n",
      "|94107|Stephens Institut...|     460 Townsend St|San Francisco|   CA|\n",
      "+-----+--------------------+--------------------+-------------+-----+\n",
      "only showing top 5 rows\n",
      "\n"
     ]
    }
   ],
   "source": [
    "business = sc.textFile('../Data/SF_business/filtered_registered_business_sf.csv').\\\n",
    "            map(lambda x: x.split(',')).\\\n",
    "            map(lambda x: [IntegerSafe(x[0]),x[1],\n",
    "                            x[2],x[3],x[4]])\n",
    "business.first()\n",
    "\n",
    "schema = StructType([StructField('zip',IntegerType(),True),\n",
    "                    StructField('name',StringType(),False),\n",
    "                     StructField('street',StringType(),True),\n",
    "                     StructField('city', StringType(),True),\n",
    "                     StructField('state',StringType(),True)\n",
    "                    \n",
    "])\n",
    "business_df = ss.createDataFrame(business,schema)\n",
    "business_df.show(5)"
   ]
  },
  {
   "cell_type": "markdown",
   "metadata": {},
   "source": [
    "## print 5 zip code with the most businesses"
   ]
  },
  {
   "cell_type": "code",
   "execution_count": 36,
   "metadata": {},
   "outputs": [
    {
     "name": "stderr",
     "output_type": "stream",
     "text": [
      "                                                                                \r"
     ]
    },
    {
     "name": "stdout",
     "output_type": "stream",
     "text": [
      "+-----+-----+\n",
      "|  zip|count|\n",
      "+-----+-----+\n",
      "|94110|12459|\n",
      "|94103|10919|\n",
      "|94109| 9623|\n",
      "|94107| 9394|\n",
      "|94102| 7962|\n",
      "+-----+-----+\n",
      "only showing top 5 rows\n",
      "\n"
     ]
    }
   ],
   "source": [
    "business_df.groupby('zip')\\\n",
    "            .agg(count('name').alias('count'))\\\n",
    "            .orderBy('count',ascending=0)\\\n",
    "            .show(5)\n",
    "            # .orderBy('count',ascending=0)\\\n",
    "            # .select('zip','count').show(5)"
   ]
  },
  {
   "cell_type": "code",
   "execution_count": 19,
   "metadata": {},
   "outputs": [
    {
     "name": "stdout",
     "output_type": "stream",
     "text": [
      "+-----+-----+\n",
      "|  zip|count|\n",
      "+-----+-----+\n",
      "|94110|12459|\n",
      "|94103|10919|\n",
      "|94109| 9623|\n",
      "|94107| 9394|\n",
      "|94102| 7962|\n",
      "+-----+-----+\n",
      "only showing top 5 rows\n",
      "\n"
     ]
    }
   ],
   "source": [
    "business_df.groupby('zip')\\\n",
    "            .count()\\\n",
    "            .orderBy('count',ascending=0)\\\n",
    "            .select('zip','count').show(5)"
   ]
  },
  {
   "cell_type": "code",
   "execution_count": 22,
   "metadata": {},
   "outputs": [
    {
     "name": "stdout",
     "output_type": "stream",
     "text": [
      "+-----+--------------------+--------------+-------------+-----+--------+\n",
      "|  zip|                name|        street|         city|state|onHoward|\n",
      "+-----+--------------------+--------------+-------------+-----+--------+\n",
      "|94105|Stephens Institut...| 631 Howard St|San Francisco|   CA|    true|\n",
      "|94103|Anderson Enterpri...|1525 Howard St|San Francisco|   CA|    true|\n",
      "|94103|Avis Rent A Car S...| 821 Howard St|San Francisco|   CA|    true|\n",
      "|94103|German Motors Cor...|1675 Howard St|San Francisco|   CA|    true|\n",
      "|94103|German Motors Cor...|1675 Howard St|San Francisco|   CA|    true|\n",
      "+-----+--------------------+--------------+-------------+-----+--------+\n",
      "only showing top 5 rows\n",
      "\n"
     ]
    }
   ],
   "source": [
    "business_df.withColumn('onHoward',business_df['street'].contains('Howard')==1)\\\n",
    "            .where('onHoward==1')\\\n",
    "            .show(5)"
   ]
  },
  {
   "cell_type": "code",
   "execution_count": null,
   "metadata": {},
   "outputs": [],
   "source": []
  },
  {
   "cell_type": "code",
   "execution_count": 16,
   "metadata": {},
   "outputs": [
    {
     "name": "stderr",
     "output_type": "stream",
     "text": [
      "[Stage 14:>                                                         (0 + 2) / 2]\r"
     ]
    },
    {
     "name": "stdout",
     "output_type": "stream",
     "text": [
      "+-----+-----+\n",
      "|  zip|count|\n",
      "+-----+-----+\n",
      "|94110|12459|\n",
      "|94103|10919|\n",
      "|94109| 9623|\n",
      "|94107| 9394|\n",
      "|94102| 7962|\n",
      "+-----+-----+\n",
      "only showing top 5 rows\n",
      "\n"
     ]
    },
    {
     "name": "stderr",
     "output_type": "stream",
     "text": [
      "                                                                                \r"
     ]
    }
   ],
   "source": [
    "business_df.groupby('zip').count().sort('count',ascending=0).show(5)"
   ]
  },
  {
   "cell_type": "markdown",
   "metadata": {},
   "source": [
    "## Create a column named \"onHoward\" to see whether it is on Howard street"
   ]
  },
  {
   "cell_type": "code",
   "execution_count": 22,
   "metadata": {},
   "outputs": [
    {
     "name": "stdout",
     "output_type": "stream",
     "text": [
      "+-----+--------------------+--------------+-------------+-----+--------+\n",
      "|  zip|                name|        street|         city|state|onHoward|\n",
      "+-----+--------------------+--------------+-------------+-----+--------+\n",
      "|94105|Stephens Institut...| 631 Howard St|San Francisco|   CA|    true|\n",
      "|94103|Anderson Enterpri...|1525 Howard St|San Francisco|   CA|    true|\n",
      "|94103|Avis Rent A Car S...| 821 Howard St|San Francisco|   CA|    true|\n",
      "|94103|German Motors Cor...|1675 Howard St|San Francisco|   CA|    true|\n",
      "|94103|German Motors Cor...|1675 Howard St|San Francisco|   CA|    true|\n",
      "+-----+--------------------+--------------+-------------+-----+--------+\n",
      "only showing top 5 rows\n",
      "\n"
     ]
    }
   ],
   "source": [
    "business_df.withColumn('onHoward',business_df['street'].contains('Howard'))\\\n",
    "            .filter('onHoward == 1').show(5)"
   ]
  },
  {
   "cell_type": "code",
   "execution_count": 37,
   "metadata": {},
   "outputs": [],
   "source": [
    "sc.stop()"
   ]
  },
  {
   "cell_type": "code",
   "execution_count": null,
   "metadata": {},
   "outputs": [],
   "source": []
  }
 ],
 "metadata": {
  "kernelspec": {
   "display_name": "Python 3 (ipykernel)",
   "language": "python",
   "name": "python3"
  },
  "language_info": {
   "codemirror_mode": {
    "name": "ipython",
    "version": 3
   },
   "file_extension": ".py",
   "mimetype": "text/x-python",
   "name": "python",
   "nbconvert_exporter": "python",
   "pygments_lexer": "ipython3",
   "version": "3.9.10"
  },
  "varInspector": {
   "cols": {
    "lenName": 16,
    "lenType": 16,
    "lenVar": 40
   },
   "kernels_config": {
    "python": {
     "delete_cmd_postfix": "",
     "delete_cmd_prefix": "del ",
     "library": "var_list.py",
     "varRefreshCmd": "print(var_dic_list())"
    },
    "r": {
     "delete_cmd_postfix": ") ",
     "delete_cmd_prefix": "rm(",
     "library": "var_list.r",
     "varRefreshCmd": "cat(var_dic_list()) "
    }
   },
   "types_to_exclude": [
    "module",
    "function",
    "builtin_function_or_method",
    "instance",
    "_Feature"
   ],
   "window_display": false
  }
 },
 "nbformat": 4,
 "nbformat_minor": 4
}
