{
 "cells": [
  {
   "cell_type": "markdown",
   "metadata": {},
   "source": [
    "## Step 1.  Create an RDD using filtered_registered_business_sf.csv seperated by commas"
   ]
  },
  {
   "cell_type": "code",
   "execution_count": 7,
   "metadata": {},
   "outputs": [],
   "source": [
    "from pyspark import SparkContext\n",
    "sc = SparkContext.getOrCreate()"
   ]
  },
  {
   "cell_type": "code",
   "execution_count": 10,
   "metadata": {},
   "outputs": [
    {
     "data": {
      "text/plain": [
       "[94123, 'Tournahu George L', '3301 Broderick St', 'San Francisco', 'CA']"
      ]
     },
     "execution_count": 10,
     "metadata": {},
     "output_type": "execute_result"
    }
   ],
   "source": [
    "path = '../Data/SF_business/filtered_registered_business_sf.csv'\n",
    "rdd = sc.textFile(path).map(lambda x: x.split(','))\\\n",
    "        .map(lambda x: [int(x[0]),str(x[1]),str(x[2]),str(x[3]),str(x[4])])\n",
    "rdd.first()"
   ]
  },
  {
   "cell_type": "markdown",
   "metadata": {},
   "source": [
    "## Step 2.  (option 1) Convert RDD to DataFrame using .toDF()"
   ]
  },
  {
   "cell_type": "code",
   "execution_count": 11,
   "metadata": {},
   "outputs": [],
   "source": [
    "from pyspark.sql import SparkSession\n",
    "ss = SparkSession.builder.getOrCreate()"
   ]
  },
  {
   "cell_type": "code",
   "execution_count": 15,
   "metadata": {},
   "outputs": [
    {
     "name": "stdout",
     "output_type": "stream",
     "text": [
      "+-----+--------------------+--------------------+-------------+-----+\n",
      "|  zip|             address|              street|         city|state|\n",
      "+-----+--------------------+--------------------+-------------+-----+\n",
      "|94123|   Tournahu George L|   3301 Broderick St|San Francisco|   CA|\n",
      "|94124|Stephens Institut...|    2225 Jerrold Ave|San Francisco|   CA|\n",
      "|94105|Stephens Institut...|180 New Montgomer...|San Francisco|   CA|\n",
      "|94108|Stephens Institut...|       540 Powell St|San Francisco|   CA|\n",
      "|94107|Stephens Institut...|     460 Townsend St|San Francisco|   CA|\n",
      "|94109|Stephens Institut...|1835-49 Van Ness Ave|San Francisco|   CA|\n",
      "|94102|Stephens Institut...|       620 Sutter St|San Francisco|   CA|\n",
      "|94102|Stephens Institut...|       655 Sutter St|San Francisco|   CA|\n",
      "|94109|Stephens Institut...|        1055 Pine St|San Francisco|   CA|\n",
      "|94107|Stephens Institut...|    121 Wisconsin St|San Francisco|   CA|\n",
      "|94102|Stephens Institut...|        150 Hayes St|San Francisco|   CA|\n",
      "|94133|Stephens Institut...|    2300 Stockton St|San Francisco|   CA|\n",
      "|94133|Stephens Institut...| 2801 Leavenworth St|San Francisco|   CA|\n",
      "|94107|Stephens Institut...|     466 Townsend St|San Francisco|   CA|\n",
      "|94102|Stephens Institut...|         491 Post St|San Francisco|   CA|\n",
      "|94107|Stephens Institut...|      601 Brannan St|San Francisco|   CA|\n",
      "|94102|Stephens Institut...|         625 Polk St|San Francisco|   CA|\n",
      "|94105|Stephens Institut...|       631 Howard St|San Francisco|   CA|\n",
      "|94102|Stephens Institut...|       688 Sutter St|San Francisco|   CA|\n",
      "|94111|Stephens Institut...|   700 Montgomery St|San Francisco|   CA|\n",
      "+-----+--------------------+--------------------+-------------+-----+\n",
      "only showing top 20 rows\n",
      "\n"
     ]
    }
   ],
   "source": [
    "business_df = rdd.toDF(['zip','name','street','city','state'])\n",
    "business_df.show()"
   ]
  },
  {
   "cell_type": "code",
   "execution_count": 16,
   "metadata": {},
   "outputs": [
    {
     "name": "stdout",
     "output_type": "stream",
     "text": [
      "root\n",
      " |-- zip: long (nullable = true)\n",
      " |-- address: string (nullable = true)\n",
      " |-- street: string (nullable = true)\n",
      " |-- city: string (nullable = true)\n",
      " |-- state: string (nullable = true)\n",
      "\n"
     ]
    }
   ],
   "source": [
    "business_df.printSchema()"
   ]
  },
  {
   "cell_type": "code",
   "execution_count": null,
   "metadata": {},
   "outputs": [],
   "source": []
  },
  {
   "cell_type": "markdown",
   "metadata": {},
   "source": [
    "## Step 2.  (option 2)  Add column names using a list of strings when creating a dataframe"
   ]
  },
  {
   "cell_type": "code",
   "execution_count": null,
   "metadata": {},
   "outputs": [],
   "source": []
  },
  {
   "cell_type": "code",
   "execution_count": null,
   "metadata": {},
   "outputs": [],
   "source": []
  },
  {
   "cell_type": "code",
   "execution_count": null,
   "metadata": {},
   "outputs": [],
   "source": []
  },
  {
   "cell_type": "code",
   "execution_count": null,
   "metadata": {},
   "outputs": [],
   "source": []
  },
  {
   "cell_type": "markdown",
   "metadata": {},
   "source": [
    "## Extra"
   ]
  },
  {
   "cell_type": "code",
   "execution_count": 22,
   "metadata": {},
   "outputs": [
    {
     "name": "stdout",
     "output_type": "stream",
     "text": [
      "+--------------------+-----+\n",
      "|                name|  zip|\n",
      "+--------------------+-----+\n",
      "|   Tournahu George L|94123|\n",
      "|Stephens Institut...|94124|\n",
      "|Stephens Institut...|94105|\n",
      "|Stephens Institut...|94108|\n",
      "|Stephens Institut...|94107|\n",
      "|Stephens Institut...|94109|\n",
      "|Stephens Institut...|94102|\n",
      "|Stephens Institut...|94102|\n",
      "|Stephens Institut...|94109|\n",
      "|Stephens Institut...|94107|\n",
      "|Stephens Institut...|94102|\n",
      "|Stephens Institut...|94133|\n",
      "|Stephens Institut...|94133|\n",
      "|Stephens Institut...|94107|\n",
      "|Stephens Institut...|94102|\n",
      "|Stephens Institut...|94107|\n",
      "|Stephens Institut...|94102|\n",
      "|Stephens Institut...|94105|\n",
      "|Stephens Institut...|94102|\n",
      "|Stephens Institut...|94111|\n",
      "+--------------------+-----+\n",
      "only showing top 20 rows\n",
      "\n"
     ]
    }
   ],
   "source": [
    "rdd.map(lambda x: [x[1],x[0]]).toDF(['name','zip']).show()"
   ]
  },
  {
   "cell_type": "code",
   "execution_count": 23,
   "metadata": {},
   "outputs": [],
   "source": [
    "sc.stop()"
   ]
  },
  {
   "cell_type": "code",
   "execution_count": null,
   "metadata": {},
   "outputs": [],
   "source": []
  },
  {
   "cell_type": "code",
   "execution_count": null,
   "metadata": {},
   "outputs": [],
   "source": []
  }
 ],
 "metadata": {
  "anaconda-cloud": {},
  "kernelspec": {
   "display_name": "Python 3 (ipykernel)",
   "language": "python",
   "name": "python3"
  },
  "language_info": {
   "codemirror_mode": {
    "name": "ipython",
    "version": 3
   },
   "file_extension": ".py",
   "mimetype": "text/x-python",
   "name": "python",
   "nbconvert_exporter": "python",
   "pygments_lexer": "ipython3",
   "version": "3.9.10"
  },
  "varInspector": {
   "cols": {
    "lenName": 16,
    "lenType": 16,
    "lenVar": 40
   },
   "kernels_config": {
    "python": {
     "delete_cmd_postfix": "",
     "delete_cmd_prefix": "del ",
     "library": "var_list.py",
     "varRefreshCmd": "print(var_dic_list())"
    },
    "r": {
     "delete_cmd_postfix": ") ",
     "delete_cmd_prefix": "rm(",
     "library": "var_list.r",
     "varRefreshCmd": "cat(var_dic_list()) "
    }
   },
   "types_to_exclude": [
    "module",
    "function",
    "builtin_function_or_method",
    "instance",
    "_Feature"
   ],
   "window_display": false
  }
 },
 "nbformat": 4,
 "nbformat_minor": 4
}
